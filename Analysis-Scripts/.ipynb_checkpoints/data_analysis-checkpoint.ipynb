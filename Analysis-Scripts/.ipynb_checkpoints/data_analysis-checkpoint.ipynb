{
 "cells": [
  {
   "cell_type": "code",
   "execution_count": 2,
   "id": "b8b9498d",
   "metadata": {},
   "outputs": [],
   "source": [
    "import pandas as pd"
   ]
  },
  {
   "cell_type": "code",
   "execution_count": null,
   "id": "d8ecffc0",
   "metadata": {},
   "outputs": [],
   "source": [
    "path = \"gaze_agent_merged/\"\n",
    "data = {}\n",
    "\n",
    "for i in range(1,36):\n",
    "    if i<10:\n",
    "        participant=\"P0\"+str(i)\n",
    "    else:\n",
    "        participant=\"P\"+str(i)\n",
    "    data[participant][\"000\"]=pd.read_csv(path+participant+\"_000_merged.csv\")\n",
    "    data[participant][\"001\"]=pd.read_csv(path+participant+\"_001_merged.csv\")\n",
    "    "
   ]
  }
 ],
 "metadata": {
  "kernelspec": {
   "display_name": "Python 3",
   "language": "python",
   "name": "python3"
  },
  "language_info": {
   "codemirror_mode": {
    "name": "ipython",
    "version": 3
   },
   "file_extension": ".py",
   "mimetype": "text/x-python",
   "name": "python",
   "nbconvert_exporter": "python",
   "pygments_lexer": "ipython3",
   "version": "3.8.8"
  }
 },
 "nbformat": 4,
 "nbformat_minor": 5
}
