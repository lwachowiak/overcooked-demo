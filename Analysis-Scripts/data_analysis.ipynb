{
 "cells": [
  {
   "cell_type": "code",
   "execution_count": 140,
   "id": "d6ad7bbd",
   "metadata": {},
   "outputs": [],
   "source": [
    "import pandas as pd"
   ]
  },
  {
   "cell_type": "code",
   "execution_count": 153,
   "id": "7aeb8ebc",
   "metadata": {},
   "outputs": [],
   "source": [
    "# read in merged csvs\n",
    "path = \"gaze_agent_merged/\"\n",
    "data = {}\n",
    "\n",
    "for i in range(4,17):\n",
    "    if i<10:\n",
    "        participant=\"P0\"+str(i)\n",
    "    else:\n",
    "        participant=\"P\"+str(i)\n",
    "        data[participant]={}\n",
    "    # add dict entry\n",
    "    data[participant]={}\n",
    "    data[participant][\"000\"]=pd.read_csv(path+participant+\"_000_merged.csv\")\n",
    "    data[participant][\"001\"]=pd.read_csv(path+participant+\"_001_merged.csv\")\n",
    "    "
   ]
  },
  {
   "cell_type": "code",
   "execution_count": 154,
   "id": "01a7ee5d",
   "metadata": {},
   "outputs": [
    {
     "name": "stdout",
     "output_type": "stream",
     "text": [
      "13 files were loaded\n"
     ]
    }
   ],
   "source": [
    "# check if all 35 are read in\n",
    "print(len(data), \"files were loaded\")"
   ]
  },
  {
   "cell_type": "code",
   "execution_count": 156,
   "id": "79b7c28b",
   "metadata": {},
   "outputs": [
    {
     "data": {
      "text/html": [
       "<div>\n",
       "<style scoped>\n",
       "    .dataframe tbody tr th:only-of-type {\n",
       "        vertical-align: middle;\n",
       "    }\n",
       "\n",
       "    .dataframe tbody tr th {\n",
       "        vertical-align: top;\n",
       "    }\n",
       "\n",
       "    .dataframe thead th {\n",
       "        text-align: right;\n",
       "    }\n",
       "</style>\n",
       "<table border=\"1\" class=\"dataframe\">\n",
       "  <thead>\n",
       "    <tr style=\"text-align: right;\">\n",
       "      <th></th>\n",
       "      <th>Unnamed: 0</th>\n",
       "      <th>norm_pos_x</th>\n",
       "      <th>norm_pos_y</th>\n",
       "      <th>Human x</th>\n",
       "      <th>Human y</th>\n",
       "      <th>Agent x</th>\n",
       "      <th>Agent y</th>\n",
       "      <th>Frame number</th>\n",
       "      <th>gaze_to_human</th>\n",
       "      <th>gaze_to_ai</th>\n",
       "      <th>Gaze_focus</th>\n",
       "      <th>Condition</th>\n",
       "    </tr>\n",
       "  </thead>\n",
       "  <tbody>\n",
       "    <tr>\n",
       "      <th>0</th>\n",
       "      <td>0</td>\n",
       "      <td>581.856218</td>\n",
       "      <td>358.744222</td>\n",
       "      <td>542.5</td>\n",
       "      <td>382</td>\n",
       "      <td>390.5</td>\n",
       "      <td>392</td>\n",
       "      <td>0</td>\n",
       "      <td>45.713709</td>\n",
       "      <td>194.224481</td>\n",
       "      <td>Env</td>\n",
       "      <td>TODO</td>\n",
       "    </tr>\n",
       "    <tr>\n",
       "      <th>1</th>\n",
       "      <td>1</td>\n",
       "      <td>582.782910</td>\n",
       "      <td>357.986887</td>\n",
       "      <td>542.5</td>\n",
       "      <td>383</td>\n",
       "      <td>390.0</td>\n",
       "      <td>392</td>\n",
       "      <td>1</td>\n",
       "      <td>47.416966</td>\n",
       "      <td>195.760421</td>\n",
       "      <td>Env</td>\n",
       "      <td>TODO</td>\n",
       "    </tr>\n",
       "    <tr>\n",
       "      <th>2</th>\n",
       "      <td>2</td>\n",
       "      <td>579.689265</td>\n",
       "      <td>364.118326</td>\n",
       "      <td>542.5</td>\n",
       "      <td>382</td>\n",
       "      <td>390.0</td>\n",
       "      <td>392</td>\n",
       "      <td>2</td>\n",
       "      <td>41.264945</td>\n",
       "      <td>191.727424</td>\n",
       "      <td>Env</td>\n",
       "      <td>TODO</td>\n",
       "    </tr>\n",
       "    <tr>\n",
       "      <th>3</th>\n",
       "      <td>3</td>\n",
       "      <td>574.674896</td>\n",
       "      <td>361.442326</td>\n",
       "      <td>543.0</td>\n",
       "      <td>382</td>\n",
       "      <td>390.5</td>\n",
       "      <td>392</td>\n",
       "      <td>3</td>\n",
       "      <td>37.761316</td>\n",
       "      <td>186.692699</td>\n",
       "      <td>Human</td>\n",
       "      <td>TODO</td>\n",
       "    </tr>\n",
       "    <tr>\n",
       "      <th>4</th>\n",
       "      <td>4</td>\n",
       "      <td>573.644659</td>\n",
       "      <td>362.213375</td>\n",
       "      <td>543.0</td>\n",
       "      <td>382</td>\n",
       "      <td>391.0</td>\n",
       "      <td>390</td>\n",
       "      <td>4</td>\n",
       "      <td>36.477468</td>\n",
       "      <td>184.746226</td>\n",
       "      <td>Human</td>\n",
       "      <td>TODO</td>\n",
       "    </tr>\n",
       "  </tbody>\n",
       "</table>\n",
       "</div>"
      ],
      "text/plain": [
       "   Unnamed: 0  norm_pos_x  norm_pos_y  Human x  Human y  Agent x  Agent y  \\\n",
       "0           0  581.856218  358.744222    542.5      382    390.5      392   \n",
       "1           1  582.782910  357.986887    542.5      383    390.0      392   \n",
       "2           2  579.689265  364.118326    542.5      382    390.0      392   \n",
       "3           3  574.674896  361.442326    543.0      382    390.5      392   \n",
       "4           4  573.644659  362.213375    543.0      382    391.0      390   \n",
       "\n",
       "   Frame number  gaze_to_human  gaze_to_ai Gaze_focus Condition  \n",
       "0             0      45.713709  194.224481        Env      TODO  \n",
       "1             1      47.416966  195.760421        Env      TODO  \n",
       "2             2      41.264945  191.727424        Env      TODO  \n",
       "3             3      37.761316  186.692699      Human      TODO  \n",
       "4             4      36.477468  184.746226      Human      TODO  "
      ]
     },
     "execution_count": 156,
     "metadata": {},
     "output_type": "execute_result"
    }
   ],
   "source": [
    "# sanity check\n",
    "data[\"P04\"][\"001\"].head()"
   ]
  },
  {
   "cell_type": "markdown",
   "id": "c28b5f16",
   "metadata": {},
   "source": [
    "# Frame Counts "
   ]
  },
  {
   "cell_type": "code",
   "execution_count": 157,
   "id": "f8ff61c9",
   "metadata": {},
   "outputs": [],
   "source": [
    "counters={\"lvl1\":{\"Gaze\":{\"AI\":0, \"Human\":0, \"Env\":0}, \n",
    "                  \"Condition\":{\"Error\":0, \"Confusion\":0, \"Normal\":0}},\n",
    "          \"lvl2\":{\"Gaze\":{\"AI\":0, \"Human\":0, \"Env\":0}, \n",
    "                  \"Condition\":{\"Error\":0, \"Confusion\":0, \"Normal\":0}}\n",
    "         }\n"
   ]
  },
  {
   "cell_type": "code",
   "execution_count": 158,
   "id": "c9fa5c66",
   "metadata": {},
   "outputs": [
    {
     "name": "stdout",
     "output_type": "stream",
     "text": [
      "P04\n",
      "P05\n",
      "P06\n",
      "P07\n",
      "P08\n",
      "P09\n",
      "P10\n",
      "P11\n",
      "P12\n",
      "P13\n",
      "P14\n",
      "P15\n",
      "P16\n"
     ]
    },
    {
     "data": {
      "text/plain": [
       "{'lvl1': {'Gaze': {'AI': 511, 'Human': 2792, 'Env': 11212},\n",
       "  'Condition': {'Error': 0, 'Confusion': 0, 'Normal': 0}},\n",
       " 'lvl2': {'Gaze': {'AI': 828, 'Human': 2924, 'Env': 10267},\n",
       "  'Condition': {'Error': 0, 'Confusion': 0, 'Normal': 0}}}"
      ]
     },
     "execution_count": 158,
     "metadata": {},
     "output_type": "execute_result"
    }
   ],
   "source": [
    "for p in data:\n",
    "    print(p)\n",
    "    # add counts for lvl1\n",
    "    counters[\"lvl1\"][\"Gaze\"][\"AI\"]+=(data[p][\"000\"].Gaze_focus == 'AI').sum()\n",
    "    counters[\"lvl1\"][\"Gaze\"][\"Human\"]+=(data[p][\"000\"].Gaze_focus == 'Human').sum()\n",
    "    counters[\"lvl1\"][\"Gaze\"][\"Env\"]+=(data[p][\"000\"].Gaze_focus == 'Env').sum()\n",
    "    counters[\"lvl1\"][\"Condition\"][\"Error\"]+=(data[p][\"000\"].Condition == 'Error').sum()\n",
    "    counters[\"lvl1\"][\"Condition\"][\"Confusion\"]+=(data[p][\"000\"].Condition == 'Confusion').sum()\n",
    "    counters[\"lvl1\"][\"Condition\"][\"Normal\"]+=(data[p][\"000\"].Condition == 'Normal').sum()\n",
    "    \n",
    "    # add counts for lvl2\n",
    "    counters[\"lvl2\"][\"Gaze\"][\"AI\"]+=(data[p][\"001\"].Gaze_focus == 'AI').sum()\n",
    "    counters[\"lvl2\"][\"Gaze\"][\"Human\"]+=(data[p][\"001\"].Gaze_focus == 'Human').sum()\n",
    "    counters[\"lvl2\"][\"Gaze\"][\"Env\"]+=(data[p][\"001\"].Gaze_focus == 'Env').sum()\n",
    "    counters[\"lvl2\"][\"Condition\"][\"Error\"]+=(data[p][\"001\"].Condition == 'Error').sum()\n",
    "    counters[\"lvl2\"][\"Condition\"][\"Confusion\"]+=(data[p][\"001\"].Condition == 'Confusion').sum()\n",
    "    counters[\"lvl2\"][\"Condition\"][\"Normal\"]+=(data[p][\"001\"].Condition == 'Normal').sum()\n",
    "    \n",
    "counters    "
   ]
  },
  {
   "cell_type": "code",
   "execution_count": 166,
   "id": "240f9420",
   "metadata": {},
   "outputs": [],
   "source": [
    "#counters={\"lvl1\":{\"Gaze\":{\"AI\":[], \"Human\":[], \"Env\":[]}, \n",
    "#                  \"Condition\":{\"Error\":[], \"Confusion\":[], \"Normal\":[]}},\n",
    "#          \"lvl2\":{\"Gaze\":{\"AI\":[], \"Human\":[], \"Env\":[]}, \n",
    "#                  \"Condition\":{\"Error\":[], \"Confusion\":[], \"Normal\":[]}}\n",
    "#         }\n",
    "#\n",
    "#for p in data:\n",
    "#    print(p)\n",
    "#    # add counts for lvl1\n",
    "#    counters[\"lvl1\"][\"Gaze\"][\"AI\"].append((data[p][\"000\"].Gaze_focus == 'AI').sum())\n",
    "#    counters[\"lvl1\"][\"Gaze\"][\"Human\"].append((data[p][\"000\"].Gaze_focus == 'Human').sum())\n",
    "#    counters[\"lvl1\"][\"Gaze\"][\"Env\"].append((data[p][\"000\"].Gaze_focus == 'Env').sum())\n",
    "#    counters[\"lvl1\"][\"Condition\"][\"Error\"].append((data[p][\"000\"].Condition == 'Error').sum())\n",
    "#    counters[\"lvl1\"][\"Condition\"][\"Confusion\"].append((data[p][\"000\"].Condition == 'Confusion').sum())\n",
    "#    counters[\"lvl1\"][\"Condition\"][\"Normal\"].append((data[p][\"000\"].Condition == 'Normal').sum())\n",
    "#    \n",
    "#    # add counts for lvl2\n",
    "#    counters[\"lvl2\"][\"Gaze\"][\"AI\"].append((data[p][\"001\"].Gaze_focus == 'AI').sum())\n",
    "#    counters[\"lvl2\"][\"Gaze\"][\"Human\"].append((data[p][\"001\"].Gaze_focus == 'Human').sum())\n",
    "#    counters[\"lvl2\"][\"Gaze\"][\"Env\"].append((data[p][\"001\"].Gaze_focus == 'Env').sum())\n",
    "#    counters[\"lvl2\"][\"Condition\"][\"Error\"].append((data[p][\"001\"].Condition == 'Error').sum())\n",
    "#    counters[\"lvl2\"][\"Condition\"][\"Confusion\"].append((data[p][\"001\"].Condition == 'Confusion').sum())\n",
    "#    counters[\"lvl2\"][\"Condition\"][\"Normal\"].append((data[p][\"001\"].Condition == 'Normal').sum())\n",
    "#    \n",
    "#counters    "
   ]
  },
  {
   "cell_type": "markdown",
   "id": "37e3593e",
   "metadata": {},
   "source": [
    "# Compute AoI Analysis for the 3 conditions"
   ]
  },
  {
   "cell_type": "code",
   "execution_count": 159,
   "id": "e981d0da",
   "metadata": {},
   "outputs": [
    {
     "name": "stdout",
     "output_type": "stream",
     "text": [
      "P04\n",
      "P05\n",
      "P06\n",
      "P07\n",
      "P08\n",
      "P09\n",
      "P10\n",
      "P11\n",
      "P12\n",
      "P13\n",
      "P14\n",
      "P15\n",
      "P16\n"
     ]
    }
   ],
   "source": [
    "# for each particpant compute the percentage looked at agent/human/env for the different conditions conf/err/bau\n",
    "for p in data:\n",
    "    print(p)\n",
    "    # compute stats\n",
    "    data[p][\"stats\"]={}\n",
    "    lvls_concatenated=pd.concat([data[p][\"000\"], data[p][\"001\"]], ignore_index=True, sort=False)\n",
    "    data[p][\"stats\"][\"overall\"]=lvls_concatenated.groupby(\"Condition\")[\"Gaze_focus\"].value_counts(normalize=True).unstack().fillna(0)\n",
    "    data[p][\"stats\"][\"lvl1\"]=data[p][\"000\"].groupby(\"Condition\")[\"Gaze_focus\"].value_counts(normalize=True).unstack().fillna(0)\n",
    "    data[p][\"stats\"][\"lvl2\"]=data[p][\"001\"].groupby(\"Condition\")[\"Gaze_focus\"].value_counts(normalize=True).unstack().fillna(0)"
   ]
  },
  {
   "cell_type": "code",
   "execution_count": 160,
   "id": "2c29efab",
   "metadata": {},
   "outputs": [
    {
     "data": {
      "text/plain": [
       "<AxesSubplot:xlabel='Condition'>"
      ]
     },
     "execution_count": 160,
     "metadata": {},
     "output_type": "execute_result"
    },
    {
     "data": {
      "image/png": "[encoded data removed]",
      "text/plain": [
       "<Figure size 432x288 with 1 Axes>"
      ]
     },
     "metadata": {
      "needs_background": "light"
     },
     "output_type": "display_data"
    }
   ],
   "source": [
    "# plot that data for a single sample\n",
    "data[\"P09\"][\"stats\"][\"overall\"].plot(kind=\"bar\")"
   ]
  },
  {
   "cell_type": "code",
   "execution_count": 161,
   "id": "c55d9b41",
   "metadata": {},
   "outputs": [
    {
     "data": {
      "text/plain": [
       "[Gaze_focus        AI       Env     Human\n",
       " Condition                               \n",
       " TODO        0.030594  0.882867  0.086538,\n",
       " Gaze_focus        AI     Env     Human\n",
       " Condition                             \n",
       " TODO        0.021898  0.6618  0.316302,\n",
       " Gaze_focus        AI       Env     Human\n",
       " Condition                               \n",
       " TODO        0.020843  0.898004  0.081153,\n",
       " Gaze_focus        AI       Env     Human\n",
       " Condition                               \n",
       " TODO        0.046238  0.688577  0.265186,\n",
       " Gaze_focus        AI       Env     Human\n",
       " Condition                               \n",
       " TODO        0.030195  0.829041  0.140764,\n",
       " Gaze_focus        AI       Env     Human\n",
       " Condition                               \n",
       " TODO        0.039055  0.693006  0.267938,\n",
       " Gaze_focus        AI       Env     Human\n",
       " Condition                               \n",
       " TODO        0.025788  0.696275  0.277937,\n",
       " Gaze_focus        AI       Env     Human\n",
       " Condition                               \n",
       " TODO        0.027816  0.851345  0.120839,\n",
       " Gaze_focus        AI       Env     Human\n",
       " Condition                               \n",
       " TODO        0.065197  0.788338  0.146465,\n",
       " Gaze_focus        AI       Env     Human\n",
       " Condition                               \n",
       " TODO        0.074583  0.500491  0.424926,\n",
       " Gaze_focus        AI      Env     Human\n",
       " Condition                              \n",
       " TODO        0.095837  0.73157  0.172593,\n",
       " Gaze_focus        AI       Env     Human\n",
       " Condition                               \n",
       " TODO        0.047824  0.831107  0.121069,\n",
       " Gaze_focus        AI       Env     Human\n",
       " Condition                               \n",
       " TODO        0.083877  0.691519  0.224604]"
      ]
     },
     "execution_count": 161,
     "metadata": {},
     "output_type": "execute_result"
    }
   ],
   "source": [
    "# plot that data averaged over all\n",
    "list_of_stats=[]\n",
    "for p in data:\n",
    "    list_of_stats.append(data[p][\"stats\"][\"overall\"])\n",
    "list_of_stats"
   ]
  },
  {
   "cell_type": "code",
   "execution_count": 162,
   "id": "1d14e61b",
   "metadata": {},
   "outputs": [
    {
     "data": {
      "text/html": [
       "<div>\n",
       "<style scoped>\n",
       "    .dataframe tbody tr th:only-of-type {\n",
       "        vertical-align: middle;\n",
       "    }\n",
       "\n",
       "    .dataframe tbody tr th {\n",
       "        vertical-align: top;\n",
       "    }\n",
       "\n",
       "    .dataframe thead th {\n",
       "        text-align: right;\n",
       "    }\n",
       "</style>\n",
       "<table border=\"1\" class=\"dataframe\">\n",
       "  <thead>\n",
       "    <tr style=\"text-align: right;\">\n",
       "      <th>Gaze_focus</th>\n",
       "      <th>AI</th>\n",
       "      <th>Env</th>\n",
       "      <th>Human</th>\n",
       "    </tr>\n",
       "    <tr>\n",
       "      <th>Condition</th>\n",
       "      <th></th>\n",
       "      <th></th>\n",
       "      <th></th>\n",
       "    </tr>\n",
       "  </thead>\n",
       "  <tbody>\n",
       "    <tr>\n",
       "      <th>TODO</th>\n",
       "      <td>0.030594</td>\n",
       "      <td>0.882867</td>\n",
       "      <td>0.086538</td>\n",
       "    </tr>\n",
       "    <tr>\n",
       "      <th>TODO</th>\n",
       "      <td>0.021898</td>\n",
       "      <td>0.661800</td>\n",
       "      <td>0.316302</td>\n",
       "    </tr>\n",
       "    <tr>\n",
       "      <th>TODO</th>\n",
       "      <td>0.020843</td>\n",
       "      <td>0.898004</td>\n",
       "      <td>0.081153</td>\n",
       "    </tr>\n",
       "    <tr>\n",
       "      <th>TODO</th>\n",
       "      <td>0.046238</td>\n",
       "      <td>0.688577</td>\n",
       "      <td>0.265186</td>\n",
       "    </tr>\n",
       "    <tr>\n",
       "      <th>TODO</th>\n",
       "      <td>0.030195</td>\n",
       "      <td>0.829041</td>\n",
       "      <td>0.140764</td>\n",
       "    </tr>\n",
       "    <tr>\n",
       "      <th>TODO</th>\n",
       "      <td>0.039055</td>\n",
       "      <td>0.693006</td>\n",
       "      <td>0.267938</td>\n",
       "    </tr>\n",
       "    <tr>\n",
       "      <th>TODO</th>\n",
       "      <td>0.025788</td>\n",
       "      <td>0.696275</td>\n",
       "      <td>0.277937</td>\n",
       "    </tr>\n",
       "    <tr>\n",
       "      <th>TODO</th>\n",
       "      <td>0.027816</td>\n",
       "      <td>0.851345</td>\n",
       "      <td>0.120839</td>\n",
       "    </tr>\n",
       "    <tr>\n",
       "      <th>TODO</th>\n",
       "      <td>0.065197</td>\n",
       "      <td>0.788338</td>\n",
       "      <td>0.146465</td>\n",
       "    </tr>\n",
       "    <tr>\n",
       "      <th>TODO</th>\n",
       "      <td>0.074583</td>\n",
       "      <td>0.500491</td>\n",
       "      <td>0.424926</td>\n",
       "    </tr>\n",
       "    <tr>\n",
       "      <th>TODO</th>\n",
       "      <td>0.095837</td>\n",
       "      <td>0.731570</td>\n",
       "      <td>0.172593</td>\n",
       "    </tr>\n",
       "    <tr>\n",
       "      <th>TODO</th>\n",
       "      <td>0.047824</td>\n",
       "      <td>0.831107</td>\n",
       "      <td>0.121069</td>\n",
       "    </tr>\n",
       "    <tr>\n",
       "      <th>TODO</th>\n",
       "      <td>0.083877</td>\n",
       "      <td>0.691519</td>\n",
       "      <td>0.224604</td>\n",
       "    </tr>\n",
       "  </tbody>\n",
       "</table>\n",
       "</div>"
      ],
      "text/plain": [
       "Gaze_focus        AI       Env     Human\n",
       "Condition                               \n",
       "TODO        0.030594  0.882867  0.086538\n",
       "TODO        0.021898  0.661800  0.316302\n",
       "TODO        0.020843  0.898004  0.081153\n",
       "TODO        0.046238  0.688577  0.265186\n",
       "TODO        0.030195  0.829041  0.140764\n",
       "TODO        0.039055  0.693006  0.267938\n",
       "TODO        0.025788  0.696275  0.277937\n",
       "TODO        0.027816  0.851345  0.120839\n",
       "TODO        0.065197  0.788338  0.146465\n",
       "TODO        0.074583  0.500491  0.424926\n",
       "TODO        0.095837  0.731570  0.172593\n",
       "TODO        0.047824  0.831107  0.121069\n",
       "TODO        0.083877  0.691519  0.224604"
      ]
     },
     "execution_count": 162,
     "metadata": {},
     "output_type": "execute_result"
    }
   ],
   "source": [
    "stats_overall_concat=pd.concat(list_of_stats)\n",
    "stats_overall_concat"
   ]
  },
  {
   "cell_type": "code",
   "execution_count": 211,
   "id": "df3b4c94",
   "metadata": {},
   "outputs": [
    {
     "name": "stdout",
     "output_type": "stream",
     "text": [
      "Gaze_focus        AI       Env     Human\n",
      "Condition                               \n",
      "TODO        0.046903  0.749534  0.203563\n",
      "Gaze_focus        AI       Env     Human\n",
      "Condition                               \n",
      "TODO        0.025141  0.110989  0.102518\n"
     ]
    }
   ],
   "source": [
    "by_row_index = stats_overall_concat.groupby(stats_overall_concat.index)\n",
    "df_means_overall = by_row_index.mean()\n",
    "df_std_overall = by_row_index.std()\n",
    "print(df_means_overall)\n",
    "print(df_std_overall)"
   ]
  },
  {
   "cell_type": "code",
   "execution_count": 209,
   "id": "786fdd02",
   "metadata": {},
   "outputs": [
    {
     "data": {
      "text/plain": [
       "<AxesSubplot:xlabel='Condition'>"
      ]
     },
     "execution_count": 209,
     "metadata": {},
     "output_type": "execute_result"
    },
    {
     "data": {
      "image/png": "[encoded data removed]",
      "text/plain": [
       "<Figure size 432x288 with 1 Axes>"
      ]
     },
     "metadata": {
      "needs_background": "light"
     },
     "output_type": "display_data"
    }
   ],
   "source": [
    "# plot averaged for all participants\n",
    "df_means_overall.plot(kind=\"bar\", yerr=df_std_overall)"
   ]
  },
  {
   "cell_type": "code",
   "execution_count": null,
   "id": "3de0f006",
   "metadata": {},
   "outputs": [],
   "source": [
    "# plot that data averaged over lvl1 "
   ]
  },
  {
   "cell_type": "code",
   "execution_count": null,
   "id": "879d72f2",
   "metadata": {},
   "outputs": [],
   "source": [
    "# plot that data averaged over lvl2 "
   ]
  },
  {
   "cell_type": "markdown",
   "id": "54a4bc6d",
   "metadata": {},
   "source": [
    "# Export for SPSS\n",
    "\n"
   ]
  },
  {
   "cell_type": "code",
   "execution_count": 171,
   "id": "382181dd",
   "metadata": {},
   "outputs": [],
   "source": [
    "participants=[]\n",
    "workflow_ai=[]\n",
    "workflow_human=[]\n",
    "workflow_env=[]\n",
    "conf_ai=[]\n",
    "conf_human=[]\n",
    "conf_env=[]\n",
    "err_ai=[]\n",
    "err_human=[]\n",
    "err_env=[]"
   ]
  },
  {
   "cell_type": "code",
   "execution_count": 184,
   "id": "0b76b91d",
   "metadata": {},
   "outputs": [
    {
     "data": {
      "text/html": [
       "<div>\n",
       "<style scoped>\n",
       "    .dataframe tbody tr th:only-of-type {\n",
       "        vertical-align: middle;\n",
       "    }\n",
       "\n",
       "    .dataframe tbody tr th {\n",
       "        vertical-align: top;\n",
       "    }\n",
       "\n",
       "    .dataframe thead th {\n",
       "        text-align: right;\n",
       "    }\n",
       "</style>\n",
       "<table border=\"1\" class=\"dataframe\">\n",
       "  <thead>\n",
       "    <tr style=\"text-align: right;\">\n",
       "      <th>Gaze_focus</th>\n",
       "      <th>AI</th>\n",
       "      <th>Env</th>\n",
       "      <th>Human</th>\n",
       "    </tr>\n",
       "    <tr>\n",
       "      <th>Condition</th>\n",
       "      <th></th>\n",
       "      <th></th>\n",
       "      <th></th>\n",
       "    </tr>\n",
       "  </thead>\n",
       "  <tbody>\n",
       "    <tr>\n",
       "      <th>TODO</th>\n",
       "      <td>0.030594</td>\n",
       "      <td>0.882867</td>\n",
       "      <td>0.086538</td>\n",
       "    </tr>\n",
       "  </tbody>\n",
       "</table>\n",
       "</div>"
      ],
      "text/plain": [
       "Gaze_focus        AI       Env     Human\n",
       "Condition                               \n",
       "TODO        0.030594  0.882867  0.086538"
      ]
     },
     "execution_count": 184,
     "metadata": {},
     "output_type": "execute_result"
    }
   ],
   "source": [
    "data[\"P04\"][\"stats\"][\"overall\"]"
   ]
  },
  {
   "cell_type": "code",
   "execution_count": 183,
   "id": "995de977",
   "metadata": {},
   "outputs": [
    {
     "data": {
      "text/plain": [
       "0.030594405594405596"
      ]
     },
     "execution_count": 183,
     "metadata": {},
     "output_type": "execute_result"
    }
   ],
   "source": [
    "data[\"P04\"][\"stats\"][\"overall\"][\"AI\"][\"TODO\"]"
   ]
  },
  {
   "cell_type": "code",
   "execution_count": 185,
   "id": "15635079",
   "metadata": {},
   "outputs": [
    {
     "ename": "KeyError",
     "evalue": "'Normal'",
     "output_type": "error",
     "traceback": [
      "\u001b[0;31m---------------------------------------------------------------------------\u001b[0m",
      "\u001b[0;31mTypeError\u001b[0m                                 Traceback (most recent call last)",
      "\u001b[0;32m~/opt/anaconda3/lib/python3.8/site-packages/pandas/core/indexes/base.py\u001b[0m in \u001b[0;36mget_value\u001b[0;34m(self, series, key)\u001b[0m\n\u001b[1;32m   4410\u001b[0m             \u001b[0;32mtry\u001b[0m\u001b[0;34m:\u001b[0m\u001b[0;34m\u001b[0m\u001b[0;34m\u001b[0m\u001b[0m\n\u001b[0;32m-> 4411\u001b[0;31m                 \u001b[0;32mreturn\u001b[0m \u001b[0mlibindex\u001b[0m\u001b[0;34m.\u001b[0m\u001b[0mget_value_at\u001b[0m\u001b[0;34m(\u001b[0m\u001b[0ms\u001b[0m\u001b[0;34m,\u001b[0m \u001b[0mkey\u001b[0m\u001b[0;34m)\u001b[0m\u001b[0;34m\u001b[0m\u001b[0;34m\u001b[0m\u001b[0m\n\u001b[0m\u001b[1;32m   4412\u001b[0m             \u001b[0;32mexcept\u001b[0m \u001b[0mIndexError\u001b[0m\u001b[0;34m:\u001b[0m\u001b[0;34m\u001b[0m\u001b[0;34m\u001b[0m\u001b[0m\n",
      "\u001b[0;32mpandas/_libs/index.pyx\u001b[0m in \u001b[0;36mpandas._libs.index.get_value_at\u001b[0;34m()\u001b[0m\n",
      "\u001b[0;32mpandas/_libs/index.pyx\u001b[0m in \u001b[0;36mpandas._libs.index.get_value_at\u001b[0;34m()\u001b[0m\n",
      "\u001b[0;32mpandas/_libs/util.pxd\u001b[0m in \u001b[0;36mpandas._libs.util.get_value_at\u001b[0;34m()\u001b[0m\n",
      "\u001b[0;32mpandas/_libs/util.pxd\u001b[0m in \u001b[0;36mpandas._libs.util.validate_indexer\u001b[0;34m()\u001b[0m\n",
      "\u001b[0;31mTypeError\u001b[0m: 'str' object cannot be interpreted as an integer",
      "\nDuring handling of the above exception, another exception occurred:\n",
      "\u001b[0;31mKeyError\u001b[0m                                  Traceback (most recent call last)",
      "\u001b[0;32m<ipython-input-185-67e7c3274ba8>\u001b[0m in \u001b[0;36m<module>\u001b[0;34m\u001b[0m\n\u001b[1;32m      3\u001b[0m     \u001b[0mstats_overall\u001b[0m\u001b[0;34m=\u001b[0m\u001b[0mdata\u001b[0m\u001b[0;34m[\u001b[0m\u001b[0;34m\"P04\"\u001b[0m\u001b[0;34m]\u001b[0m\u001b[0;34m[\u001b[0m\u001b[0;34m\"stats\"\u001b[0m\u001b[0;34m]\u001b[0m\u001b[0;34m[\u001b[0m\u001b[0;34m\"overall\"\u001b[0m\u001b[0;34m]\u001b[0m\u001b[0;34m\u001b[0m\u001b[0;34m\u001b[0m\u001b[0m\n\u001b[1;32m      4\u001b[0m \u001b[0;34m\u001b[0m\u001b[0m\n\u001b[0;32m----> 5\u001b[0;31m     \u001b[0mworkflow_ai\u001b[0m\u001b[0;34m.\u001b[0m\u001b[0mappend\u001b[0m\u001b[0;34m(\u001b[0m\u001b[0mstats_overall\u001b[0m\u001b[0;34m[\u001b[0m\u001b[0;34m\"AI\"\u001b[0m\u001b[0;34m]\u001b[0m\u001b[0;34m[\u001b[0m\u001b[0;34m\"Normal\"\u001b[0m\u001b[0;34m]\u001b[0m\u001b[0;34m)\u001b[0m\u001b[0;34m\u001b[0m\u001b[0;34m\u001b[0m\u001b[0m\n\u001b[0m\u001b[1;32m      6\u001b[0m     \u001b[0mworkflow_human\u001b[0m\u001b[0;34m.\u001b[0m\u001b[0mappend\u001b[0m\u001b[0;34m(\u001b[0m\u001b[0mstats_overall\u001b[0m\u001b[0;34m[\u001b[0m\u001b[0;34m\"Human\"\u001b[0m\u001b[0;34m]\u001b[0m\u001b[0;34m[\u001b[0m\u001b[0;34m\"Normal\"\u001b[0m\u001b[0;34m]\u001b[0m\u001b[0;34m)\u001b[0m\u001b[0;34m\u001b[0m\u001b[0;34m\u001b[0m\u001b[0m\n\u001b[1;32m      7\u001b[0m     \u001b[0mworkflow_env\u001b[0m\u001b[0;34m.\u001b[0m\u001b[0mappend\u001b[0m\u001b[0;34m(\u001b[0m\u001b[0mstats_overall\u001b[0m\u001b[0;34m[\u001b[0m\u001b[0;34m\"Env\"\u001b[0m\u001b[0;34m]\u001b[0m\u001b[0;34m[\u001b[0m\u001b[0;34m\"Normal\"\u001b[0m\u001b[0;34m]\u001b[0m\u001b[0;34m)\u001b[0m\u001b[0;34m\u001b[0m\u001b[0;34m\u001b[0m\u001b[0m\n",
      "\u001b[0;32m~/opt/anaconda3/lib/python3.8/site-packages/pandas/core/series.py\u001b[0m in \u001b[0;36m__getitem__\u001b[0;34m(self, key)\u001b[0m\n\u001b[1;32m    869\u001b[0m         \u001b[0mkey\u001b[0m \u001b[0;34m=\u001b[0m \u001b[0mcom\u001b[0m\u001b[0;34m.\u001b[0m\u001b[0mapply_if_callable\u001b[0m\u001b[0;34m(\u001b[0m\u001b[0mkey\u001b[0m\u001b[0;34m,\u001b[0m \u001b[0mself\u001b[0m\u001b[0;34m)\u001b[0m\u001b[0;34m\u001b[0m\u001b[0;34m\u001b[0m\u001b[0m\n\u001b[1;32m    870\u001b[0m         \u001b[0;32mtry\u001b[0m\u001b[0;34m:\u001b[0m\u001b[0;34m\u001b[0m\u001b[0;34m\u001b[0m\u001b[0m\n\u001b[0;32m--> 871\u001b[0;31m             \u001b[0mresult\u001b[0m \u001b[0;34m=\u001b[0m \u001b[0mself\u001b[0m\u001b[0;34m.\u001b[0m\u001b[0mindex\u001b[0m\u001b[0;34m.\u001b[0m\u001b[0mget_value\u001b[0m\u001b[0;34m(\u001b[0m\u001b[0mself\u001b[0m\u001b[0;34m,\u001b[0m \u001b[0mkey\u001b[0m\u001b[0;34m)\u001b[0m\u001b[0;34m\u001b[0m\u001b[0;34m\u001b[0m\u001b[0m\n\u001b[0m\u001b[1;32m    872\u001b[0m \u001b[0;34m\u001b[0m\u001b[0m\n\u001b[1;32m    873\u001b[0m             \u001b[0;32mif\u001b[0m \u001b[0;32mnot\u001b[0m \u001b[0mis_scalar\u001b[0m\u001b[0;34m(\u001b[0m\u001b[0mresult\u001b[0m\u001b[0;34m)\u001b[0m\u001b[0;34m:\u001b[0m\u001b[0;34m\u001b[0m\u001b[0;34m\u001b[0m\u001b[0m\n",
      "\u001b[0;32m~/opt/anaconda3/lib/python3.8/site-packages/pandas/core/indexes/base.py\u001b[0m in \u001b[0;36mget_value\u001b[0;34m(self, series, key)\u001b[0m\n\u001b[1;32m   4417\u001b[0m                     \u001b[0;32mraise\u001b[0m \u001b[0mInvalidIndexError\u001b[0m\u001b[0;34m(\u001b[0m\u001b[0mkey\u001b[0m\u001b[0;34m)\u001b[0m\u001b[0;34m\u001b[0m\u001b[0;34m\u001b[0m\u001b[0m\n\u001b[1;32m   4418\u001b[0m                 \u001b[0;32melse\u001b[0m\u001b[0;34m:\u001b[0m\u001b[0;34m\u001b[0m\u001b[0;34m\u001b[0m\u001b[0m\n\u001b[0;32m-> 4419\u001b[0;31m                     \u001b[0;32mraise\u001b[0m \u001b[0me1\u001b[0m\u001b[0;34m\u001b[0m\u001b[0;34m\u001b[0m\u001b[0m\n\u001b[0m\u001b[1;32m   4420\u001b[0m             \u001b[0;32mexcept\u001b[0m \u001b[0mException\u001b[0m\u001b[0;34m:\u001b[0m\u001b[0;34m\u001b[0m\u001b[0;34m\u001b[0m\u001b[0m\n\u001b[1;32m   4421\u001b[0m                 \u001b[0;32mraise\u001b[0m \u001b[0me1\u001b[0m\u001b[0;34m\u001b[0m\u001b[0;34m\u001b[0m\u001b[0m\n",
      "\u001b[0;32m~/opt/anaconda3/lib/python3.8/site-packages/pandas/core/indexes/base.py\u001b[0m in \u001b[0;36mget_value\u001b[0;34m(self, series, key)\u001b[0m\n\u001b[1;32m   4403\u001b[0m         \u001b[0mk\u001b[0m \u001b[0;34m=\u001b[0m \u001b[0mself\u001b[0m\u001b[0;34m.\u001b[0m\u001b[0m_convert_scalar_indexer\u001b[0m\u001b[0;34m(\u001b[0m\u001b[0mk\u001b[0m\u001b[0;34m,\u001b[0m \u001b[0mkind\u001b[0m\u001b[0;34m=\u001b[0m\u001b[0;34m\"getitem\"\u001b[0m\u001b[0;34m)\u001b[0m\u001b[0;34m\u001b[0m\u001b[0;34m\u001b[0m\u001b[0m\n\u001b[1;32m   4404\u001b[0m         \u001b[0;32mtry\u001b[0m\u001b[0;34m:\u001b[0m\u001b[0;34m\u001b[0m\u001b[0;34m\u001b[0m\u001b[0m\n\u001b[0;32m-> 4405\u001b[0;31m             \u001b[0;32mreturn\u001b[0m \u001b[0mself\u001b[0m\u001b[0;34m.\u001b[0m\u001b[0m_engine\u001b[0m\u001b[0;34m.\u001b[0m\u001b[0mget_value\u001b[0m\u001b[0;34m(\u001b[0m\u001b[0ms\u001b[0m\u001b[0;34m,\u001b[0m \u001b[0mk\u001b[0m\u001b[0;34m,\u001b[0m \u001b[0mtz\u001b[0m\u001b[0;34m=\u001b[0m\u001b[0mgetattr\u001b[0m\u001b[0;34m(\u001b[0m\u001b[0mseries\u001b[0m\u001b[0;34m.\u001b[0m\u001b[0mdtype\u001b[0m\u001b[0;34m,\u001b[0m \u001b[0;34m\"tz\"\u001b[0m\u001b[0;34m,\u001b[0m \u001b[0;32mNone\u001b[0m\u001b[0;34m)\u001b[0m\u001b[0;34m)\u001b[0m\u001b[0;34m\u001b[0m\u001b[0;34m\u001b[0m\u001b[0m\n\u001b[0m\u001b[1;32m   4406\u001b[0m         \u001b[0;32mexcept\u001b[0m \u001b[0mKeyError\u001b[0m \u001b[0;32mas\u001b[0m \u001b[0me1\u001b[0m\u001b[0;34m:\u001b[0m\u001b[0;34m\u001b[0m\u001b[0;34m\u001b[0m\u001b[0m\n\u001b[1;32m   4407\u001b[0m             \u001b[0;32mif\u001b[0m \u001b[0mlen\u001b[0m\u001b[0;34m(\u001b[0m\u001b[0mself\u001b[0m\u001b[0;34m)\u001b[0m \u001b[0;34m>\u001b[0m \u001b[0;36m0\u001b[0m \u001b[0;32mand\u001b[0m \u001b[0;34m(\u001b[0m\u001b[0mself\u001b[0m\u001b[0;34m.\u001b[0m\u001b[0mholds_integer\u001b[0m\u001b[0;34m(\u001b[0m\u001b[0;34m)\u001b[0m \u001b[0;32mor\u001b[0m \u001b[0mself\u001b[0m\u001b[0;34m.\u001b[0m\u001b[0mis_boolean\u001b[0m\u001b[0;34m(\u001b[0m\u001b[0;34m)\u001b[0m\u001b[0;34m)\u001b[0m\u001b[0;34m:\u001b[0m\u001b[0;34m\u001b[0m\u001b[0;34m\u001b[0m\u001b[0m\n",
      "\u001b[0;32mpandas/_libs/index.pyx\u001b[0m in \u001b[0;36mpandas._libs.index.IndexEngine.get_value\u001b[0;34m()\u001b[0m\n",
      "\u001b[0;32mpandas/_libs/index.pyx\u001b[0m in \u001b[0;36mpandas._libs.index.IndexEngine.get_value\u001b[0;34m()\u001b[0m\n",
      "\u001b[0;32mpandas/_libs/index.pyx\u001b[0m in \u001b[0;36mpandas._libs.index.IndexEngine.get_loc\u001b[0;34m()\u001b[0m\n",
      "\u001b[0;32mpandas/_libs/hashtable_class_helper.pxi\u001b[0m in \u001b[0;36mpandas._libs.hashtable.PyObjectHashTable.get_item\u001b[0;34m()\u001b[0m\n",
      "\u001b[0;32mpandas/_libs/hashtable_class_helper.pxi\u001b[0m in \u001b[0;36mpandas._libs.hashtable.PyObjectHashTable.get_item\u001b[0;34m()\u001b[0m\n",
      "\u001b[0;31mKeyError\u001b[0m: 'Normal'"
     ]
    }
   ],
   "source": [
    "for p in data:\n",
    "    participants.append(p)\n",
    "    stats_overall=data[\"P04\"][\"stats\"][\"overall\"]\n",
    "    \n",
    "    workflow_ai.append(stats_overall[\"AI\"][\"Normal\"])\n",
    "    workflow_human.append(stats_overall[\"Human\"][\"Normal\"])\n",
    "    workflow_env.append(stats_overall[\"Env\"][\"Normal\"])\n",
    "    \n",
    "    conf_ai.append(stats_overall[\"AI\"][\"Confusion\"])\n",
    "    conf_human.append(stats_overall[\"Human\"][\"Confusion\"])\n",
    "    conf_env.append(stats_overall[\"Env\"][\"Confusion\"])\n",
    "    \n",
    "    err_ai.append(stats_overall[\"AI\"][\"Error\"])\n",
    "    err_human.append(stats_overall[\"Human\"][\"Error\"])\n",
    "    err_env.append(stats_overall[\"Env\"][\"Error\"])\n",
    "    "
   ]
  },
  {
   "cell_type": "code",
   "execution_count": 177,
   "id": "330f2152",
   "metadata": {},
   "outputs": [],
   "source": [
    "# export collected data to csv for analysis in spss\n",
    "spss_data = {'participant_id': participants, \n",
    "             'Workflow_AI': workflow_ai, 'Workflow_Human': workflow_human, 'Workflow_Env': workflow_env, \n",
    "             'Conf_AI': conf_ai, 'Conf_Human': conf_human, 'Conf_Env': conf_env,\n",
    "             'Err_AI': err_ai, 'Err_Human': err_human, 'Err_Env': err_env,}\n",
    "spss_df = pd.DataFrame(data=spss_data)\n",
    "#spss_df.to_csv(index=False, \"data_for_spss\")"
   ]
  },
  {
   "cell_type": "code",
   "execution_count": 178,
   "id": "60348bbb",
   "metadata": {},
   "outputs": [
    {
     "data": {
      "text/html": [
       "<div>\n",
       "<style scoped>\n",
       "    .dataframe tbody tr th:only-of-type {\n",
       "        vertical-align: middle;\n",
       "    }\n",
       "\n",
       "    .dataframe tbody tr th {\n",
       "        vertical-align: top;\n",
       "    }\n",
       "\n",
       "    .dataframe thead th {\n",
       "        text-align: right;\n",
       "    }\n",
       "</style>\n",
       "<table border=\"1\" class=\"dataframe\">\n",
       "  <thead>\n",
       "    <tr style=\"text-align: right;\">\n",
       "      <th></th>\n",
       "      <th>participant_id</th>\n",
       "      <th>Workflow_AI</th>\n",
       "      <th>Workflow_Human</th>\n",
       "      <th>Workflow_Env</th>\n",
       "      <th>Conf_AI</th>\n",
       "      <th>Conf_Human</th>\n",
       "      <th>Conf_Env</th>\n",
       "      <th>Err_AI</th>\n",
       "      <th>Err_Human</th>\n",
       "      <th>Err_Env</th>\n",
       "    </tr>\n",
       "  </thead>\n",
       "  <tbody>\n",
       "  </tbody>\n",
       "</table>\n",
       "</div>"
      ],
      "text/plain": [
       "Empty DataFrame\n",
       "Columns: [participant_id, Workflow_AI, Workflow_Human, Workflow_Env, Conf_AI, Conf_Human, Conf_Env, Err_AI, Err_Human, Err_Env]\n",
       "Index: []"
      ]
     },
     "execution_count": 178,
     "metadata": {},
     "output_type": "execute_result"
    }
   ],
   "source": [
    "spss_df"
   ]
  },
  {
   "cell_type": "code",
   "execution_count": null,
   "id": "4b1649ad",
   "metadata": {},
   "outputs": [],
   "source": []
  },
  {
   "cell_type": "code",
   "execution_count": null,
   "id": "3736704d",
   "metadata": {},
   "outputs": [],
   "source": []
  },
  {
   "cell_type": "code",
   "execution_count": null,
   "id": "17a125fb",
   "metadata": {},
   "outputs": [],
   "source": []
  },
  {
   "cell_type": "markdown",
   "id": "731104d6",
   "metadata": {},
   "source": [
    "# Old test"
   ]
  },
  {
   "cell_type": "code",
   "execution_count": 32,
   "id": "0c5dd322",
   "metadata": {},
   "outputs": [],
   "source": [
    "test=data[\"P02\"][\"001\"]"
   ]
  },
  {
   "cell_type": "code",
   "execution_count": 52,
   "id": "2eec8d4e",
   "metadata": {},
   "outputs": [
    {
     "name": "stderr",
     "output_type": "stream",
     "text": [
      "<ipython-input-52-dcbf52a0e5a6>:1: SettingWithCopyWarning: \n",
      "A value is trying to be set on a copy of a slice from a DataFrame\n",
      "\n",
      "See the caveats in the documentation: https://pandas.pydata.org/pandas-docs/stable/user_guide/indexing.html#returning-a-view-versus-a-copy\n",
      "  test[\"Condition\"][0:30]=\"Confusion\"\n"
     ]
    }
   ],
   "source": [
    "test[\"Condition\"][0:30]=\"Confusion\""
   ]
  },
  {
   "cell_type": "code",
   "execution_count": 53,
   "id": "c46e923f",
   "metadata": {},
   "outputs": [
    {
     "data": {
      "text/html": [
       "<div>\n",
       "<style scoped>\n",
       "    .dataframe tbody tr th:only-of-type {\n",
       "        vertical-align: middle;\n",
       "    }\n",
       "\n",
       "    .dataframe tbody tr th {\n",
       "        vertical-align: top;\n",
       "    }\n",
       "\n",
       "    .dataframe thead th {\n",
       "        text-align: right;\n",
       "    }\n",
       "</style>\n",
       "<table border=\"1\" class=\"dataframe\">\n",
       "  <thead>\n",
       "    <tr style=\"text-align: right;\">\n",
       "      <th></th>\n",
       "      <th>Unnamed: 0</th>\n",
       "      <th>norm_pos_x</th>\n",
       "      <th>norm_pos_y</th>\n",
       "      <th>Human x</th>\n",
       "      <th>Human y</th>\n",
       "      <th>Agent x</th>\n",
       "      <th>Agent y</th>\n",
       "      <th>Frame number</th>\n",
       "      <th>gaze_to_human</th>\n",
       "      <th>gaze_to_ai</th>\n",
       "      <th>Gaze_focus</th>\n",
       "      <th>Condition</th>\n",
       "    </tr>\n",
       "  </thead>\n",
       "  <tbody>\n",
       "    <tr>\n",
       "      <th>0</th>\n",
       "      <td>0</td>\n",
       "      <td>579.062810</td>\n",
       "      <td>299.030757</td>\n",
       "      <td>624.5</td>\n",
       "      <td>365</td>\n",
       "      <td>481.0</td>\n",
       "      <td>222</td>\n",
       "      <td>0</td>\n",
       "      <td>80.102929</td>\n",
       "      <td>124.699849</td>\n",
       "      <td>Env</td>\n",
       "      <td>Confusion</td>\n",
       "    </tr>\n",
       "    <tr>\n",
       "      <th>1</th>\n",
       "      <td>1</td>\n",
       "      <td>577.224428</td>\n",
       "      <td>339.964374</td>\n",
       "      <td>624.0</td>\n",
       "      <td>364</td>\n",
       "      <td>480.5</td>\n",
       "      <td>220</td>\n",
       "      <td>1</td>\n",
       "      <td>52.589594</td>\n",
       "      <td>154.100831</td>\n",
       "      <td>Env</td>\n",
       "      <td>Confusion</td>\n",
       "    </tr>\n",
       "    <tr>\n",
       "      <th>2</th>\n",
       "      <td>2</td>\n",
       "      <td>600.289828</td>\n",
       "      <td>403.841444</td>\n",
       "      <td>624.5</td>\n",
       "      <td>364</td>\n",
       "      <td>482.0</td>\n",
       "      <td>220</td>\n",
       "      <td>2</td>\n",
       "      <td>46.620522</td>\n",
       "      <td>218.609606</td>\n",
       "      <td>Env</td>\n",
       "      <td>Confusion</td>\n",
       "    </tr>\n",
       "    <tr>\n",
       "      <th>3</th>\n",
       "      <td>3</td>\n",
       "      <td>600.842422</td>\n",
       "      <td>403.534150</td>\n",
       "      <td>624.5</td>\n",
       "      <td>364</td>\n",
       "      <td>482.0</td>\n",
       "      <td>220</td>\n",
       "      <td>3</td>\n",
       "      <td>46.072009</td>\n",
       "      <td>218.651105</td>\n",
       "      <td>Env</td>\n",
       "      <td>Confusion</td>\n",
       "    </tr>\n",
       "    <tr>\n",
       "      <th>4</th>\n",
       "      <td>4</td>\n",
       "      <td>590.888894</td>\n",
       "      <td>407.877364</td>\n",
       "      <td>624.5</td>\n",
       "      <td>364</td>\n",
       "      <td>482.0</td>\n",
       "      <td>220</td>\n",
       "      <td>4</td>\n",
       "      <td>55.271417</td>\n",
       "      <td>217.151318</td>\n",
       "      <td>Env</td>\n",
       "      <td>Confusion</td>\n",
       "    </tr>\n",
       "  </tbody>\n",
       "</table>\n",
       "</div>"
      ],
      "text/plain": [
       "   Unnamed: 0  norm_pos_x  norm_pos_y  Human x  Human y  Agent x  Agent y  \\\n",
       "0           0  579.062810  299.030757    624.5      365    481.0      222   \n",
       "1           1  577.224428  339.964374    624.0      364    480.5      220   \n",
       "2           2  600.289828  403.841444    624.5      364    482.0      220   \n",
       "3           3  600.842422  403.534150    624.5      364    482.0      220   \n",
       "4           4  590.888894  407.877364    624.5      364    482.0      220   \n",
       "\n",
       "   Frame number  gaze_to_human  gaze_to_ai Gaze_focus  Condition  \n",
       "0             0      80.102929  124.699849        Env  Confusion  \n",
       "1             1      52.589594  154.100831        Env  Confusion  \n",
       "2             2      46.620522  218.609606        Env  Confusion  \n",
       "3             3      46.072009  218.651105        Env  Confusion  \n",
       "4             4      55.271417  217.151318        Env  Confusion  "
      ]
     },
     "execution_count": 53,
     "metadata": {},
     "output_type": "execute_result"
    }
   ],
   "source": [
    "test.head()"
   ]
  },
  {
   "cell_type": "code",
   "execution_count": 57,
   "id": "a5786428",
   "metadata": {},
   "outputs": [
    {
     "data": {
      "text/plain": [
       "Condition  Gaze_focus\n",
       "Confusion  Env            22\n",
       "           Human           7\n",
       "           AI              1\n",
       "TODO       Env           909\n",
       "           AI             74\n",
       "Name: Gaze_focus, dtype: int64"
      ]
     },
     "execution_count": 57,
     "metadata": {},
     "output_type": "execute_result"
    }
   ],
   "source": [
    "test.groupby(\"Condition\")[\"Gaze_focus\"].value_counts()"
   ]
  },
  {
   "cell_type": "code",
   "execution_count": 87,
   "id": "892134f5",
   "metadata": {},
   "outputs": [
    {
     "data": {
      "text/html": [
       "<div>\n",
       "<style scoped>\n",
       "    .dataframe tbody tr th:only-of-type {\n",
       "        vertical-align: middle;\n",
       "    }\n",
       "\n",
       "    .dataframe tbody tr th {\n",
       "        vertical-align: top;\n",
       "    }\n",
       "\n",
       "    .dataframe thead th {\n",
       "        text-align: right;\n",
       "    }\n",
       "</style>\n",
       "<table border=\"1\" class=\"dataframe\">\n",
       "  <thead>\n",
       "    <tr style=\"text-align: right;\">\n",
       "      <th>Gaze_focus</th>\n",
       "      <th>AI</th>\n",
       "      <th>Env</th>\n",
       "      <th>Human</th>\n",
       "    </tr>\n",
       "    <tr>\n",
       "      <th>Condition</th>\n",
       "      <th></th>\n",
       "      <th></th>\n",
       "      <th></th>\n",
       "    </tr>\n",
       "  </thead>\n",
       "  <tbody>\n",
       "    <tr>\n",
       "      <th>Confusion</th>\n",
       "      <td>0.033333</td>\n",
       "      <td>0.733333</td>\n",
       "      <td>0.233333</td>\n",
       "    </tr>\n",
       "    <tr>\n",
       "      <th>TODO</th>\n",
       "      <td>0.075280</td>\n",
       "      <td>0.924720</td>\n",
       "      <td>0.000000</td>\n",
       "    </tr>\n",
       "  </tbody>\n",
       "</table>\n",
       "</div>"
      ],
      "text/plain": [
       "Gaze_focus        AI       Env     Human\n",
       "Condition                               \n",
       "Confusion   0.033333  0.733333  0.233333\n",
       "TODO        0.075280  0.924720  0.000000"
      ]
     },
     "execution_count": 87,
     "metadata": {},
     "output_type": "execute_result"
    }
   ],
   "source": [
    "test.groupby(\"Condition\")[\"Gaze_focus\"].value_counts(normalize=True).unstack().fillna(0)\n"
   ]
  },
  {
   "cell_type": "code",
   "execution_count": 188,
   "id": "3ef09432",
   "metadata": {},
   "outputs": [
    {
     "data": {
      "text/plain": [
       "<AxesSubplot:xlabel='Condition'>"
      ]
     },
     "execution_count": 188,
     "metadata": {},
     "output_type": "execute_result"
    },
    {
     "data": {
      "image/png": "[encoded data removed]",
      "text/plain": [
       "<Figure size 432x288 with 1 Axes>"
      ]
     },
     "metadata": {
      "needs_background": "light"
     },
     "output_type": "display_data"
    }
   ],
   "source": [
    "test.groupby(\"Condition\")[\"Gaze_focus\"].value_counts(normalize=True).unstack().plot(kind=\"bar\")"
   ]
  },
  {
   "cell_type": "code",
   "execution_count": 203,
   "id": "c700ed9c",
   "metadata": {},
   "outputs": [
    {
     "data": {
      "image/png": "[encoded data removed]",
      "text/plain": [
       "<Figure size 432x288 with 1 Axes>"
      ]
     },
     "metadata": {
      "needs_background": "light"
     },
     "output_type": "display_data"
    }
   ],
   "source": [
    "a = test.groupby(\"Condition\")[\"Gaze_focus\"].value_counts(normalize=True).unstack().plot(kind=\"bar\", yerr=[0.04,0.01])"
   ]
  },
  {
   "cell_type": "code",
   "execution_count": null,
   "id": "4eadfeba",
   "metadata": {},
   "outputs": [],
   "source": []
  }
 ],
 "metadata": {
  "kernelspec": {
   "display_name": "Python 3",
   "language": "python",
   "name": "python3"
  },
  "language_info": {
   "codemirror_mode": {
    "name": "ipython",
    "version": 3
   },
   "file_extension": ".py",
   "mimetype": "text/x-python",
   "name": "python",
   "nbconvert_exporter": "python",
   "pygments_lexer": "ipython3",
   "version": "3.8.8"
  }
 },
 "nbformat": 4,
 "nbformat_minor": 5
}
