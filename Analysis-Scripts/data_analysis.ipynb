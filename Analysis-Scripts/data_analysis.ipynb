{
 "cells": [
  {
   "cell_type": "code",
   "execution_count": 140,
   "id": "a5898f15",
   "metadata": {},
   "outputs": [],
   "source": [
    "import pandas as pd"
   ]
  },
  {
   "cell_type": "code",
   "execution_count": 212,
   "id": "afe2079d",
   "metadata": {},
   "outputs": [],
   "source": [
    "# read in merged csvs\n",
    "path = \"gaze_agent_merged/\"\n",
    "data = {}\n",
    "\n",
    "for i in range(1,36):\n",
    "    if i not in [11, 24, 26, 32, 34]:\n",
    "        if i<10:\n",
    "            participant=\"P0\"+str(i)\n",
    "        else:\n",
    "            participant=\"P\"+str(i)\n",
    "            data[participant]={}\n",
    "        # add dict entry\n",
    "        data[participant]={}\n",
    "        data[participant][\"000\"]=pd.read_csv(path+participant+\"_000_merged.csv\")\n",
    "        data[participant][\"001\"]=pd.read_csv(path+participant+\"_001_merged.csv\")\n",
    "    "
   ]
  },
  {
   "cell_type": "code",
   "execution_count": 213,
   "id": "884c15c2",
   "metadata": {},
   "outputs": [
    {
     "name": "stdout",
     "output_type": "stream",
     "text": [
      "30 files were loaded\n"
     ]
    }
   ],
   "source": [
    "# check if all 30 are read in\n",
    "print(len(data), \"files were loaded\")"
   ]
  },
  {
   "cell_type": "code",
   "execution_count": 217,
   "id": "ce1de2c6",
   "metadata": {},
   "outputs": [
    {
     "data": {
      "text/html": [
       "<div>\n",
       "<style scoped>\n",
       "    .dataframe tbody tr th:only-of-type {\n",
       "        vertical-align: middle;\n",
       "    }\n",
       "\n",
       "    .dataframe tbody tr th {\n",
       "        vertical-align: top;\n",
       "    }\n",
       "\n",
       "    .dataframe thead th {\n",
       "        text-align: right;\n",
       "    }\n",
       "</style>\n",
       "<table border=\"1\" class=\"dataframe\">\n",
       "  <thead>\n",
       "    <tr style=\"text-align: right;\">\n",
       "      <th></th>\n",
       "      <th>Unnamed: 0</th>\n",
       "      <th>norm_pos_x</th>\n",
       "      <th>norm_pos_y</th>\n",
       "      <th>Human x</th>\n",
       "      <th>Human y</th>\n",
       "      <th>Agent x</th>\n",
       "      <th>Agent y</th>\n",
       "      <th>Frame number</th>\n",
       "      <th>gaze_to_human</th>\n",
       "      <th>gaze_to_ai</th>\n",
       "      <th>Gaze_focus</th>\n",
       "      <th>Condition</th>\n",
       "    </tr>\n",
       "  </thead>\n",
       "  <tbody>\n",
       "    <tr>\n",
       "      <th>0</th>\n",
       "      <td>11</td>\n",
       "      <td>505.615232</td>\n",
       "      <td>283.970237</td>\n",
       "      <td>625.0</td>\n",
       "      <td>402</td>\n",
       "      <td>499.0</td>\n",
       "      <td>412</td>\n",
       "      <td>11</td>\n",
       "      <td>167.880159</td>\n",
       "      <td>128.200552</td>\n",
       "      <td>Env</td>\n",
       "      <td>TODO</td>\n",
       "    </tr>\n",
       "    <tr>\n",
       "      <th>1</th>\n",
       "      <td>12</td>\n",
       "      <td>507.056026</td>\n",
       "      <td>280.996536</td>\n",
       "      <td>625.0</td>\n",
       "      <td>402</td>\n",
       "      <td>514.0</td>\n",
       "      <td>402</td>\n",
       "      <td>12</td>\n",
       "      <td>168.975203</td>\n",
       "      <td>121.202545</td>\n",
       "      <td>Env</td>\n",
       "      <td>TODO</td>\n",
       "    </tr>\n",
       "    <tr>\n",
       "      <th>2</th>\n",
       "      <td>13</td>\n",
       "      <td>508.134285</td>\n",
       "      <td>277.780849</td>\n",
       "      <td>626.5</td>\n",
       "      <td>400</td>\n",
       "      <td>556.0</td>\n",
       "      <td>398</td>\n",
       "      <td>13</td>\n",
       "      <td>170.141011</td>\n",
       "      <td>129.397724</td>\n",
       "      <td>Env</td>\n",
       "      <td>TODO</td>\n",
       "    </tr>\n",
       "    <tr>\n",
       "      <th>3</th>\n",
       "      <td>14</td>\n",
       "      <td>511.273463</td>\n",
       "      <td>288.819167</td>\n",
       "      <td>626.5</td>\n",
       "      <td>400</td>\n",
       "      <td>559.0</td>\n",
       "      <td>398</td>\n",
       "      <td>14</td>\n",
       "      <td>160.119744</td>\n",
       "      <td>119.156522</td>\n",
       "      <td>Env</td>\n",
       "      <td>TODO</td>\n",
       "    </tr>\n",
       "    <tr>\n",
       "      <th>4</th>\n",
       "      <td>15</td>\n",
       "      <td>525.318944</td>\n",
       "      <td>438.178821</td>\n",
       "      <td>628.0</td>\n",
       "      <td>403</td>\n",
       "      <td>562.0</td>\n",
       "      <td>398</td>\n",
       "      <td>15</td>\n",
       "      <td>108.540079</td>\n",
       "      <td>54.404389</td>\n",
       "      <td>Env</td>\n",
       "      <td>TODO</td>\n",
       "    </tr>\n",
       "  </tbody>\n",
       "</table>\n",
       "</div>"
      ],
      "text/plain": [
       "   Unnamed: 0  norm_pos_x  norm_pos_y  Human x  Human y  Agent x  Agent y  \\\n",
       "0          11  505.615232  283.970237    625.0      402    499.0      412   \n",
       "1          12  507.056026  280.996536    625.0      402    514.0      402   \n",
       "2          13  508.134285  277.780849    626.5      400    556.0      398   \n",
       "3          14  511.273463  288.819167    626.5      400    559.0      398   \n",
       "4          15  525.318944  438.178821    628.0      403    562.0      398   \n",
       "\n",
       "   Frame number  gaze_to_human  gaze_to_ai Gaze_focus Condition  \n",
       "0            11     167.880159  128.200552        Env      TODO  \n",
       "1            12     168.975203  121.202545        Env      TODO  \n",
       "2            13     170.141011  129.397724        Env      TODO  \n",
       "3            14     160.119744  119.156522        Env      TODO  \n",
       "4            15     108.540079   54.404389        Env      TODO  "
      ]
     },
     "execution_count": 217,
     "metadata": {},
     "output_type": "execute_result"
    }
   ],
   "source": [
    "# sanity check\n",
    "data[\"P12\"][\"001\"].head()"
   ]
  },
  {
   "cell_type": "markdown",
   "id": "74787e7b",
   "metadata": {},
   "source": [
    "# Frame Counts "
   ]
  },
  {
   "cell_type": "code",
   "execution_count": 218,
   "id": "e34fda9d",
   "metadata": {},
   "outputs": [],
   "source": [
    "counters={\"lvl1\":{\"Gaze\":{\"AI\":0, \"Human\":0, \"Env\":0}, \n",
    "                  \"Condition\":{\"Error\":0, \"Confusion\":0, \"Normal\":0}},\n",
    "          \"lvl2\":{\"Gaze\":{\"AI\":0, \"Human\":0, \"Env\":0}, \n",
    "                  \"Condition\":{\"Error\":0, \"Confusion\":0, \"Normal\":0}}\n",
    "         }\n"
   ]
  },
  {
   "cell_type": "code",
   "execution_count": 219,
   "id": "eda96256",
   "metadata": {},
   "outputs": [
    {
     "name": "stdout",
     "output_type": "stream",
     "text": [
      "P01\n",
      "P02\n",
      "P03\n",
      "P04\n",
      "P05\n",
      "P06\n",
      "P07\n",
      "P08\n",
      "P09\n",
      "P10\n",
      "P12\n",
      "P13\n",
      "P14\n",
      "P15\n",
      "P16\n",
      "P17\n",
      "P18\n",
      "P19\n",
      "P20\n",
      "P21\n",
      "P22\n",
      "P23\n",
      "P25\n",
      "P27\n",
      "P28\n",
      "P29\n",
      "P30\n",
      "P31\n",
      "P33\n",
      "P35\n"
     ]
    },
    {
     "data": {
      "text/plain": [
       "{'lvl1': {'Gaze': {'AI': 826, 'Human': 7152, 'Env': 23368},\n",
       "  'Condition': {'Error': 0, 'Confusion': 0, 'Normal': 0}},\n",
       " 'lvl2': {'Gaze': {'AI': 2172, 'Human': 6908, 'Env': 21516},\n",
       "  'Condition': {'Error': 0, 'Confusion': 0, 'Normal': 0}}}"
      ]
     },
     "execution_count": 219,
     "metadata": {},
     "output_type": "execute_result"
    }
   ],
   "source": [
    "for p in data:\n",
    "    print(p)\n",
    "    # add counts for lvl1\n",
    "    counters[\"lvl1\"][\"Gaze\"][\"AI\"]+=(data[p][\"000\"].Gaze_focus == 'AI').sum()\n",
    "    counters[\"lvl1\"][\"Gaze\"][\"Human\"]+=(data[p][\"000\"].Gaze_focus == 'Human').sum()\n",
    "    counters[\"lvl1\"][\"Gaze\"][\"Env\"]+=(data[p][\"000\"].Gaze_focus == 'Env').sum()\n",
    "    counters[\"lvl1\"][\"Condition\"][\"Error\"]+=(data[p][\"000\"].Condition == 'Error').sum()\n",
    "    counters[\"lvl1\"][\"Condition\"][\"Confusion\"]+=(data[p][\"000\"].Condition == 'Confusion').sum()\n",
    "    counters[\"lvl1\"][\"Condition\"][\"Normal\"]+=(data[p][\"000\"].Condition == 'Normal').sum()\n",
    "    \n",
    "    # add counts for lvl2\n",
    "    counters[\"lvl2\"][\"Gaze\"][\"AI\"]+=(data[p][\"001\"].Gaze_focus == 'AI').sum()\n",
    "    counters[\"lvl2\"][\"Gaze\"][\"Human\"]+=(data[p][\"001\"].Gaze_focus == 'Human').sum()\n",
    "    counters[\"lvl2\"][\"Gaze\"][\"Env\"]+=(data[p][\"001\"].Gaze_focus == 'Env').sum()\n",
    "    counters[\"lvl2\"][\"Condition\"][\"Error\"]+=(data[p][\"001\"].Condition == 'Error').sum()\n",
    "    counters[\"lvl2\"][\"Condition\"][\"Confusion\"]+=(data[p][\"001\"].Condition == 'Confusion').sum()\n",
    "    counters[\"lvl2\"][\"Condition\"][\"Normal\"]+=(data[p][\"001\"].Condition == 'Normal').sum()\n",
    "    \n",
    "counters    "
   ]
  },
  {
   "cell_type": "code",
   "execution_count": 220,
   "id": "c1a1d5e7",
   "metadata": {},
   "outputs": [],
   "source": [
    "#counters={\"lvl1\":{\"Gaze\":{\"AI\":[], \"Human\":[], \"Env\":[]}, \n",
    "#                  \"Condition\":{\"Error\":[], \"Confusion\":[], \"Normal\":[]}},\n",
    "#          \"lvl2\":{\"Gaze\":{\"AI\":[], \"Human\":[], \"Env\":[]}, \n",
    "#                  \"Condition\":{\"Error\":[], \"Confusion\":[], \"Normal\":[]}}\n",
    "#         }\n",
    "#\n",
    "#for p in data:\n",
    "#    print(p)\n",
    "#    # add counts for lvl1\n",
    "#    counters[\"lvl1\"][\"Gaze\"][\"AI\"].append((data[p][\"000\"].Gaze_focus == 'AI').sum())\n",
    "#    counters[\"lvl1\"][\"Gaze\"][\"Human\"].append((data[p][\"000\"].Gaze_focus == 'Human').sum())\n",
    "#    counters[\"lvl1\"][\"Gaze\"][\"Env\"].append((data[p][\"000\"].Gaze_focus == 'Env').sum())\n",
    "#    counters[\"lvl1\"][\"Condition\"][\"Error\"].append((data[p][\"000\"].Condition == 'Error').sum())\n",
    "#    counters[\"lvl1\"][\"Condition\"][\"Confusion\"].append((data[p][\"000\"].Condition == 'Confusion').sum())\n",
    "#    counters[\"lvl1\"][\"Condition\"][\"Normal\"].append((data[p][\"000\"].Condition == 'Normal').sum())\n",
    "#    \n",
    "#    # add counts for lvl2\n",
    "#    counters[\"lvl2\"][\"Gaze\"][\"AI\"].append((data[p][\"001\"].Gaze_focus == 'AI').sum())\n",
    "#    counters[\"lvl2\"][\"Gaze\"][\"Human\"].append((data[p][\"001\"].Gaze_focus == 'Human').sum())\n",
    "#    counters[\"lvl2\"][\"Gaze\"][\"Env\"].append((data[p][\"001\"].Gaze_focus == 'Env').sum())\n",
    "#    counters[\"lvl2\"][\"Condition\"][\"Error\"].append((data[p][\"001\"].Condition == 'Error').sum())\n",
    "#    counters[\"lvl2\"][\"Condition\"][\"Confusion\"].append((data[p][\"001\"].Condition == 'Confusion').sum())\n",
    "#    counters[\"lvl2\"][\"Condition\"][\"Normal\"].append((data[p][\"001\"].Condition == 'Normal').sum())\n",
    "#    \n",
    "#counters    "
   ]
  },
  {
   "cell_type": "markdown",
   "id": "dd5028ff",
   "metadata": {},
   "source": [
    "# Compute AoI Analysis for the 3 conditions"
   ]
  },
  {
   "cell_type": "code",
   "execution_count": 221,
   "id": "a7e9d041",
   "metadata": {},
   "outputs": [
    {
     "name": "stdout",
     "output_type": "stream",
     "text": [
      "P01\n",
      "P02\n",
      "P03\n",
      "P04\n",
      "P05\n",
      "P06\n",
      "P07\n",
      "P08\n",
      "P09\n",
      "P10\n",
      "P12\n",
      "P13\n",
      "P14\n",
      "P15\n",
      "P16\n",
      "P17\n",
      "P18\n",
      "P19\n",
      "P20\n",
      "P21\n",
      "P22\n",
      "P23\n",
      "P25\n",
      "P27\n",
      "P28\n",
      "P29\n",
      "P30\n",
      "P31\n",
      "P33\n",
      "P35\n"
     ]
    }
   ],
   "source": [
    "# for each particpant compute the percentage looked at agent/human/env for the different conditions conf/err/bau\n",
    "for p in data:\n",
    "    print(p)\n",
    "    # compute stats\n",
    "    data[p][\"stats\"]={}\n",
    "    lvls_concatenated=pd.concat([data[p][\"000\"], data[p][\"001\"]], ignore_index=True, sort=False)\n",
    "    data[p][\"stats\"][\"overall\"]=lvls_concatenated.groupby(\"Condition\")[\"Gaze_focus\"].value_counts(normalize=True).unstack().fillna(0)\n",
    "    data[p][\"stats\"][\"lvl1\"]=data[p][\"000\"].groupby(\"Condition\")[\"Gaze_focus\"].value_counts(normalize=True).unstack().fillna(0)\n",
    "    data[p][\"stats\"][\"lvl2\"]=data[p][\"001\"].groupby(\"Condition\")[\"Gaze_focus\"].value_counts(normalize=True).unstack().fillna(0)"
   ]
  },
  {
   "cell_type": "code",
   "execution_count": 222,
   "id": "1bf402a3",
   "metadata": {},
   "outputs": [
    {
     "data": {
      "text/plain": [
       "<AxesSubplot:xlabel='Condition'>"
      ]
     },
     "execution_count": 222,
     "metadata": {},
     "output_type": "execute_result"
    },
    {
     "data": {
      "image/png": "[encoded data removed]",
      "text/plain": [
       "<Figure size 432x288 with 1 Axes>"
      ]
     },
     "metadata": {
      "needs_background": "light"
     },
     "output_type": "display_data"
    }
   ],
   "source": [
    "# plot that data for a single sample\n",
    "data[\"P09\"][\"stats\"][\"overall\"].plot(kind=\"bar\")"
   ]
  },
  {
   "cell_type": "code",
   "execution_count": 223,
   "id": "65226264",
   "metadata": {},
   "outputs": [
    {
     "data": {
      "text/plain": [
       "[Gaze_focus        AI      Env     Human\n",
       " Condition                              \n",
       " TODO        0.042178  0.74154  0.216282,\n",
       " Gaze_focus        AI       Env     Human\n",
       " Condition                               \n",
       " TODO        0.052364  0.831723  0.115913,\n",
       " Gaze_focus       AI       Env     Human\n",
       " Condition                              \n",
       " TODO        0.04533  0.581103  0.373566,\n",
       " Gaze_focus        AI       Env     Human\n",
       " Condition                               \n",
       " TODO        0.032305  0.885728  0.081967,\n",
       " Gaze_focus        AI       Env     Human\n",
       " Condition                               \n",
       " TODO        0.023268  0.654085  0.322647,\n",
       " Gaze_focus        AI       Env     Human\n",
       " Condition                               \n",
       " TODO        0.022472  0.893014  0.084514,\n",
       " Gaze_focus        AI       Env     Human\n",
       " Condition                               \n",
       " TODO        0.048181  0.679735  0.272083,\n",
       " Gaze_focus        AI       Env     Human\n",
       " Condition                               \n",
       " TODO        0.032427  0.819266  0.148307,\n",
       " Gaze_focus        AI      Env     Human\n",
       " Condition                              \n",
       " TODO        0.041076  0.69291  0.266015,\n",
       " Gaze_focus        AI       Env     Human\n",
       " Condition                               \n",
       " TODO        0.024121  0.687437  0.288442,\n",
       " Gaze_focus        AI       Env    Human\n",
       " Condition                              \n",
       " TODO        0.066602  0.780888  0.15251,\n",
       " Gaze_focus        AI       Env     Human\n",
       " Condition                               \n",
       " TODO        0.078189  0.483539  0.438272,\n",
       " Gaze_focus        AI       Env     Human\n",
       " Condition                               \n",
       " TODO        0.099281  0.725517  0.175202,\n",
       " Gaze_focus        AI       Env     Human\n",
       " Condition                               \n",
       " TODO        0.049753  0.826535  0.123711,\n",
       " Gaze_focus        AI       Env     Human\n",
       " Condition                               \n",
       " TODO        0.082474  0.684831  0.232695,\n",
       " Gaze_focus        AI       Env     Human\n",
       " Condition                               \n",
       " TODO        0.045688  0.690909  0.263403,\n",
       " Gaze_focus       AI       Env     Human\n",
       " Condition                              \n",
       " TODO        0.01846  0.758217  0.223323,\n",
       " Gaze_focus        AI       Env     Human\n",
       " Condition                               \n",
       " TODO        0.095217  0.695848  0.208935,\n",
       " Gaze_focus        AI       Env     Human\n",
       " Condition                               \n",
       " TODO        0.087179  0.588345  0.324476,\n",
       " Gaze_focus        AI       Env     Human\n",
       " Condition                               \n",
       " TODO        0.013314  0.885402  0.101284,\n",
       " Gaze_focus        AI       Env     Human\n",
       " Condition                               \n",
       " TODO        0.047248  0.534787  0.417965,\n",
       " Gaze_focus        AI       Env     Human\n",
       " Condition                               \n",
       " TODO        0.053393  0.557884  0.388723,\n",
       " Gaze_focus        AI       Env    Human\n",
       " Condition                              \n",
       " TODO        0.045748  0.525112  0.42914,\n",
       " Gaze_focus        AI       Env     Human\n",
       " Condition                               \n",
       " TODO        0.022285  0.869132  0.108582,\n",
       " Gaze_focus        AI       Env     Human\n",
       " Condition                               \n",
       " TODO        0.062868  0.849214  0.087917,\n",
       " Gaze_focus        AI       Env     Human\n",
       " Condition                               \n",
       " TODO        0.043265  0.718781  0.237955,\n",
       " Gaze_focus        AI       Env    Human\n",
       " Condition                              \n",
       " TODO        0.025902  0.711378  0.26272,\n",
       " Gaze_focus        AI       Env     Human\n",
       " Condition                               \n",
       " TODO        0.067326  0.671846  0.260829,\n",
       " Gaze_focus        AI       Env     Human\n",
       " Condition                               \n",
       " TODO        0.030801  0.899384  0.069815,\n",
       " Gaze_focus        AI       Env    Human\n",
       " Condition                              \n",
       " TODO        0.046986  0.764594  0.18842]"
      ]
     },
     "execution_count": 223,
     "metadata": {},
     "output_type": "execute_result"
    }
   ],
   "source": [
    "# plot that data averaged over all\n",
    "list_of_stats=[]\n",
    "for p in data:\n",
    "    list_of_stats.append(data[p][\"stats\"][\"overall\"])\n",
    "list_of_stats"
   ]
  },
  {
   "cell_type": "code",
   "execution_count": 225,
   "id": "f19e3eed",
   "metadata": {},
   "outputs": [
    {
     "data": {
      "text/html": [
       "<div>\n",
       "<style scoped>\n",
       "    .dataframe tbody tr th:only-of-type {\n",
       "        vertical-align: middle;\n",
       "    }\n",
       "\n",
       "    .dataframe tbody tr th {\n",
       "        vertical-align: top;\n",
       "    }\n",
       "\n",
       "    .dataframe thead th {\n",
       "        text-align: right;\n",
       "    }\n",
       "</style>\n",
       "<table border=\"1\" class=\"dataframe\">\n",
       "  <thead>\n",
       "    <tr style=\"text-align: right;\">\n",
       "      <th>Gaze_focus</th>\n",
       "      <th>AI</th>\n",
       "      <th>Env</th>\n",
       "      <th>Human</th>\n",
       "    </tr>\n",
       "    <tr>\n",
       "      <th>Condition</th>\n",
       "      <th></th>\n",
       "      <th></th>\n",
       "      <th></th>\n",
       "    </tr>\n",
       "  </thead>\n",
       "  <tbody>\n",
       "    <tr>\n",
       "      <th>TODO</th>\n",
       "      <td>0.042178</td>\n",
       "      <td>0.741540</td>\n",
       "      <td>0.216282</td>\n",
       "    </tr>\n",
       "    <tr>\n",
       "      <th>TODO</th>\n",
       "      <td>0.052364</td>\n",
       "      <td>0.831723</td>\n",
       "      <td>0.115913</td>\n",
       "    </tr>\n",
       "    <tr>\n",
       "      <th>TODO</th>\n",
       "      <td>0.045330</td>\n",
       "      <td>0.581103</td>\n",
       "      <td>0.373566</td>\n",
       "    </tr>\n",
       "    <tr>\n",
       "      <th>TODO</th>\n",
       "      <td>0.032305</td>\n",
       "      <td>0.885728</td>\n",
       "      <td>0.081967</td>\n",
       "    </tr>\n",
       "    <tr>\n",
       "      <th>TODO</th>\n",
       "      <td>0.023268</td>\n",
       "      <td>0.654085</td>\n",
       "      <td>0.322647</td>\n",
       "    </tr>\n",
       "    <tr>\n",
       "      <th>TODO</th>\n",
       "      <td>0.022472</td>\n",
       "      <td>0.893014</td>\n",
       "      <td>0.084514</td>\n",
       "    </tr>\n",
       "    <tr>\n",
       "      <th>TODO</th>\n",
       "      <td>0.048181</td>\n",
       "      <td>0.679735</td>\n",
       "      <td>0.272083</td>\n",
       "    </tr>\n",
       "    <tr>\n",
       "      <th>TODO</th>\n",
       "      <td>0.032427</td>\n",
       "      <td>0.819266</td>\n",
       "      <td>0.148307</td>\n",
       "    </tr>\n",
       "    <tr>\n",
       "      <th>TODO</th>\n",
       "      <td>0.041076</td>\n",
       "      <td>0.692910</td>\n",
       "      <td>0.266015</td>\n",
       "    </tr>\n",
       "    <tr>\n",
       "      <th>TODO</th>\n",
       "      <td>0.024121</td>\n",
       "      <td>0.687437</td>\n",
       "      <td>0.288442</td>\n",
       "    </tr>\n",
       "    <tr>\n",
       "      <th>TODO</th>\n",
       "      <td>0.066602</td>\n",
       "      <td>0.780888</td>\n",
       "      <td>0.152510</td>\n",
       "    </tr>\n",
       "    <tr>\n",
       "      <th>TODO</th>\n",
       "      <td>0.078189</td>\n",
       "      <td>0.483539</td>\n",
       "      <td>0.438272</td>\n",
       "    </tr>\n",
       "    <tr>\n",
       "      <th>TODO</th>\n",
       "      <td>0.099281</td>\n",
       "      <td>0.725517</td>\n",
       "      <td>0.175202</td>\n",
       "    </tr>\n",
       "    <tr>\n",
       "      <th>TODO</th>\n",
       "      <td>0.049753</td>\n",
       "      <td>0.826535</td>\n",
       "      <td>0.123711</td>\n",
       "    </tr>\n",
       "    <tr>\n",
       "      <th>TODO</th>\n",
       "      <td>0.082474</td>\n",
       "      <td>0.684831</td>\n",
       "      <td>0.232695</td>\n",
       "    </tr>\n",
       "    <tr>\n",
       "      <th>TODO</th>\n",
       "      <td>0.045688</td>\n",
       "      <td>0.690909</td>\n",
       "      <td>0.263403</td>\n",
       "    </tr>\n",
       "    <tr>\n",
       "      <th>TODO</th>\n",
       "      <td>0.018460</td>\n",
       "      <td>0.758217</td>\n",
       "      <td>0.223323</td>\n",
       "    </tr>\n",
       "    <tr>\n",
       "      <th>TODO</th>\n",
       "      <td>0.095217</td>\n",
       "      <td>0.695848</td>\n",
       "      <td>0.208935</td>\n",
       "    </tr>\n",
       "    <tr>\n",
       "      <th>TODO</th>\n",
       "      <td>0.087179</td>\n",
       "      <td>0.588345</td>\n",
       "      <td>0.324476</td>\n",
       "    </tr>\n",
       "    <tr>\n",
       "      <th>TODO</th>\n",
       "      <td>0.013314</td>\n",
       "      <td>0.885402</td>\n",
       "      <td>0.101284</td>\n",
       "    </tr>\n",
       "    <tr>\n",
       "      <th>TODO</th>\n",
       "      <td>0.047248</td>\n",
       "      <td>0.534787</td>\n",
       "      <td>0.417965</td>\n",
       "    </tr>\n",
       "    <tr>\n",
       "      <th>TODO</th>\n",
       "      <td>0.053393</td>\n",
       "      <td>0.557884</td>\n",
       "      <td>0.388723</td>\n",
       "    </tr>\n",
       "    <tr>\n",
       "      <th>TODO</th>\n",
       "      <td>0.045748</td>\n",
       "      <td>0.525112</td>\n",
       "      <td>0.429140</td>\n",
       "    </tr>\n",
       "    <tr>\n",
       "      <th>TODO</th>\n",
       "      <td>0.022285</td>\n",
       "      <td>0.869132</td>\n",
       "      <td>0.108582</td>\n",
       "    </tr>\n",
       "    <tr>\n",
       "      <th>TODO</th>\n",
       "      <td>0.062868</td>\n",
       "      <td>0.849214</td>\n",
       "      <td>0.087917</td>\n",
       "    </tr>\n",
       "    <tr>\n",
       "      <th>TODO</th>\n",
       "      <td>0.043265</td>\n",
       "      <td>0.718781</td>\n",
       "      <td>0.237955</td>\n",
       "    </tr>\n",
       "    <tr>\n",
       "      <th>TODO</th>\n",
       "      <td>0.025902</td>\n",
       "      <td>0.711378</td>\n",
       "      <td>0.262720</td>\n",
       "    </tr>\n",
       "    <tr>\n",
       "      <th>TODO</th>\n",
       "      <td>0.067326</td>\n",
       "      <td>0.671846</td>\n",
       "      <td>0.260829</td>\n",
       "    </tr>\n",
       "    <tr>\n",
       "      <th>TODO</th>\n",
       "      <td>0.030801</td>\n",
       "      <td>0.899384</td>\n",
       "      <td>0.069815</td>\n",
       "    </tr>\n",
       "    <tr>\n",
       "      <th>TODO</th>\n",
       "      <td>0.046986</td>\n",
       "      <td>0.764594</td>\n",
       "      <td>0.188420</td>\n",
       "    </tr>\n",
       "  </tbody>\n",
       "</table>\n",
       "</div>"
      ],
      "text/plain": [
       "Gaze_focus        AI       Env     Human\n",
       "Condition                               \n",
       "TODO        0.042178  0.741540  0.216282\n",
       "TODO        0.052364  0.831723  0.115913\n",
       "TODO        0.045330  0.581103  0.373566\n",
       "TODO        0.032305  0.885728  0.081967\n",
       "TODO        0.023268  0.654085  0.322647\n",
       "TODO        0.022472  0.893014  0.084514\n",
       "TODO        0.048181  0.679735  0.272083\n",
       "TODO        0.032427  0.819266  0.148307\n",
       "TODO        0.041076  0.692910  0.266015\n",
       "TODO        0.024121  0.687437  0.288442\n",
       "TODO        0.066602  0.780888  0.152510\n",
       "TODO        0.078189  0.483539  0.438272\n",
       "TODO        0.099281  0.725517  0.175202\n",
       "TODO        0.049753  0.826535  0.123711\n",
       "TODO        0.082474  0.684831  0.232695\n",
       "TODO        0.045688  0.690909  0.263403\n",
       "TODO        0.018460  0.758217  0.223323\n",
       "TODO        0.095217  0.695848  0.208935\n",
       "TODO        0.087179  0.588345  0.324476\n",
       "TODO        0.013314  0.885402  0.101284\n",
       "TODO        0.047248  0.534787  0.417965\n",
       "TODO        0.053393  0.557884  0.388723\n",
       "TODO        0.045748  0.525112  0.429140\n",
       "TODO        0.022285  0.869132  0.108582\n",
       "TODO        0.062868  0.849214  0.087917\n",
       "TODO        0.043265  0.718781  0.237955\n",
       "TODO        0.025902  0.711378  0.262720\n",
       "TODO        0.067326  0.671846  0.260829\n",
       "TODO        0.030801  0.899384  0.069815\n",
       "TODO        0.046986  0.764594  0.188420"
      ]
     },
     "execution_count": 225,
     "metadata": {},
     "output_type": "execute_result"
    }
   ],
   "source": [
    "stats_overall_concat=pd.concat(list_of_stats)\n",
    "stats_overall_concat"
   ]
  },
  {
   "cell_type": "code",
   "execution_count": 226,
   "id": "d86fa420",
   "metadata": {},
   "outputs": [
    {
     "name": "stdout",
     "output_type": "stream",
     "text": [
      "Gaze_focus       AI       Env     Human\n",
      "Condition                              \n",
      "TODO        0.04819  0.722956  0.228854\n",
      "Gaze_focus        AI       Env     Human\n",
      "Condition                               \n",
      "TODO        0.023083  0.117572  0.110479\n"
     ]
    }
   ],
   "source": [
    "by_row_index = stats_overall_concat.groupby(stats_overall_concat.index)\n",
    "df_means_overall = by_row_index.mean()\n",
    "df_std_overall = by_row_index.std()\n",
    "print(df_means_overall)\n",
    "print(df_std_overall)"
   ]
  },
  {
   "cell_type": "code",
   "execution_count": 227,
   "id": "cd9290ee",
   "metadata": {},
   "outputs": [
    {
     "data": {
      "text/plain": [
       "<AxesSubplot:xlabel='Condition'>"
      ]
     },
     "execution_count": 227,
     "metadata": {},
     "output_type": "execute_result"
    },
    {
     "data": {
      "image/png": "[encoded data removed]",
      "text/plain": [
       "<Figure size 432x288 with 1 Axes>"
      ]
     },
     "metadata": {
      "needs_background": "light"
     },
     "output_type": "display_data"
    }
   ],
   "source": [
    "# plot averaged for all participants\n",
    "df_means_overall.plot(kind=\"bar\", yerr=df_std_overall)"
   ]
  },
  {
   "cell_type": "code",
   "execution_count": null,
   "id": "09e4497d",
   "metadata": {},
   "outputs": [],
   "source": [
    "# plot that data averaged over lvl1 "
   ]
  },
  {
   "cell_type": "code",
   "execution_count": null,
   "id": "a945cd94",
   "metadata": {},
   "outputs": [],
   "source": [
    "# plot that data averaged over lvl2 "
   ]
  },
  {
   "cell_type": "markdown",
   "id": "de9333e0",
   "metadata": {},
   "source": [
    "# Export for SPSS\n",
    "\n"
   ]
  },
  {
   "cell_type": "code",
   "execution_count": 171,
   "id": "bc3580bd",
   "metadata": {},
   "outputs": [],
   "source": [
    "participants=[]\n",
    "workflow_ai=[]\n",
    "workflow_human=[]\n",
    "workflow_env=[]\n",
    "conf_ai=[]\n",
    "conf_human=[]\n",
    "conf_env=[]\n",
    "err_ai=[]\n",
    "err_human=[]\n",
    "err_env=[]"
   ]
  },
  {
   "cell_type": "code",
   "execution_count": 184,
   "id": "d620234c",
   "metadata": {},
   "outputs": [
    {
     "data": {
      "text/html": [
       "<div>\n",
       "<style scoped>\n",
       "    .dataframe tbody tr th:only-of-type {\n",
       "        vertical-align: middle;\n",
       "    }\n",
       "\n",
       "    .dataframe tbody tr th {\n",
       "        vertical-align: top;\n",
       "    }\n",
       "\n",
       "    .dataframe thead th {\n",
       "        text-align: right;\n",
       "    }\n",
       "</style>\n",
       "<table border=\"1\" class=\"dataframe\">\n",
       "  <thead>\n",
       "    <tr style=\"text-align: right;\">\n",
       "      <th>Gaze_focus</th>\n",
       "      <th>AI</th>\n",
       "      <th>Env</th>\n",
       "      <th>Human</th>\n",
       "    </tr>\n",
       "    <tr>\n",
       "      <th>Condition</th>\n",
       "      <th></th>\n",
       "      <th></th>\n",
       "      <th></th>\n",
       "    </tr>\n",
       "  </thead>\n",
       "  <tbody>\n",
       "    <tr>\n",
       "      <th>TODO</th>\n",
       "      <td>0.030594</td>\n",
       "      <td>0.882867</td>\n",
       "      <td>0.086538</td>\n",
       "    </tr>\n",
       "  </tbody>\n",
       "</table>\n",
       "</div>"
      ],
      "text/plain": [
       "Gaze_focus        AI       Env     Human\n",
       "Condition                               \n",
       "TODO        0.030594  0.882867  0.086538"
      ]
     },
     "execution_count": 184,
     "metadata": {},
     "output_type": "execute_result"
    }
   ],
   "source": [
    "data[\"P04\"][\"stats\"][\"overall\"]"
   ]
  },
  {
   "cell_type": "code",
   "execution_count": 183,
   "id": "d5cf894c",
   "metadata": {},
   "outputs": [
    {
     "data": {
      "text/plain": [
       "0.030594405594405596"
      ]
     },
     "execution_count": 183,
     "metadata": {},
     "output_type": "execute_result"
    }
   ],
   "source": [
    "data[\"P04\"][\"stats\"][\"overall\"][\"AI\"][\"TODO\"]"
   ]
  },
  {
   "cell_type": "code",
   "execution_count": 185,
   "id": "986ddbee",
   "metadata": {},
   "outputs": [
    {
     "ename": "KeyError",
     "evalue": "'Normal'",
     "output_type": "error",
     "traceback": [
      "\u001b[0;31m---------------------------------------------------------------------------\u001b[0m",
      "\u001b[0;31mTypeError\u001b[0m                                 Traceback (most recent call last)",
      "\u001b[0;32m~/opt/anaconda3/lib/python3.8/site-packages/pandas/core/indexes/base.py\u001b[0m in \u001b[0;36mget_value\u001b[0;34m(self, series, key)\u001b[0m\n\u001b[1;32m   4410\u001b[0m             \u001b[0;32mtry\u001b[0m\u001b[0;34m:\u001b[0m\u001b[0;34m\u001b[0m\u001b[0;34m\u001b[0m\u001b[0m\n\u001b[0;32m-> 4411\u001b[0;31m                 \u001b[0;32mreturn\u001b[0m \u001b[0mlibindex\u001b[0m\u001b[0;34m.\u001b[0m\u001b[0mget_value_at\u001b[0m\u001b[0;34m(\u001b[0m\u001b[0ms\u001b[0m\u001b[0;34m,\u001b[0m \u001b[0mkey\u001b[0m\u001b[0;34m)\u001b[0m\u001b[0;34m\u001b[0m\u001b[0;34m\u001b[0m\u001b[0m\n\u001b[0m\u001b[1;32m   4412\u001b[0m             \u001b[0;32mexcept\u001b[0m \u001b[0mIndexError\u001b[0m\u001b[0;34m:\u001b[0m\u001b[0;34m\u001b[0m\u001b[0;34m\u001b[0m\u001b[0m\n",
      "\u001b[0;32mpandas/_libs/index.pyx\u001b[0m in \u001b[0;36mpandas._libs.index.get_value_at\u001b[0;34m()\u001b[0m\n",
      "\u001b[0;32mpandas/_libs/index.pyx\u001b[0m in \u001b[0;36mpandas._libs.index.get_value_at\u001b[0;34m()\u001b[0m\n",
      "\u001b[0;32mpandas/_libs/util.pxd\u001b[0m in \u001b[0;36mpandas._libs.util.get_value_at\u001b[0;34m()\u001b[0m\n",
      "\u001b[0;32mpandas/_libs/util.pxd\u001b[0m in \u001b[0;36mpandas._libs.util.validate_indexer\u001b[0;34m()\u001b[0m\n",
      "\u001b[0;31mTypeError\u001b[0m: 'str' object cannot be interpreted as an integer",
      "\nDuring handling of the above exception, another exception occurred:\n",
      "\u001b[0;31mKeyError\u001b[0m                                  Traceback (most recent call last)",
      "\u001b[0;32m<ipython-input-185-67e7c3274ba8>\u001b[0m in \u001b[0;36m<module>\u001b[0;34m\u001b[0m\n\u001b[1;32m      3\u001b[0m     \u001b[0mstats_overall\u001b[0m\u001b[0;34m=\u001b[0m\u001b[0mdata\u001b[0m\u001b[0;34m[\u001b[0m\u001b[0;34m\"P04\"\u001b[0m\u001b[0;34m]\u001b[0m\u001b[0;34m[\u001b[0m\u001b[0;34m\"stats\"\u001b[0m\u001b[0;34m]\u001b[0m\u001b[0;34m[\u001b[0m\u001b[0;34m\"overall\"\u001b[0m\u001b[0;34m]\u001b[0m\u001b[0;34m\u001b[0m\u001b[0;34m\u001b[0m\u001b[0m\n\u001b[1;32m      4\u001b[0m \u001b[0;34m\u001b[0m\u001b[0m\n\u001b[0;32m----> 5\u001b[0;31m     \u001b[0mworkflow_ai\u001b[0m\u001b[0;34m.\u001b[0m\u001b[0mappend\u001b[0m\u001b[0;34m(\u001b[0m\u001b[0mstats_overall\u001b[0m\u001b[0;34m[\u001b[0m\u001b[0;34m\"AI\"\u001b[0m\u001b[0;34m]\u001b[0m\u001b[0;34m[\u001b[0m\u001b[0;34m\"Normal\"\u001b[0m\u001b[0;34m]\u001b[0m\u001b[0;34m)\u001b[0m\u001b[0;34m\u001b[0m\u001b[0;34m\u001b[0m\u001b[0m\n\u001b[0m\u001b[1;32m      6\u001b[0m     \u001b[0mworkflow_human\u001b[0m\u001b[0;34m.\u001b[0m\u001b[0mappend\u001b[0m\u001b[0;34m(\u001b[0m\u001b[0mstats_overall\u001b[0m\u001b[0;34m[\u001b[0m\u001b[0;34m\"Human\"\u001b[0m\u001b[0;34m]\u001b[0m\u001b[0;34m[\u001b[0m\u001b[0;34m\"Normal\"\u001b[0m\u001b[0;34m]\u001b[0m\u001b[0;34m)\u001b[0m\u001b[0;34m\u001b[0m\u001b[0;34m\u001b[0m\u001b[0m\n\u001b[1;32m      7\u001b[0m     \u001b[0mworkflow_env\u001b[0m\u001b[0;34m.\u001b[0m\u001b[0mappend\u001b[0m\u001b[0;34m(\u001b[0m\u001b[0mstats_overall\u001b[0m\u001b[0;34m[\u001b[0m\u001b[0;34m\"Env\"\u001b[0m\u001b[0;34m]\u001b[0m\u001b[0;34m[\u001b[0m\u001b[0;34m\"Normal\"\u001b[0m\u001b[0;34m]\u001b[0m\u001b[0;34m)\u001b[0m\u001b[0;34m\u001b[0m\u001b[0;34m\u001b[0m\u001b[0m\n",
      "\u001b[0;32m~/opt/anaconda3/lib/python3.8/site-packages/pandas/core/series.py\u001b[0m in \u001b[0;36m__getitem__\u001b[0;34m(self, key)\u001b[0m\n\u001b[1;32m    869\u001b[0m         \u001b[0mkey\u001b[0m \u001b[0;34m=\u001b[0m \u001b[0mcom\u001b[0m\u001b[0;34m.\u001b[0m\u001b[0mapply_if_callable\u001b[0m\u001b[0;34m(\u001b[0m\u001b[0mkey\u001b[0m\u001b[0;34m,\u001b[0m \u001b[0mself\u001b[0m\u001b[0;34m)\u001b[0m\u001b[0;34m\u001b[0m\u001b[0;34m\u001b[0m\u001b[0m\n\u001b[1;32m    870\u001b[0m         \u001b[0;32mtry\u001b[0m\u001b[0;34m:\u001b[0m\u001b[0;34m\u001b[0m\u001b[0;34m\u001b[0m\u001b[0m\n\u001b[0;32m--> 871\u001b[0;31m             \u001b[0mresult\u001b[0m \u001b[0;34m=\u001b[0m \u001b[0mself\u001b[0m\u001b[0;34m.\u001b[0m\u001b[0mindex\u001b[0m\u001b[0;34m.\u001b[0m\u001b[0mget_value\u001b[0m\u001b[0;34m(\u001b[0m\u001b[0mself\u001b[0m\u001b[0;34m,\u001b[0m \u001b[0mkey\u001b[0m\u001b[0;34m)\u001b[0m\u001b[0;34m\u001b[0m\u001b[0;34m\u001b[0m\u001b[0m\n\u001b[0m\u001b[1;32m    872\u001b[0m \u001b[0;34m\u001b[0m\u001b[0m\n\u001b[1;32m    873\u001b[0m             \u001b[0;32mif\u001b[0m \u001b[0;32mnot\u001b[0m \u001b[0mis_scalar\u001b[0m\u001b[0;34m(\u001b[0m\u001b[0mresult\u001b[0m\u001b[0;34m)\u001b[0m\u001b[0;34m:\u001b[0m\u001b[0;34m\u001b[0m\u001b[0;34m\u001b[0m\u001b[0m\n",
      "\u001b[0;32m~/opt/anaconda3/lib/python3.8/site-packages/pandas/core/indexes/base.py\u001b[0m in \u001b[0;36mget_value\u001b[0;34m(self, series, key)\u001b[0m\n\u001b[1;32m   4417\u001b[0m                     \u001b[0;32mraise\u001b[0m \u001b[0mInvalidIndexError\u001b[0m\u001b[0;34m(\u001b[0m\u001b[0mkey\u001b[0m\u001b[0;34m)\u001b[0m\u001b[0;34m\u001b[0m\u001b[0;34m\u001b[0m\u001b[0m\n\u001b[1;32m   4418\u001b[0m                 \u001b[0;32melse\u001b[0m\u001b[0;34m:\u001b[0m\u001b[0;34m\u001b[0m\u001b[0;34m\u001b[0m\u001b[0m\n\u001b[0;32m-> 4419\u001b[0;31m                     \u001b[0;32mraise\u001b[0m \u001b[0me1\u001b[0m\u001b[0;34m\u001b[0m\u001b[0;34m\u001b[0m\u001b[0m\n\u001b[0m\u001b[1;32m   4420\u001b[0m             \u001b[0;32mexcept\u001b[0m \u001b[0mException\u001b[0m\u001b[0;34m:\u001b[0m\u001b[0;34m\u001b[0m\u001b[0;34m\u001b[0m\u001b[0m\n\u001b[1;32m   4421\u001b[0m                 \u001b[0;32mraise\u001b[0m \u001b[0me1\u001b[0m\u001b[0;34m\u001b[0m\u001b[0;34m\u001b[0m\u001b[0m\n",
      "\u001b[0;32m~/opt/anaconda3/lib/python3.8/site-packages/pandas/core/indexes/base.py\u001b[0m in \u001b[0;36mget_value\u001b[0;34m(self, series, key)\u001b[0m\n\u001b[1;32m   4403\u001b[0m         \u001b[0mk\u001b[0m \u001b[0;34m=\u001b[0m \u001b[0mself\u001b[0m\u001b[0;34m.\u001b[0m\u001b[0m_convert_scalar_indexer\u001b[0m\u001b[0;34m(\u001b[0m\u001b[0mk\u001b[0m\u001b[0;34m,\u001b[0m \u001b[0mkind\u001b[0m\u001b[0;34m=\u001b[0m\u001b[0;34m\"getitem\"\u001b[0m\u001b[0;34m)\u001b[0m\u001b[0;34m\u001b[0m\u001b[0;34m\u001b[0m\u001b[0m\n\u001b[1;32m   4404\u001b[0m         \u001b[0;32mtry\u001b[0m\u001b[0;34m:\u001b[0m\u001b[0;34m\u001b[0m\u001b[0;34m\u001b[0m\u001b[0m\n\u001b[0;32m-> 4405\u001b[0;31m             \u001b[0;32mreturn\u001b[0m \u001b[0mself\u001b[0m\u001b[0;34m.\u001b[0m\u001b[0m_engine\u001b[0m\u001b[0;34m.\u001b[0m\u001b[0mget_value\u001b[0m\u001b[0;34m(\u001b[0m\u001b[0ms\u001b[0m\u001b[0;34m,\u001b[0m \u001b[0mk\u001b[0m\u001b[0;34m,\u001b[0m \u001b[0mtz\u001b[0m\u001b[0;34m=\u001b[0m\u001b[0mgetattr\u001b[0m\u001b[0;34m(\u001b[0m\u001b[0mseries\u001b[0m\u001b[0;34m.\u001b[0m\u001b[0mdtype\u001b[0m\u001b[0;34m,\u001b[0m \u001b[0;34m\"tz\"\u001b[0m\u001b[0;34m,\u001b[0m \u001b[0;32mNone\u001b[0m\u001b[0;34m)\u001b[0m\u001b[0;34m)\u001b[0m\u001b[0;34m\u001b[0m\u001b[0;34m\u001b[0m\u001b[0m\n\u001b[0m\u001b[1;32m   4406\u001b[0m         \u001b[0;32mexcept\u001b[0m \u001b[0mKeyError\u001b[0m \u001b[0;32mas\u001b[0m \u001b[0me1\u001b[0m\u001b[0;34m:\u001b[0m\u001b[0;34m\u001b[0m\u001b[0;34m\u001b[0m\u001b[0m\n\u001b[1;32m   4407\u001b[0m             \u001b[0;32mif\u001b[0m \u001b[0mlen\u001b[0m\u001b[0;34m(\u001b[0m\u001b[0mself\u001b[0m\u001b[0;34m)\u001b[0m \u001b[0;34m>\u001b[0m \u001b[0;36m0\u001b[0m \u001b[0;32mand\u001b[0m \u001b[0;34m(\u001b[0m\u001b[0mself\u001b[0m\u001b[0;34m.\u001b[0m\u001b[0mholds_integer\u001b[0m\u001b[0;34m(\u001b[0m\u001b[0;34m)\u001b[0m \u001b[0;32mor\u001b[0m \u001b[0mself\u001b[0m\u001b[0;34m.\u001b[0m\u001b[0mis_boolean\u001b[0m\u001b[0;34m(\u001b[0m\u001b[0;34m)\u001b[0m\u001b[0;34m)\u001b[0m\u001b[0;34m:\u001b[0m\u001b[0;34m\u001b[0m\u001b[0;34m\u001b[0m\u001b[0m\n",
      "\u001b[0;32mpandas/_libs/index.pyx\u001b[0m in \u001b[0;36mpandas._libs.index.IndexEngine.get_value\u001b[0;34m()\u001b[0m\n",
      "\u001b[0;32mpandas/_libs/index.pyx\u001b[0m in \u001b[0;36mpandas._libs.index.IndexEngine.get_value\u001b[0;34m()\u001b[0m\n",
      "\u001b[0;32mpandas/_libs/index.pyx\u001b[0m in \u001b[0;36mpandas._libs.index.IndexEngine.get_loc\u001b[0;34m()\u001b[0m\n",
      "\u001b[0;32mpandas/_libs/hashtable_class_helper.pxi\u001b[0m in \u001b[0;36mpandas._libs.hashtable.PyObjectHashTable.get_item\u001b[0;34m()\u001b[0m\n",
      "\u001b[0;32mpandas/_libs/hashtable_class_helper.pxi\u001b[0m in \u001b[0;36mpandas._libs.hashtable.PyObjectHashTable.get_item\u001b[0;34m()\u001b[0m\n",
      "\u001b[0;31mKeyError\u001b[0m: 'Normal'"
     ]
    }
   ],
   "source": [
    "for p in data:\n",
    "    participants.append(p)\n",
    "    stats_overall=data[\"P04\"][\"stats\"][\"overall\"]\n",
    "    \n",
    "    workflow_ai.append(stats_overall[\"AI\"][\"Normal\"])\n",
    "    workflow_human.append(stats_overall[\"Human\"][\"Normal\"])\n",
    "    workflow_env.append(stats_overall[\"Env\"][\"Normal\"])\n",
    "    \n",
    "    conf_ai.append(stats_overall[\"AI\"][\"Confusion\"])\n",
    "    conf_human.append(stats_overall[\"Human\"][\"Confusion\"])\n",
    "    conf_env.append(stats_overall[\"Env\"][\"Confusion\"])\n",
    "    \n",
    "    err_ai.append(stats_overall[\"AI\"][\"Error\"])\n",
    "    err_human.append(stats_overall[\"Human\"][\"Error\"])\n",
    "    err_env.append(stats_overall[\"Env\"][\"Error\"])\n",
    "    "
   ]
  },
  {
   "cell_type": "code",
   "execution_count": 177,
   "id": "7a0508e9",
   "metadata": {},
   "outputs": [],
   "source": [
    "# export collected data to csv for analysis in spss\n",
    "spss_data = {'participant_id': participants, \n",
    "             'Workflow_AI': workflow_ai, 'Workflow_Human': workflow_human, 'Workflow_Env': workflow_env, \n",
    "             'Conf_AI': conf_ai, 'Conf_Human': conf_human, 'Conf_Env': conf_env,\n",
    "             'Err_AI': err_ai, 'Err_Human': err_human, 'Err_Env': err_env,}\n",
    "spss_df = pd.DataFrame(data=spss_data)\n",
    "#spss_df.to_csv(index=False, \"data_for_spss\")"
   ]
  },
  {
   "cell_type": "code",
   "execution_count": 178,
   "id": "1f7c4bd5",
   "metadata": {},
   "outputs": [
    {
     "data": {
      "text/html": [
       "<div>\n",
       "<style scoped>\n",
       "    .dataframe tbody tr th:only-of-type {\n",
       "        vertical-align: middle;\n",
       "    }\n",
       "\n",
       "    .dataframe tbody tr th {\n",
       "        vertical-align: top;\n",
       "    }\n",
       "\n",
       "    .dataframe thead th {\n",
       "        text-align: right;\n",
       "    }\n",
       "</style>\n",
       "<table border=\"1\" class=\"dataframe\">\n",
       "  <thead>\n",
       "    <tr style=\"text-align: right;\">\n",
       "      <th></th>\n",
       "      <th>participant_id</th>\n",
       "      <th>Workflow_AI</th>\n",
       "      <th>Workflow_Human</th>\n",
       "      <th>Workflow_Env</th>\n",
       "      <th>Conf_AI</th>\n",
       "      <th>Conf_Human</th>\n",
       "      <th>Conf_Env</th>\n",
       "      <th>Err_AI</th>\n",
       "      <th>Err_Human</th>\n",
       "      <th>Err_Env</th>\n",
       "    </tr>\n",
       "  </thead>\n",
       "  <tbody>\n",
       "  </tbody>\n",
       "</table>\n",
       "</div>"
      ],
      "text/plain": [
       "Empty DataFrame\n",
       "Columns: [participant_id, Workflow_AI, Workflow_Human, Workflow_Env, Conf_AI, Conf_Human, Conf_Env, Err_AI, Err_Human, Err_Env]\n",
       "Index: []"
      ]
     },
     "execution_count": 178,
     "metadata": {},
     "output_type": "execute_result"
    }
   ],
   "source": [
    "spss_df"
   ]
  },
  {
   "cell_type": "code",
   "execution_count": null,
   "id": "5328fcf5",
   "metadata": {},
   "outputs": [],
   "source": []
  },
  {
   "cell_type": "code",
   "execution_count": null,
   "id": "971f3ca0",
   "metadata": {},
   "outputs": [],
   "source": []
  },
  {
   "cell_type": "code",
   "execution_count": null,
   "id": "c22ccdad",
   "metadata": {},
   "outputs": [],
   "source": []
  },
  {
   "cell_type": "markdown",
   "id": "89597d91",
   "metadata": {},
   "source": [
    "# Old test"
   ]
  },
  {
   "cell_type": "code",
   "execution_count": 32,
   "id": "7d8bb03f",
   "metadata": {},
   "outputs": [],
   "source": [
    "test=data[\"P02\"][\"001\"]"
   ]
  },
  {
   "cell_type": "code",
   "execution_count": 52,
   "id": "b3fed9e2",
   "metadata": {},
   "outputs": [
    {
     "name": "stderr",
     "output_type": "stream",
     "text": [
      "<ipython-input-52-dcbf52a0e5a6>:1: SettingWithCopyWarning: \n",
      "A value is trying to be set on a copy of a slice from a DataFrame\n",
      "\n",
      "See the caveats in the documentation: https://pandas.pydata.org/pandas-docs/stable/user_guide/indexing.html#returning-a-view-versus-a-copy\n",
      "  test[\"Condition\"][0:30]=\"Confusion\"\n"
     ]
    }
   ],
   "source": [
    "test[\"Condition\"][0:30]=\"Confusion\""
   ]
  },
  {
   "cell_type": "code",
   "execution_count": 53,
   "id": "7764b331",
   "metadata": {},
   "outputs": [
    {
     "data": {
      "text/html": [
       "<div>\n",
       "<style scoped>\n",
       "    .dataframe tbody tr th:only-of-type {\n",
       "        vertical-align: middle;\n",
       "    }\n",
       "\n",
       "    .dataframe tbody tr th {\n",
       "        vertical-align: top;\n",
       "    }\n",
       "\n",
       "    .dataframe thead th {\n",
       "        text-align: right;\n",
       "    }\n",
       "</style>\n",
       "<table border=\"1\" class=\"dataframe\">\n",
       "  <thead>\n",
       "    <tr style=\"text-align: right;\">\n",
       "      <th></th>\n",
       "      <th>Unnamed: 0</th>\n",
       "      <th>norm_pos_x</th>\n",
       "      <th>norm_pos_y</th>\n",
       "      <th>Human x</th>\n",
       "      <th>Human y</th>\n",
       "      <th>Agent x</th>\n",
       "      <th>Agent y</th>\n",
       "      <th>Frame number</th>\n",
       "      <th>gaze_to_human</th>\n",
       "      <th>gaze_to_ai</th>\n",
       "      <th>Gaze_focus</th>\n",
       "      <th>Condition</th>\n",
       "    </tr>\n",
       "  </thead>\n",
       "  <tbody>\n",
       "    <tr>\n",
       "      <th>0</th>\n",
       "      <td>0</td>\n",
       "      <td>579.062810</td>\n",
       "      <td>299.030757</td>\n",
       "      <td>624.5</td>\n",
       "      <td>365</td>\n",
       "      <td>481.0</td>\n",
       "      <td>222</td>\n",
       "      <td>0</td>\n",
       "      <td>80.102929</td>\n",
       "      <td>124.699849</td>\n",
       "      <td>Env</td>\n",
       "      <td>Confusion</td>\n",
       "    </tr>\n",
       "    <tr>\n",
       "      <th>1</th>\n",
       "      <td>1</td>\n",
       "      <td>577.224428</td>\n",
       "      <td>339.964374</td>\n",
       "      <td>624.0</td>\n",
       "      <td>364</td>\n",
       "      <td>480.5</td>\n",
       "      <td>220</td>\n",
       "      <td>1</td>\n",
       "      <td>52.589594</td>\n",
       "      <td>154.100831</td>\n",
       "      <td>Env</td>\n",
       "      <td>Confusion</td>\n",
       "    </tr>\n",
       "    <tr>\n",
       "      <th>2</th>\n",
       "      <td>2</td>\n",
       "      <td>600.289828</td>\n",
       "      <td>403.841444</td>\n",
       "      <td>624.5</td>\n",
       "      <td>364</td>\n",
       "      <td>482.0</td>\n",
       "      <td>220</td>\n",
       "      <td>2</td>\n",
       "      <td>46.620522</td>\n",
       "      <td>218.609606</td>\n",
       "      <td>Env</td>\n",
       "      <td>Confusion</td>\n",
       "    </tr>\n",
       "    <tr>\n",
       "      <th>3</th>\n",
       "      <td>3</td>\n",
       "      <td>600.842422</td>\n",
       "      <td>403.534150</td>\n",
       "      <td>624.5</td>\n",
       "      <td>364</td>\n",
       "      <td>482.0</td>\n",
       "      <td>220</td>\n",
       "      <td>3</td>\n",
       "      <td>46.072009</td>\n",
       "      <td>218.651105</td>\n",
       "      <td>Env</td>\n",
       "      <td>Confusion</td>\n",
       "    </tr>\n",
       "    <tr>\n",
       "      <th>4</th>\n",
       "      <td>4</td>\n",
       "      <td>590.888894</td>\n",
       "      <td>407.877364</td>\n",
       "      <td>624.5</td>\n",
       "      <td>364</td>\n",
       "      <td>482.0</td>\n",
       "      <td>220</td>\n",
       "      <td>4</td>\n",
       "      <td>55.271417</td>\n",
       "      <td>217.151318</td>\n",
       "      <td>Env</td>\n",
       "      <td>Confusion</td>\n",
       "    </tr>\n",
       "  </tbody>\n",
       "</table>\n",
       "</div>"
      ],
      "text/plain": [
       "   Unnamed: 0  norm_pos_x  norm_pos_y  Human x  Human y  Agent x  Agent y  \\\n",
       "0           0  579.062810  299.030757    624.5      365    481.0      222   \n",
       "1           1  577.224428  339.964374    624.0      364    480.5      220   \n",
       "2           2  600.289828  403.841444    624.5      364    482.0      220   \n",
       "3           3  600.842422  403.534150    624.5      364    482.0      220   \n",
       "4           4  590.888894  407.877364    624.5      364    482.0      220   \n",
       "\n",
       "   Frame number  gaze_to_human  gaze_to_ai Gaze_focus  Condition  \n",
       "0             0      80.102929  124.699849        Env  Confusion  \n",
       "1             1      52.589594  154.100831        Env  Confusion  \n",
       "2             2      46.620522  218.609606        Env  Confusion  \n",
       "3             3      46.072009  218.651105        Env  Confusion  \n",
       "4             4      55.271417  217.151318        Env  Confusion  "
      ]
     },
     "execution_count": 53,
     "metadata": {},
     "output_type": "execute_result"
    }
   ],
   "source": [
    "test.head()"
   ]
  },
  {
   "cell_type": "code",
   "execution_count": 57,
   "id": "5a5d53c8",
   "metadata": {},
   "outputs": [
    {
     "data": {
      "text/plain": [
       "Condition  Gaze_focus\n",
       "Confusion  Env            22\n",
       "           Human           7\n",
       "           AI              1\n",
       "TODO       Env           909\n",
       "           AI             74\n",
       "Name: Gaze_focus, dtype: int64"
      ]
     },
     "execution_count": 57,
     "metadata": {},
     "output_type": "execute_result"
    }
   ],
   "source": [
    "test.groupby(\"Condition\")[\"Gaze_focus\"].value_counts()"
   ]
  },
  {
   "cell_type": "code",
   "execution_count": 87,
   "id": "569dd128",
   "metadata": {},
   "outputs": [
    {
     "data": {
      "text/html": [
       "<div>\n",
       "<style scoped>\n",
       "    .dataframe tbody tr th:only-of-type {\n",
       "        vertical-align: middle;\n",
       "    }\n",
       "\n",
       "    .dataframe tbody tr th {\n",
       "        vertical-align: top;\n",
       "    }\n",
       "\n",
       "    .dataframe thead th {\n",
       "        text-align: right;\n",
       "    }\n",
       "</style>\n",
       "<table border=\"1\" class=\"dataframe\">\n",
       "  <thead>\n",
       "    <tr style=\"text-align: right;\">\n",
       "      <th>Gaze_focus</th>\n",
       "      <th>AI</th>\n",
       "      <th>Env</th>\n",
       "      <th>Human</th>\n",
       "    </tr>\n",
       "    <tr>\n",
       "      <th>Condition</th>\n",
       "      <th></th>\n",
       "      <th></th>\n",
       "      <th></th>\n",
       "    </tr>\n",
       "  </thead>\n",
       "  <tbody>\n",
       "    <tr>\n",
       "      <th>Confusion</th>\n",
       "      <td>0.033333</td>\n",
       "      <td>0.733333</td>\n",
       "      <td>0.233333</td>\n",
       "    </tr>\n",
       "    <tr>\n",
       "      <th>TODO</th>\n",
       "      <td>0.075280</td>\n",
       "      <td>0.924720</td>\n",
       "      <td>0.000000</td>\n",
       "    </tr>\n",
       "  </tbody>\n",
       "</table>\n",
       "</div>"
      ],
      "text/plain": [
       "Gaze_focus        AI       Env     Human\n",
       "Condition                               \n",
       "Confusion   0.033333  0.733333  0.233333\n",
       "TODO        0.075280  0.924720  0.000000"
      ]
     },
     "execution_count": 87,
     "metadata": {},
     "output_type": "execute_result"
    }
   ],
   "source": [
    "test.groupby(\"Condition\")[\"Gaze_focus\"].value_counts(normalize=True).unstack().fillna(0)\n"
   ]
  },
  {
   "cell_type": "code",
   "execution_count": 188,
   "id": "a63a0168",
   "metadata": {},
   "outputs": [
    {
     "data": {
      "text/plain": [
       "<AxesSubplot:xlabel='Condition'>"
      ]
     },
     "execution_count": 188,
     "metadata": {},
     "output_type": "execute_result"
    },
    {
     "data": {
      "image/png": "[encoded data removed]",
      "text/plain": [
       "<Figure size 432x288 with 1 Axes>"
      ]
     },
     "metadata": {
      "needs_background": "light"
     },
     "output_type": "display_data"
    }
   ],
   "source": [
    "test.groupby(\"Condition\")[\"Gaze_focus\"].value_counts(normalize=True).unstack().plot(kind=\"bar\")"
   ]
  },
  {
   "cell_type": "code",
   "execution_count": 203,
   "id": "bdf7a839",
   "metadata": {},
   "outputs": [
    {
     "data": {
      "image/png": "[encoded data removed]",
      "text/plain": [
       "<Figure size 432x288 with 1 Axes>"
      ]
     },
     "metadata": {
      "needs_background": "light"
     },
     "output_type": "display_data"
    }
   ],
   "source": [
    "a = test.groupby(\"Condition\")[\"Gaze_focus\"].value_counts(normalize=True).unstack().plot(kind=\"bar\", yerr=[0.04,0.01])"
   ]
  },
  {
   "cell_type": "code",
   "execution_count": null,
   "id": "f88562f8",
   "metadata": {},
   "outputs": [],
   "source": []
  }
 ],
 "metadata": {
  "kernelspec": {
   "display_name": "Python 3",
   "language": "python",
   "name": "python3"
  },
  "language_info": {
   "codemirror_mode": {
    "name": "ipython",
    "version": 3
   },
   "file_extension": ".py",
   "mimetype": "text/x-python",
   "name": "python",
   "nbconvert_exporter": "python",
   "pygments_lexer": "ipython3",
   "version": "3.8.8"
  }
 },
 "nbformat": 4,
 "nbformat_minor": 5
}
