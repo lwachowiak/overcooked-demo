{
 "cells": [
  {
   "cell_type": "markdown",
   "id": "3918d6da",
   "metadata": {},
   "source": [
    "# Import Data"
   ]
  },
  {
   "cell_type": "code",
   "execution_count": 239,
   "id": "4d8447f6",
   "metadata": {},
   "outputs": [],
   "source": [
    "import pandas as pd"
   ]
  },
  {
   "cell_type": "code",
   "execution_count": 312,
   "id": "bfc96f60",
   "metadata": {},
   "outputs": [],
   "source": [
    "# recompute tresholds for when gaze is on one of the character (standard/exact box should be 40):\n",
    "def recompute_treshold(df, thresh):\n",
    "    df.loc[(df[\"gaze_to_human\"] > thresh) & (df[\"gaze_to_ai\"] > thresh),\"Gaze_focus\"] = \"Env\"\n",
    "    df.loc[(df[\"gaze_to_human\"] < thresh) & (df[\"gaze_to_ai\"] > thresh),\"Gaze_focus\"] = \"Human\"\n",
    "    df.loc[(df[\"gaze_to_human\"] > thresh) & (df[\"gaze_to_ai\"] < thresh),\"Gaze_focus\"] = \"AI\"\n",
    "    df.loc[(df[\"gaze_to_human\"] < thresh) & (df[\"gaze_to_ai\"] < thresh) & (df[\"gaze_to_human\"] < df[\"gaze_to_ai\"]),\"Gaze_focus\"] = \"Human\"\n",
    "    df.loc[(df[\"gaze_to_human\"] < thresh) & (df[\"gaze_to_ai\"] < thresh) & (df[\"gaze_to_human\"] > df[\"gaze_to_ai\"]),\"Gaze_focus\"] = \"AI\"\n",
    "    return df"
   ]
  },
  {
   "cell_type": "code",
   "execution_count": 393,
   "id": "2566c3da",
   "metadata": {},
   "outputs": [],
   "source": [
    "# read in merged csvs\n",
    "threshold = 40\n",
    "path = \"gaze_agent_merged/\"\n",
    "data = {}\n",
    "\n",
    "for i in range(1,6):\n",
    "    if i not in [11, 24, 26, 32, 34]:\n",
    "        if i<10:\n",
    "            participant=\"P0\"+str(i)\n",
    "        else:\n",
    "            participant=\"P\"+str(i)\n",
    "            data[participant]={}\n",
    "        # add dict entry\n",
    "        data[participant]={}\n",
    "        \n",
    "        data[participant][\"000\"]=recompute_treshold(pd.read_csv(path+participant+\"_000_merged.csv\", sep=\";\"), threshold)\n",
    "        data[participant][\"001\"]=recompute_treshold(pd.read_csv(path+participant+\"_001_merged.csv\", sep=\";\"), threshold)\n",
    "    "
   ]
  },
  {
   "cell_type": "code",
   "execution_count": 394,
   "id": "e7c8dd4c",
   "metadata": {},
   "outputs": [
    {
     "name": "stdout",
     "output_type": "stream",
     "text": [
      "5 files were loaded\n"
     ]
    }
   ],
   "source": [
    "# check if all 30 are read in\n",
    "print(len(data), \"files were loaded\")"
   ]
  },
  {
   "cell_type": "code",
   "execution_count": 395,
   "id": "048b0e9e",
   "metadata": {},
   "outputs": [
    {
     "data": {
      "text/html": [
       "<div>\n",
       "<style scoped>\n",
       "    .dataframe tbody tr th:only-of-type {\n",
       "        vertical-align: middle;\n",
       "    }\n",
       "\n",
       "    .dataframe tbody tr th {\n",
       "        vertical-align: top;\n",
       "    }\n",
       "\n",
       "    .dataframe thead th {\n",
       "        text-align: right;\n",
       "    }\n",
       "</style>\n",
       "<table border=\"1\" class=\"dataframe\">\n",
       "  <thead>\n",
       "    <tr style=\"text-align: right;\">\n",
       "      <th></th>\n",
       "      <th>Unnamed: 0</th>\n",
       "      <th>norm_pos_x</th>\n",
       "      <th>norm_pos_y</th>\n",
       "      <th>Human x</th>\n",
       "      <th>Human y</th>\n",
       "      <th>Agent x</th>\n",
       "      <th>Agent y</th>\n",
       "      <th>Frame number</th>\n",
       "      <th>gaze_to_human</th>\n",
       "      <th>gaze_to_ai</th>\n",
       "      <th>Gaze_focus</th>\n",
       "      <th>Condition</th>\n",
       "    </tr>\n",
       "  </thead>\n",
       "  <tbody>\n",
       "    <tr>\n",
       "      <th>0</th>\n",
       "      <td>17</td>\n",
       "      <td>647.758690</td>\n",
       "      <td>193.043993</td>\n",
       "      <td>734.0</td>\n",
       "      <td>329</td>\n",
       "      <td>589.0</td>\n",
       "      <td>330</td>\n",
       "      <td>17</td>\n",
       "      <td>161.001861</td>\n",
       "      <td>149.028626</td>\n",
       "      <td>Env</td>\n",
       "      <td>Confusion</td>\n",
       "    </tr>\n",
       "    <tr>\n",
       "      <th>1</th>\n",
       "      <td>18</td>\n",
       "      <td>488.885407</td>\n",
       "      <td>397.716899</td>\n",
       "      <td>734.0</td>\n",
       "      <td>329</td>\n",
       "      <td>642.5</td>\n",
       "      <td>320</td>\n",
       "      <td>18</td>\n",
       "      <td>254.564679</td>\n",
       "      <td>172.155045</td>\n",
       "      <td>Env</td>\n",
       "      <td>Confusion</td>\n",
       "    </tr>\n",
       "    <tr>\n",
       "      <th>2</th>\n",
       "      <td>19</td>\n",
       "      <td>491.247234</td>\n",
       "      <td>394.674239</td>\n",
       "      <td>733.5</td>\n",
       "      <td>329</td>\n",
       "      <td>654.0</td>\n",
       "      <td>320</td>\n",
       "      <td>19</td>\n",
       "      <td>250.997029</td>\n",
       "      <td>179.066203</td>\n",
       "      <td>Env</td>\n",
       "      <td>Confusion</td>\n",
       "    </tr>\n",
       "    <tr>\n",
       "      <th>3</th>\n",
       "      <td>20</td>\n",
       "      <td>484.855397</td>\n",
       "      <td>406.854818</td>\n",
       "      <td>734.0</td>\n",
       "      <td>328</td>\n",
       "      <td>658.0</td>\n",
       "      <td>320</td>\n",
       "      <td>20</td>\n",
       "      <td>261.325689</td>\n",
       "      <td>193.708061</td>\n",
       "      <td>Env</td>\n",
       "      <td>Confusion</td>\n",
       "    </tr>\n",
       "    <tr>\n",
       "      <th>4</th>\n",
       "      <td>21</td>\n",
       "      <td>659.274050</td>\n",
       "      <td>347.087902</td>\n",
       "      <td>735.0</td>\n",
       "      <td>327</td>\n",
       "      <td>659.5</td>\n",
       "      <td>318</td>\n",
       "      <td>21</td>\n",
       "      <td>78.345028</td>\n",
       "      <td>29.088779</td>\n",
       "      <td>AI</td>\n",
       "      <td>Confusion</td>\n",
       "    </tr>\n",
       "  </tbody>\n",
       "</table>\n",
       "</div>"
      ],
      "text/plain": [
       "   Unnamed: 0  norm_pos_x  norm_pos_y  Human x  Human y  Agent x  Agent y  \\\n",
       "0          17  647.758690  193.043993    734.0      329    589.0      330   \n",
       "1          18  488.885407  397.716899    734.0      329    642.5      320   \n",
       "2          19  491.247234  394.674239    733.5      329    654.0      320   \n",
       "3          20  484.855397  406.854818    734.0      328    658.0      320   \n",
       "4          21  659.274050  347.087902    735.0      327    659.5      318   \n",
       "\n",
       "   Frame number  gaze_to_human  gaze_to_ai Gaze_focus  Condition  \n",
       "0            17     161.001861  149.028626        Env  Confusion  \n",
       "1            18     254.564679  172.155045        Env  Confusion  \n",
       "2            19     250.997029  179.066203        Env  Confusion  \n",
       "3            20     261.325689  193.708061        Env  Confusion  \n",
       "4            21      78.345028   29.088779         AI  Confusion  "
      ]
     },
     "execution_count": 395,
     "metadata": {},
     "output_type": "execute_result"
    }
   ],
   "source": [
    "# sanity check\n",
    "data[\"P01\"][\"001\"].head()"
   ]
  },
  {
   "cell_type": "markdown",
   "id": "ceff424c",
   "metadata": {},
   "source": [
    "# Frame Counts "
   ]
  },
  {
   "cell_type": "code",
   "execution_count": 396,
   "id": "d3e32410",
   "metadata": {},
   "outputs": [],
   "source": [
    "counters={\"lvl1\":{\"Gaze\":{\"AI\":0, \"Human\":0, \"Env\":0}, \n",
    "                  \"Condition\":{\"Error\":0, \"Confusion\":0, \"Normal\":0}},\n",
    "          \"lvl2\":{\"Gaze\":{\"AI\":0, \"Human\":0, \"Env\":0}, \n",
    "                  \"Condition\":{\"Error\":0, \"Confusion\":0, \"Normal\":0}}\n",
    "         }\n"
   ]
  },
  {
   "cell_type": "code",
   "execution_count": 397,
   "id": "bc46426e",
   "metadata": {},
   "outputs": [
    {
     "name": "stdout",
     "output_type": "stream",
     "text": [
      "P01\n",
      "P02\n",
      "P03\n",
      "P04\n",
      "P05\n"
     ]
    },
    {
     "data": {
      "text/plain": [
       "{'lvl1': {'Gaze': {'AI': 101, 'Human': 951, 'Env': 3983},\n",
       "  'Condition': {'Error': 277, 'Confusion': 2744, 'Normal': 2014}},\n",
       " 'lvl2': {'Gaze': {'AI': 283, 'Human': 1196, 'Env': 3331},\n",
       "  'Condition': {'Error': 366, 'Confusion': 364, 'Normal': 4080}}}"
      ]
     },
     "execution_count": 397,
     "metadata": {},
     "output_type": "execute_result"
    }
   ],
   "source": [
    "for p in data:\n",
    "    print(p)\n",
    "    # add counts for lvl1\n",
    "    counters[\"lvl1\"][\"Gaze\"][\"AI\"]+=(data[p][\"000\"].Gaze_focus == 'AI').sum()\n",
    "    counters[\"lvl1\"][\"Gaze\"][\"Human\"]+=(data[p][\"000\"].Gaze_focus == 'Human').sum()\n",
    "    counters[\"lvl1\"][\"Gaze\"][\"Env\"]+=(data[p][\"000\"].Gaze_focus == 'Env').sum()\n",
    "    counters[\"lvl1\"][\"Condition\"][\"Error\"]+=(data[p][\"000\"].Condition == 'Error').sum()\n",
    "    counters[\"lvl1\"][\"Condition\"][\"Confusion\"]+=(data[p][\"000\"].Condition == 'Confusion').sum()\n",
    "    counters[\"lvl1\"][\"Condition\"][\"Normal\"]+=(data[p][\"000\"].Condition == 'Normal').sum()\n",
    "    \n",
    "    # add counts for lvl2\n",
    "    counters[\"lvl2\"][\"Gaze\"][\"AI\"]+=(data[p][\"001\"].Gaze_focus == 'AI').sum()\n",
    "    counters[\"lvl2\"][\"Gaze\"][\"Human\"]+=(data[p][\"001\"].Gaze_focus == 'Human').sum()\n",
    "    counters[\"lvl2\"][\"Gaze\"][\"Env\"]+=(data[p][\"001\"].Gaze_focus == 'Env').sum()\n",
    "    counters[\"lvl2\"][\"Condition\"][\"Error\"]+=(data[p][\"001\"].Condition == 'Error').sum()\n",
    "    counters[\"lvl2\"][\"Condition\"][\"Confusion\"]+=(data[p][\"001\"].Condition == 'Confusion').sum()\n",
    "    counters[\"lvl2\"][\"Condition\"][\"Normal\"]+=(data[p][\"001\"].Condition == 'Normal').sum()\n",
    "    \n",
    "counters    "
   ]
  },
  {
   "cell_type": "code",
   "execution_count": 398,
   "id": "8c1185d8",
   "metadata": {},
   "outputs": [],
   "source": [
    "#counters={\"lvl1\":{\"Gaze\":{\"AI\":[], \"Human\":[], \"Env\":[]}, \n",
    "#                  \"Condition\":{\"Error\":[], \"Confusion\":[], \"Normal\":[]}},\n",
    "#          \"lvl2\":{\"Gaze\":{\"AI\":[], \"Human\":[], \"Env\":[]}, \n",
    "#                  \"Condition\":{\"Error\":[], \"Confusion\":[], \"Normal\":[]}}\n",
    "#         }\n",
    "#\n",
    "#for p in data:\n",
    "#    print(p)\n",
    "#    # add counts for lvl1\n",
    "#    counters[\"lvl1\"][\"Gaze\"][\"AI\"].append((data[p][\"000\"].Gaze_focus == 'AI').sum())\n",
    "#    counters[\"lvl1\"][\"Gaze\"][\"Human\"].append((data[p][\"000\"].Gaze_focus == 'Human').sum())\n",
    "#    counters[\"lvl1\"][\"Gaze\"][\"Env\"].append((data[p][\"000\"].Gaze_focus == 'Env').sum())\n",
    "#    counters[\"lvl1\"][\"Condition\"][\"Error\"].append((data[p][\"000\"].Condition == 'Error').sum())\n",
    "#    counters[\"lvl1\"][\"Condition\"][\"Confusion\"].append((data[p][\"000\"].Condition == 'Confusion').sum())\n",
    "#    counters[\"lvl1\"][\"Condition\"][\"Normal\"].append((data[p][\"000\"].Condition == 'Normal').sum())\n",
    "#    \n",
    "#    # add counts for lvl2\n",
    "#    counters[\"lvl2\"][\"Gaze\"][\"AI\"].append((data[p][\"001\"].Gaze_focus == 'AI').sum())\n",
    "#    counters[\"lvl2\"][\"Gaze\"][\"Human\"].append((data[p][\"001\"].Gaze_focus == 'Human').sum())\n",
    "#    counters[\"lvl2\"][\"Gaze\"][\"Env\"].append((data[p][\"001\"].Gaze_focus == 'Env').sum())\n",
    "#    counters[\"lvl2\"][\"Condition\"][\"Error\"].append((data[p][\"001\"].Condition == 'Error').sum())\n",
    "#    counters[\"lvl2\"][\"Condition\"][\"Confusion\"].append((data[p][\"001\"].Condition == 'Confusion').sum())\n",
    "#    counters[\"lvl2\"][\"Condition\"][\"Normal\"].append((data[p][\"001\"].Condition == 'Normal').sum())\n",
    "#    \n",
    "#counters    "
   ]
  },
  {
   "cell_type": "markdown",
   "id": "915c46f7",
   "metadata": {},
   "source": [
    "# Compute AoI Analysis for the 3 Conditions"
   ]
  },
  {
   "cell_type": "code",
   "execution_count": 399,
   "id": "2e2b71f9",
   "metadata": {},
   "outputs": [
    {
     "name": "stdout",
     "output_type": "stream",
     "text": [
      "P01\n",
      "P02\n",
      "P03\n",
      "P04\n",
      "P05\n"
     ]
    }
   ],
   "source": [
    "# for each particpant compute the percentage looked at agent/human/env for the different conditions conf/err/bau\n",
    "for p in data:\n",
    "    print(p)\n",
    "    # compute stats\n",
    "    data[p][\"stats\"]={}\n",
    "    lvls_concatenated=pd.concat([data[p][\"000\"], data[p][\"001\"]], ignore_index=True, sort=False)\n",
    "    data[p][\"stats\"][\"overall\"]=lvls_concatenated.groupby(\"Condition\")[\"Gaze_focus\"].value_counts(normalize=True).unstack().fillna(0)\n",
    "    data[p][\"stats\"][\"lvl1\"]=data[p][\"000\"].groupby(\"Condition\")[\"Gaze_focus\"].value_counts(normalize=True).unstack().fillna(0)\n",
    "    data[p][\"stats\"][\"lvl2\"]=data[p][\"001\"].groupby(\"Condition\")[\"Gaze_focus\"].value_counts(normalize=True).unstack().fillna(0)"
   ]
  },
  {
   "cell_type": "code",
   "execution_count": 400,
   "id": "df5a1936",
   "metadata": {},
   "outputs": [
    {
     "data": {
      "text/plain": [
       "<AxesSubplot:xlabel='Condition'>"
      ]
     },
     "execution_count": 400,
     "metadata": {},
     "output_type": "execute_result"
    },
    {
     "data": {
      "image/png": "[encoded data removed]",
      "text/plain": [
       "<Figure size 432x288 with 1 Axes>"
      ]
     },
     "metadata": {
      "needs_background": "light"
     },
     "output_type": "display_data"
    }
   ],
   "source": [
    "# plot that data for a single sample\n",
    "data[\"P02\"][\"stats\"][\"lvl2\"].plot(kind=\"bar\")"
   ]
  },
  {
   "cell_type": "code",
   "execution_count": 401,
   "id": "d676d94a",
   "metadata": {},
   "outputs": [
    {
     "data": {
      "text/plain": [
       "[Gaze_focus        AI       Env     Human\n",
       " Condition                               \n",
       " Confusion   0.033510  0.816578  0.149912\n",
       " Error       0.037037  0.562963  0.400000\n",
       " Normal      0.046372  0.727749  0.225879,\n",
       " Gaze_focus        AI       Env     Human\n",
       " Condition                               \n",
       " Confusion   0.035280  0.874696  0.090024\n",
       " Error       0.160920  0.770115  0.068966\n",
       " Normal      0.056711  0.803403  0.139887,\n",
       " Gaze_focus        AI       Env     Human\n",
       " Condition                               \n",
       " Confusion   0.006696  0.621652  0.371652\n",
       " Error       0.171429  0.328571  0.500000\n",
       " Normal      0.075145  0.559538  0.365318,\n",
       " Gaze_focus        AI       Env     Human\n",
       " Condition                               \n",
       " Confusion   0.043360  0.869919  0.086721\n",
       " Error       0.013986  0.958042  0.027972\n",
       " Normal      0.031370  0.882843  0.085787,\n",
       " Gaze_focus        AI       Env     Human\n",
       " Condition                               \n",
       " Confusion   0.033040  0.713656  0.253304\n",
       " Error       0.024038  0.644231  0.331731\n",
       " Normal      0.019654  0.634434  0.345912]"
      ]
     },
     "execution_count": 401,
     "metadata": {},
     "output_type": "execute_result"
    }
   ],
   "source": [
    "# plot that data averaged over all\n",
    "list_of_stats=[]\n",
    "list_of_stats_lvl1=[]\n",
    "list_of_stats_lvl2=[]\n",
    "for p in data:\n",
    "    list_of_stats.append(data[p][\"stats\"][\"overall\"])\n",
    "    list_of_stats_lvl1.append(data[p][\"stats\"][\"lvl1\"])\n",
    "    list_of_stats_lvl2.append(data[p][\"stats\"][\"lvl2\"])\n",
    "list_of_stats"
   ]
  },
  {
   "cell_type": "code",
   "execution_count": 402,
   "id": "e4216f36",
   "metadata": {},
   "outputs": [
    {
     "data": {
      "text/html": [
       "<div>\n",
       "<style scoped>\n",
       "    .dataframe tbody tr th:only-of-type {\n",
       "        vertical-align: middle;\n",
       "    }\n",
       "\n",
       "    .dataframe tbody tr th {\n",
       "        vertical-align: top;\n",
       "    }\n",
       "\n",
       "    .dataframe thead th {\n",
       "        text-align: right;\n",
       "    }\n",
       "</style>\n",
       "<table border=\"1\" class=\"dataframe\">\n",
       "  <thead>\n",
       "    <tr style=\"text-align: right;\">\n",
       "      <th>Gaze_focus</th>\n",
       "      <th>AI</th>\n",
       "      <th>Env</th>\n",
       "      <th>Human</th>\n",
       "    </tr>\n",
       "    <tr>\n",
       "      <th>Condition</th>\n",
       "      <th></th>\n",
       "      <th></th>\n",
       "      <th></th>\n",
       "    </tr>\n",
       "  </thead>\n",
       "  <tbody>\n",
       "    <tr>\n",
       "      <th>Confusion</th>\n",
       "      <td>0.033510</td>\n",
       "      <td>0.816578</td>\n",
       "      <td>0.149912</td>\n",
       "    </tr>\n",
       "    <tr>\n",
       "      <th>Error</th>\n",
       "      <td>0.037037</td>\n",
       "      <td>0.562963</td>\n",
       "      <td>0.400000</td>\n",
       "    </tr>\n",
       "    <tr>\n",
       "      <th>Normal</th>\n",
       "      <td>0.046372</td>\n",
       "      <td>0.727749</td>\n",
       "      <td>0.225879</td>\n",
       "    </tr>\n",
       "    <tr>\n",
       "      <th>Confusion</th>\n",
       "      <td>0.035280</td>\n",
       "      <td>0.874696</td>\n",
       "      <td>0.090024</td>\n",
       "    </tr>\n",
       "    <tr>\n",
       "      <th>Error</th>\n",
       "      <td>0.160920</td>\n",
       "      <td>0.770115</td>\n",
       "      <td>0.068966</td>\n",
       "    </tr>\n",
       "    <tr>\n",
       "      <th>Normal</th>\n",
       "      <td>0.056711</td>\n",
       "      <td>0.803403</td>\n",
       "      <td>0.139887</td>\n",
       "    </tr>\n",
       "    <tr>\n",
       "      <th>Confusion</th>\n",
       "      <td>0.006696</td>\n",
       "      <td>0.621652</td>\n",
       "      <td>0.371652</td>\n",
       "    </tr>\n",
       "    <tr>\n",
       "      <th>Error</th>\n",
       "      <td>0.171429</td>\n",
       "      <td>0.328571</td>\n",
       "      <td>0.500000</td>\n",
       "    </tr>\n",
       "    <tr>\n",
       "      <th>Normal</th>\n",
       "      <td>0.075145</td>\n",
       "      <td>0.559538</td>\n",
       "      <td>0.365318</td>\n",
       "    </tr>\n",
       "    <tr>\n",
       "      <th>Confusion</th>\n",
       "      <td>0.043360</td>\n",
       "      <td>0.869919</td>\n",
       "      <td>0.086721</td>\n",
       "    </tr>\n",
       "    <tr>\n",
       "      <th>Error</th>\n",
       "      <td>0.013986</td>\n",
       "      <td>0.958042</td>\n",
       "      <td>0.027972</td>\n",
       "    </tr>\n",
       "    <tr>\n",
       "      <th>Normal</th>\n",
       "      <td>0.031370</td>\n",
       "      <td>0.882843</td>\n",
       "      <td>0.085787</td>\n",
       "    </tr>\n",
       "    <tr>\n",
       "      <th>Confusion</th>\n",
       "      <td>0.033040</td>\n",
       "      <td>0.713656</td>\n",
       "      <td>0.253304</td>\n",
       "    </tr>\n",
       "    <tr>\n",
       "      <th>Error</th>\n",
       "      <td>0.024038</td>\n",
       "      <td>0.644231</td>\n",
       "      <td>0.331731</td>\n",
       "    </tr>\n",
       "    <tr>\n",
       "      <th>Normal</th>\n",
       "      <td>0.019654</td>\n",
       "      <td>0.634434</td>\n",
       "      <td>0.345912</td>\n",
       "    </tr>\n",
       "  </tbody>\n",
       "</table>\n",
       "</div>"
      ],
      "text/plain": [
       "Gaze_focus        AI       Env     Human\n",
       "Condition                               \n",
       "Confusion   0.033510  0.816578  0.149912\n",
       "Error       0.037037  0.562963  0.400000\n",
       "Normal      0.046372  0.727749  0.225879\n",
       "Confusion   0.035280  0.874696  0.090024\n",
       "Error       0.160920  0.770115  0.068966\n",
       "Normal      0.056711  0.803403  0.139887\n",
       "Confusion   0.006696  0.621652  0.371652\n",
       "Error       0.171429  0.328571  0.500000\n",
       "Normal      0.075145  0.559538  0.365318\n",
       "Confusion   0.043360  0.869919  0.086721\n",
       "Error       0.013986  0.958042  0.027972\n",
       "Normal      0.031370  0.882843  0.085787\n",
       "Confusion   0.033040  0.713656  0.253304\n",
       "Error       0.024038  0.644231  0.331731\n",
       "Normal      0.019654  0.634434  0.345912"
      ]
     },
     "execution_count": 402,
     "metadata": {},
     "output_type": "execute_result"
    }
   ],
   "source": [
    "stats_overall_concat=pd.concat(list_of_stats)\n",
    "stats_lvl1_concat=pd.concat(list_of_stats_lvl1)\n",
    "stats_lvl2_concat=pd.concat(list_of_stats_lvl2)\n",
    "stats_overall_concat"
   ]
  },
  {
   "cell_type": "code",
   "execution_count": 403,
   "id": "5a9b7dea",
   "metadata": {},
   "outputs": [
    {
     "name": "stdout",
     "output_type": "stream",
     "text": [
      "Gaze_focus        AI       Env     Human\n",
      "Condition                               \n",
      "Confusion   0.030377  0.779300  0.190323\n",
      "Error       0.081482  0.652784  0.265734\n",
      "Normal      0.045850  0.721593  0.232557\n",
      "Gaze_focus        AI       Env     Human\n",
      "Condition                               \n",
      "Confusion   0.013877  0.109389  0.121730\n",
      "Error       0.077832  0.234629  0.207673\n",
      "Normal      0.021635  0.129026  0.123135\n"
     ]
    }
   ],
   "source": [
    "by_row_index = stats_overall_concat.groupby(stats_overall_concat.index)\n",
    "df_means_overall = by_row_index.mean()\n",
    "df_std_overall = by_row_index.std()\n",
    "print(df_means_overall)\n",
    "print(df_std_overall)"
   ]
  },
  {
   "cell_type": "code",
   "execution_count": 404,
   "id": "c7cb8adf",
   "metadata": {},
   "outputs": [
    {
     "data": {
      "text/plain": [
       "<AxesSubplot:xlabel='Condition'>"
      ]
     },
     "execution_count": 404,
     "metadata": {},
     "output_type": "execute_result"
    },
    {
     "data": {
      "image/png": "[encoded data removed]",
      "text/plain": [
       "<Figure size 432x288 with 1 Axes>"
      ]
     },
     "metadata": {
      "needs_background": "light"
     },
     "output_type": "display_data"
    }
   ],
   "source": [
    "# plot averaged for all participants\n",
    "df_means_overall.plot(kind=\"bar\", yerr=df_std_overall)"
   ]
  },
  {
   "cell_type": "code",
   "execution_count": 405,
   "id": "6097ffa4",
   "metadata": {},
   "outputs": [
    {
     "data": {
      "text/plain": [
       "<AxesSubplot:xlabel='Condition'>"
      ]
     },
     "execution_count": 405,
     "metadata": {},
     "output_type": "execute_result"
    },
    {
     "data": {
      "image/png": "[encoded data removed]",
      "text/plain": [
       "<Figure size 432x288 with 1 Axes>"
      ]
     },
     "metadata": {
      "needs_background": "light"
     },
     "output_type": "display_data"
    }
   ],
   "source": [
    "# plot that data averaged over lvl1 \n",
    "by_row_index_lvl1 = stats_lvl1_concat.groupby(stats_lvl1_concat.index)\n",
    "df_means_lvl1 = by_row_index_lvl1.mean()\n",
    "df_std_lvl1 = by_row_index_lvl1.std()\n",
    "df_means_lvl1.plot(kind=\"bar\", yerr=df_std_lvl1)"
   ]
  },
  {
   "cell_type": "code",
   "execution_count": 406,
   "id": "24b7cebf",
   "metadata": {
    "scrolled": true
   },
   "outputs": [
    {
     "data": {
      "text/plain": [
       "<AxesSubplot:xlabel='Condition'>"
      ]
     },
     "execution_count": 406,
     "metadata": {},
     "output_type": "execute_result"
    },
    {
     "data": {
      "image/png": "[encoded data removed]",
      "text/plain": [
       "<Figure size 432x288 with 1 Axes>"
      ]
     },
     "metadata": {
      "needs_background": "light"
     },
     "output_type": "display_data"
    }
   ],
   "source": [
    "# plot that data averaged over lvl2 \n",
    "by_row_index_lvl2 = stats_lvl2_concat.groupby(stats_lvl2_concat.index)\n",
    "df_means_lvl2 = by_row_index_lvl2.mean()\n",
    "df_std_lvl2 = by_row_index_lvl2.std()\n",
    "df_means_lvl2.plot(kind=\"bar\", yerr=df_std_lvl2)"
   ]
  },
  {
   "cell_type": "markdown",
   "id": "43645a66",
   "metadata": {},
   "source": [
    "# Export for SPSS\n",
    "\n"
   ]
  },
  {
   "cell_type": "code",
   "execution_count": 407,
   "id": "e732e60a",
   "metadata": {},
   "outputs": [],
   "source": [
    "participants=[]\n",
    "workflow_ai=[]\n",
    "workflow_human=[]\n",
    "workflow_env=[]\n",
    "conf_ai=[]\n",
    "conf_human=[]\n",
    "conf_env=[]\n",
    "err_ai=[]\n",
    "err_human=[]\n",
    "err_env=[]"
   ]
  },
  {
   "cell_type": "code",
   "execution_count": 408,
   "id": "16b36313",
   "metadata": {},
   "outputs": [
    {
     "data": {
      "text/html": [
       "<div>\n",
       "<style scoped>\n",
       "    .dataframe tbody tr th:only-of-type {\n",
       "        vertical-align: middle;\n",
       "    }\n",
       "\n",
       "    .dataframe tbody tr th {\n",
       "        vertical-align: top;\n",
       "    }\n",
       "\n",
       "    .dataframe thead th {\n",
       "        text-align: right;\n",
       "    }\n",
       "</style>\n",
       "<table border=\"1\" class=\"dataframe\">\n",
       "  <thead>\n",
       "    <tr style=\"text-align: right;\">\n",
       "      <th>Gaze_focus</th>\n",
       "      <th>AI</th>\n",
       "      <th>Env</th>\n",
       "      <th>Human</th>\n",
       "    </tr>\n",
       "    <tr>\n",
       "      <th>Condition</th>\n",
       "      <th></th>\n",
       "      <th></th>\n",
       "      <th></th>\n",
       "    </tr>\n",
       "  </thead>\n",
       "  <tbody>\n",
       "    <tr>\n",
       "      <th>Confusion</th>\n",
       "      <td>0.043360</td>\n",
       "      <td>0.869919</td>\n",
       "      <td>0.086721</td>\n",
       "    </tr>\n",
       "    <tr>\n",
       "      <th>Error</th>\n",
       "      <td>0.013986</td>\n",
       "      <td>0.958042</td>\n",
       "      <td>0.027972</td>\n",
       "    </tr>\n",
       "    <tr>\n",
       "      <th>Normal</th>\n",
       "      <td>0.031370</td>\n",
       "      <td>0.882843</td>\n",
       "      <td>0.085787</td>\n",
       "    </tr>\n",
       "  </tbody>\n",
       "</table>\n",
       "</div>"
      ],
      "text/plain": [
       "Gaze_focus        AI       Env     Human\n",
       "Condition                               \n",
       "Confusion   0.043360  0.869919  0.086721\n",
       "Error       0.013986  0.958042  0.027972\n",
       "Normal      0.031370  0.882843  0.085787"
      ]
     },
     "execution_count": 408,
     "metadata": {},
     "output_type": "execute_result"
    }
   ],
   "source": [
    "data[\"P04\"][\"stats\"][\"overall\"]"
   ]
  },
  {
   "cell_type": "code",
   "execution_count": 409,
   "id": "f7daa5a0",
   "metadata": {},
   "outputs": [
    {
     "data": {
      "text/plain": [
       "0.04336043360433604"
      ]
     },
     "execution_count": 409,
     "metadata": {},
     "output_type": "execute_result"
    }
   ],
   "source": [
    "data[\"P04\"][\"stats\"][\"overall\"][\"AI\"][\"Confusion\"]"
   ]
  },
  {
   "cell_type": "code",
   "execution_count": 410,
   "id": "526d75e1",
   "metadata": {},
   "outputs": [],
   "source": [
    "for p in data:\n",
    "    participants.append(p)\n",
    "    stats_overall=data[p][\"stats\"][\"overall\"]\n",
    "    \n",
    "    workflow_ai.append(stats_overall[\"AI\"][\"Normal\"])\n",
    "    workflow_human.append(stats_overall[\"Human\"][\"Normal\"])\n",
    "    workflow_env.append(stats_overall[\"Env\"][\"Normal\"])\n",
    "    \n",
    "    conf_ai.append(stats_overall[\"AI\"][\"Confusion\"])\n",
    "    conf_human.append(stats_overall[\"Human\"][\"Confusion\"])\n",
    "    conf_env.append(stats_overall[\"Env\"][\"Confusion\"])\n",
    "    \n",
    "    err_ai.append(stats_overall[\"AI\"][\"Error\"])\n",
    "    err_human.append(stats_overall[\"Human\"][\"Error\"])\n",
    "    err_env.append(stats_overall[\"Env\"][\"Error\"])\n",
    "    "
   ]
  },
  {
   "cell_type": "code",
   "execution_count": 413,
   "id": "27de9255",
   "metadata": {},
   "outputs": [
    {
     "data": {
      "text/html": [
       "<div>\n",
       "<style scoped>\n",
       "    .dataframe tbody tr th:only-of-type {\n",
       "        vertical-align: middle;\n",
       "    }\n",
       "\n",
       "    .dataframe tbody tr th {\n",
       "        vertical-align: top;\n",
       "    }\n",
       "\n",
       "    .dataframe thead th {\n",
       "        text-align: right;\n",
       "    }\n",
       "</style>\n",
       "<table border=\"1\" class=\"dataframe\">\n",
       "  <thead>\n",
       "    <tr style=\"text-align: right;\">\n",
       "      <th></th>\n",
       "      <th>participant_id</th>\n",
       "      <th>Workflow_AI</th>\n",
       "      <th>Workflow_Human</th>\n",
       "      <th>Workflow_Env</th>\n",
       "      <th>Conf_AI</th>\n",
       "      <th>Conf_Human</th>\n",
       "      <th>Conf_Env</th>\n",
       "      <th>Err_AI</th>\n",
       "      <th>Err_Human</th>\n",
       "      <th>Err_Env</th>\n",
       "    </tr>\n",
       "  </thead>\n",
       "  <tbody>\n",
       "    <tr>\n",
       "      <th>0</th>\n",
       "      <td>P01</td>\n",
       "      <td>0.046372</td>\n",
       "      <td>0.225879</td>\n",
       "      <td>0.727749</td>\n",
       "      <td>0.033510</td>\n",
       "      <td>0.149912</td>\n",
       "      <td>0.816578</td>\n",
       "      <td>0.037037</td>\n",
       "      <td>0.400000</td>\n",
       "      <td>0.562963</td>\n",
       "    </tr>\n",
       "    <tr>\n",
       "      <th>1</th>\n",
       "      <td>P02</td>\n",
       "      <td>0.056711</td>\n",
       "      <td>0.139887</td>\n",
       "      <td>0.803403</td>\n",
       "      <td>0.035280</td>\n",
       "      <td>0.090024</td>\n",
       "      <td>0.874696</td>\n",
       "      <td>0.160920</td>\n",
       "      <td>0.068966</td>\n",
       "      <td>0.770115</td>\n",
       "    </tr>\n",
       "    <tr>\n",
       "      <th>2</th>\n",
       "      <td>P03</td>\n",
       "      <td>0.075145</td>\n",
       "      <td>0.365318</td>\n",
       "      <td>0.559538</td>\n",
       "      <td>0.006696</td>\n",
       "      <td>0.371652</td>\n",
       "      <td>0.621652</td>\n",
       "      <td>0.171429</td>\n",
       "      <td>0.500000</td>\n",
       "      <td>0.328571</td>\n",
       "    </tr>\n",
       "    <tr>\n",
       "      <th>3</th>\n",
       "      <td>P04</td>\n",
       "      <td>0.031370</td>\n",
       "      <td>0.085787</td>\n",
       "      <td>0.882843</td>\n",
       "      <td>0.043360</td>\n",
       "      <td>0.086721</td>\n",
       "      <td>0.869919</td>\n",
       "      <td>0.013986</td>\n",
       "      <td>0.027972</td>\n",
       "      <td>0.958042</td>\n",
       "    </tr>\n",
       "    <tr>\n",
       "      <th>4</th>\n",
       "      <td>P05</td>\n",
       "      <td>0.019654</td>\n",
       "      <td>0.345912</td>\n",
       "      <td>0.634434</td>\n",
       "      <td>0.033040</td>\n",
       "      <td>0.253304</td>\n",
       "      <td>0.713656</td>\n",
       "      <td>0.024038</td>\n",
       "      <td>0.331731</td>\n",
       "      <td>0.644231</td>\n",
       "    </tr>\n",
       "  </tbody>\n",
       "</table>\n",
       "</div>"
      ],
      "text/plain": [
       "  participant_id  Workflow_AI  Workflow_Human  Workflow_Env   Conf_AI  \\\n",
       "0            P01     0.046372        0.225879      0.727749  0.033510   \n",
       "1            P02     0.056711        0.139887      0.803403  0.035280   \n",
       "2            P03     0.075145        0.365318      0.559538  0.006696   \n",
       "3            P04     0.031370        0.085787      0.882843  0.043360   \n",
       "4            P05     0.019654        0.345912      0.634434  0.033040   \n",
       "\n",
       "   Conf_Human  Conf_Env    Err_AI  Err_Human   Err_Env  \n",
       "0    0.149912  0.816578  0.037037   0.400000  0.562963  \n",
       "1    0.090024  0.874696  0.160920   0.068966  0.770115  \n",
       "2    0.371652  0.621652  0.171429   0.500000  0.328571  \n",
       "3    0.086721  0.869919  0.013986   0.027972  0.958042  \n",
       "4    0.253304  0.713656  0.024038   0.331731  0.644231  "
      ]
     },
     "execution_count": 413,
     "metadata": {},
     "output_type": "execute_result"
    }
   ],
   "source": [
    "# export collected data to csv for analysis in spss\n",
    "spss_data = {'participant_id': participants, \n",
    "             'Workflow_AI': workflow_ai, 'Workflow_Human': workflow_human, 'Workflow_Env': workflow_env, \n",
    "             'Conf_AI': conf_ai, 'Conf_Human': conf_human, 'Conf_Env': conf_env,\n",
    "             'Err_AI': err_ai, 'Err_Human': err_human, 'Err_Env': err_env,}\n",
    "spss_df = pd.DataFrame(data=spss_data)\n",
    "spss_df"
   ]
  },
  {
   "cell_type": "code",
   "execution_count": 415,
   "id": "bbd29f7f",
   "metadata": {},
   "outputs": [],
   "source": [
    "spss_df.to_csv(\"data_for_spss.csv\", index=False)"
   ]
  },
  {
   "cell_type": "code",
   "execution_count": null,
   "id": "c30c42ca",
   "metadata": {},
   "outputs": [],
   "source": []
  }
 ],
 "metadata": {
  "kernelspec": {
   "display_name": "Python 3",
   "language": "python",
   "name": "python3"
  },
  "language_info": {
   "codemirror_mode": {
    "name": "ipython",
    "version": 3
   },
   "file_extension": ".py",
   "mimetype": "text/x-python",
   "name": "python",
   "nbconvert_exporter": "python",
   "pygments_lexer": "ipython3",
   "version": "3.8.8"
  }
 },
 "nbformat": 4,
 "nbformat_minor": 5
}
