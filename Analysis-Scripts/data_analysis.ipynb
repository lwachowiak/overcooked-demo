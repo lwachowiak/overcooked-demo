{
 "cells": [
  {
   "cell_type": "code",
   "execution_count": 239,
   "id": "b1cab3fd",
   "metadata": {},
   "outputs": [],
   "source": [
    "import pandas as pd"
   ]
  },
  {
   "cell_type": "code",
   "execution_count": 261,
   "id": "7d89fdc6",
   "metadata": {},
   "outputs": [],
   "source": [
    "# read in merged csvs\n",
    "path = \"gaze_agent_merged/\"\n",
    "data = {}\n",
    "\n",
    "for i in range(1,6):\n",
    "    if i not in [11, 24, 26, 32, 34]:\n",
    "        if i<10:\n",
    "            participant=\"P0\"+str(i)\n",
    "        else:\n",
    "            participant=\"P\"+str(i)\n",
    "            data[participant]={}\n",
    "        # add dict entry\n",
    "        data[participant]={}\n",
    "        data[participant][\"000\"]=pd.read_csv(path+participant+\"_000_merged.csv\", sep=\";\")\n",
    "        data[participant][\"001\"]=pd.read_csv(path+participant+\"_001_merged.csv\", sep=\";\")\n",
    "    "
   ]
  },
  {
   "cell_type": "code",
   "execution_count": 262,
   "id": "978a0c29",
   "metadata": {},
   "outputs": [
    {
     "name": "stdout",
     "output_type": "stream",
     "text": [
      "5 files were loaded\n"
     ]
    }
   ],
   "source": [
    "# check if all 30 are read in\n",
    "print(len(data), \"files were loaded\")"
   ]
  },
  {
   "cell_type": "code",
   "execution_count": 263,
   "id": "d1bb16ed",
   "metadata": {},
   "outputs": [
    {
     "data": {
      "text/html": [
       "<div>\n",
       "<style scoped>\n",
       "    .dataframe tbody tr th:only-of-type {\n",
       "        vertical-align: middle;\n",
       "    }\n",
       "\n",
       "    .dataframe tbody tr th {\n",
       "        vertical-align: top;\n",
       "    }\n",
       "\n",
       "    .dataframe thead th {\n",
       "        text-align: right;\n",
       "    }\n",
       "</style>\n",
       "<table border=\"1\" class=\"dataframe\">\n",
       "  <thead>\n",
       "    <tr style=\"text-align: right;\">\n",
       "      <th></th>\n",
       "      <th>Unnamed: 0</th>\n",
       "      <th>norm_pos_x</th>\n",
       "      <th>norm_pos_y</th>\n",
       "      <th>Human x</th>\n",
       "      <th>Human y</th>\n",
       "      <th>Agent x</th>\n",
       "      <th>Agent y</th>\n",
       "      <th>Frame number</th>\n",
       "      <th>gaze_to_human</th>\n",
       "      <th>gaze_to_ai</th>\n",
       "      <th>Gaze_focus</th>\n",
       "      <th>Condition</th>\n",
       "    </tr>\n",
       "  </thead>\n",
       "  <tbody>\n",
       "    <tr>\n",
       "      <th>0</th>\n",
       "      <td>17</td>\n",
       "      <td>647.758690</td>\n",
       "      <td>193.043993</td>\n",
       "      <td>734.0</td>\n",
       "      <td>329</td>\n",
       "      <td>589.0</td>\n",
       "      <td>330</td>\n",
       "      <td>17</td>\n",
       "      <td>161.001861</td>\n",
       "      <td>149.028626</td>\n",
       "      <td>Env</td>\n",
       "      <td>Confusion</td>\n",
       "    </tr>\n",
       "    <tr>\n",
       "      <th>1</th>\n",
       "      <td>18</td>\n",
       "      <td>488.885407</td>\n",
       "      <td>397.716899</td>\n",
       "      <td>734.0</td>\n",
       "      <td>329</td>\n",
       "      <td>642.5</td>\n",
       "      <td>320</td>\n",
       "      <td>18</td>\n",
       "      <td>254.564679</td>\n",
       "      <td>172.155045</td>\n",
       "      <td>Env</td>\n",
       "      <td>Confusion</td>\n",
       "    </tr>\n",
       "    <tr>\n",
       "      <th>2</th>\n",
       "      <td>19</td>\n",
       "      <td>491.247234</td>\n",
       "      <td>394.674239</td>\n",
       "      <td>733.5</td>\n",
       "      <td>329</td>\n",
       "      <td>654.0</td>\n",
       "      <td>320</td>\n",
       "      <td>19</td>\n",
       "      <td>250.997029</td>\n",
       "      <td>179.066203</td>\n",
       "      <td>Env</td>\n",
       "      <td>Confusion</td>\n",
       "    </tr>\n",
       "    <tr>\n",
       "      <th>3</th>\n",
       "      <td>20</td>\n",
       "      <td>484.855397</td>\n",
       "      <td>406.854818</td>\n",
       "      <td>734.0</td>\n",
       "      <td>328</td>\n",
       "      <td>658.0</td>\n",
       "      <td>320</td>\n",
       "      <td>20</td>\n",
       "      <td>261.325689</td>\n",
       "      <td>193.708061</td>\n",
       "      <td>Env</td>\n",
       "      <td>Confusion</td>\n",
       "    </tr>\n",
       "    <tr>\n",
       "      <th>4</th>\n",
       "      <td>21</td>\n",
       "      <td>659.274050</td>\n",
       "      <td>347.087902</td>\n",
       "      <td>735.0</td>\n",
       "      <td>327</td>\n",
       "      <td>659.5</td>\n",
       "      <td>318</td>\n",
       "      <td>21</td>\n",
       "      <td>78.345028</td>\n",
       "      <td>29.088779</td>\n",
       "      <td>AI</td>\n",
       "      <td>Confusion</td>\n",
       "    </tr>\n",
       "  </tbody>\n",
       "</table>\n",
       "</div>"
      ],
      "text/plain": [
       "   Unnamed: 0  norm_pos_x  norm_pos_y  Human x  Human y  Agent x  Agent y  \\\n",
       "0          17  647.758690  193.043993    734.0      329    589.0      330   \n",
       "1          18  488.885407  397.716899    734.0      329    642.5      320   \n",
       "2          19  491.247234  394.674239    733.5      329    654.0      320   \n",
       "3          20  484.855397  406.854818    734.0      328    658.0      320   \n",
       "4          21  659.274050  347.087902    735.0      327    659.5      318   \n",
       "\n",
       "   Frame number  gaze_to_human  gaze_to_ai Gaze_focus  Condition  \n",
       "0            17     161.001861  149.028626        Env  Confusion  \n",
       "1            18     254.564679  172.155045        Env  Confusion  \n",
       "2            19     250.997029  179.066203        Env  Confusion  \n",
       "3            20     261.325689  193.708061        Env  Confusion  \n",
       "4            21      78.345028   29.088779         AI  Confusion  "
      ]
     },
     "execution_count": 263,
     "metadata": {},
     "output_type": "execute_result"
    }
   ],
   "source": [
    "# sanity check\n",
    "data[\"P01\"][\"001\"].head()"
   ]
  },
  {
   "cell_type": "markdown",
   "id": "9f44a4c0",
   "metadata": {},
   "source": [
    "# Frame Counts "
   ]
  },
  {
   "cell_type": "code",
   "execution_count": 264,
   "id": "b14f58c9",
   "metadata": {},
   "outputs": [],
   "source": [
    "counters={\"lvl1\":{\"Gaze\":{\"AI\":0, \"Human\":0, \"Env\":0}, \n",
    "                  \"Condition\":{\"Error\":0, \"Confusion\":0, \"Normal\":0}},\n",
    "          \"lvl2\":{\"Gaze\":{\"AI\":0, \"Human\":0, \"Env\":0}, \n",
    "                  \"Condition\":{\"Error\":0, \"Confusion\":0, \"Normal\":0}}\n",
    "         }\n"
   ]
  },
  {
   "cell_type": "code",
   "execution_count": 265,
   "id": "67882a9b",
   "metadata": {},
   "outputs": [
    {
     "name": "stdout",
     "output_type": "stream",
     "text": [
      "P01\n",
      "P02\n",
      "P03\n",
      "P04\n",
      "P05\n"
     ]
    },
    {
     "data": {
      "text/plain": [
       "{'lvl1': {'Gaze': {'AI': 101, 'Human': 951, 'Env': 3983},\n",
       "  'Condition': {'Error': 277, 'Confusion': 2744, 'Normal': 2014}},\n",
       " 'lvl2': {'Gaze': {'AI': 283, 'Human': 1196, 'Env': 3331},\n",
       "  'Condition': {'Error': 366, 'Confusion': 364, 'Normal': 4080}}}"
      ]
     },
     "execution_count": 265,
     "metadata": {},
     "output_type": "execute_result"
    }
   ],
   "source": [
    "for p in data:\n",
    "    print(p)\n",
    "    # add counts for lvl1\n",
    "    counters[\"lvl1\"][\"Gaze\"][\"AI\"]+=(data[p][\"000\"].Gaze_focus == 'AI').sum()\n",
    "    counters[\"lvl1\"][\"Gaze\"][\"Human\"]+=(data[p][\"000\"].Gaze_focus == 'Human').sum()\n",
    "    counters[\"lvl1\"][\"Gaze\"][\"Env\"]+=(data[p][\"000\"].Gaze_focus == 'Env').sum()\n",
    "    counters[\"lvl1\"][\"Condition\"][\"Error\"]+=(data[p][\"000\"].Condition == 'Error').sum()\n",
    "    counters[\"lvl1\"][\"Condition\"][\"Confusion\"]+=(data[p][\"000\"].Condition == 'Confusion').sum()\n",
    "    counters[\"lvl1\"][\"Condition\"][\"Normal\"]+=(data[p][\"000\"].Condition == 'Normal').sum()\n",
    "    \n",
    "    # add counts for lvl2\n",
    "    counters[\"lvl2\"][\"Gaze\"][\"AI\"]+=(data[p][\"001\"].Gaze_focus == 'AI').sum()\n",
    "    counters[\"lvl2\"][\"Gaze\"][\"Human\"]+=(data[p][\"001\"].Gaze_focus == 'Human').sum()\n",
    "    counters[\"lvl2\"][\"Gaze\"][\"Env\"]+=(data[p][\"001\"].Gaze_focus == 'Env').sum()\n",
    "    counters[\"lvl2\"][\"Condition\"][\"Error\"]+=(data[p][\"001\"].Condition == 'Error').sum()\n",
    "    counters[\"lvl2\"][\"Condition\"][\"Confusion\"]+=(data[p][\"001\"].Condition == 'Confusion').sum()\n",
    "    counters[\"lvl2\"][\"Condition\"][\"Normal\"]+=(data[p][\"001\"].Condition == 'Normal').sum()\n",
    "    \n",
    "counters    "
   ]
  },
  {
   "cell_type": "code",
   "execution_count": 266,
   "id": "55485735",
   "metadata": {},
   "outputs": [],
   "source": [
    "#counters={\"lvl1\":{\"Gaze\":{\"AI\":[], \"Human\":[], \"Env\":[]}, \n",
    "#                  \"Condition\":{\"Error\":[], \"Confusion\":[], \"Normal\":[]}},\n",
    "#          \"lvl2\":{\"Gaze\":{\"AI\":[], \"Human\":[], \"Env\":[]}, \n",
    "#                  \"Condition\":{\"Error\":[], \"Confusion\":[], \"Normal\":[]}}\n",
    "#         }\n",
    "#\n",
    "#for p in data:\n",
    "#    print(p)\n",
    "#    # add counts for lvl1\n",
    "#    counters[\"lvl1\"][\"Gaze\"][\"AI\"].append((data[p][\"000\"].Gaze_focus == 'AI').sum())\n",
    "#    counters[\"lvl1\"][\"Gaze\"][\"Human\"].append((data[p][\"000\"].Gaze_focus == 'Human').sum())\n",
    "#    counters[\"lvl1\"][\"Gaze\"][\"Env\"].append((data[p][\"000\"].Gaze_focus == 'Env').sum())\n",
    "#    counters[\"lvl1\"][\"Condition\"][\"Error\"].append((data[p][\"000\"].Condition == 'Error').sum())\n",
    "#    counters[\"lvl1\"][\"Condition\"][\"Confusion\"].append((data[p][\"000\"].Condition == 'Confusion').sum())\n",
    "#    counters[\"lvl1\"][\"Condition\"][\"Normal\"].append((data[p][\"000\"].Condition == 'Normal').sum())\n",
    "#    \n",
    "#    # add counts for lvl2\n",
    "#    counters[\"lvl2\"][\"Gaze\"][\"AI\"].append((data[p][\"001\"].Gaze_focus == 'AI').sum())\n",
    "#    counters[\"lvl2\"][\"Gaze\"][\"Human\"].append((data[p][\"001\"].Gaze_focus == 'Human').sum())\n",
    "#    counters[\"lvl2\"][\"Gaze\"][\"Env\"].append((data[p][\"001\"].Gaze_focus == 'Env').sum())\n",
    "#    counters[\"lvl2\"][\"Condition\"][\"Error\"].append((data[p][\"001\"].Condition == 'Error').sum())\n",
    "#    counters[\"lvl2\"][\"Condition\"][\"Confusion\"].append((data[p][\"001\"].Condition == 'Confusion').sum())\n",
    "#    counters[\"lvl2\"][\"Condition\"][\"Normal\"].append((data[p][\"001\"].Condition == 'Normal').sum())\n",
    "#    \n",
    "#counters    "
   ]
  },
  {
   "cell_type": "markdown",
   "id": "cd7216d9",
   "metadata": {},
   "source": [
    "# Compute AoI Analysis for the 3 conditions"
   ]
  },
  {
   "cell_type": "code",
   "execution_count": 267,
   "id": "965bd351",
   "metadata": {},
   "outputs": [
    {
     "name": "stdout",
     "output_type": "stream",
     "text": [
      "P01\n",
      "P02\n",
      "P03\n",
      "P04\n",
      "P05\n"
     ]
    }
   ],
   "source": [
    "# for each particpant compute the percentage looked at agent/human/env for the different conditions conf/err/bau\n",
    "for p in data:\n",
    "    print(p)\n",
    "    # compute stats\n",
    "    data[p][\"stats\"]={}\n",
    "    lvls_concatenated=pd.concat([data[p][\"000\"], data[p][\"001\"]], ignore_index=True, sort=False)\n",
    "    data[p][\"stats\"][\"overall\"]=lvls_concatenated.groupby(\"Condition\")[\"Gaze_focus\"].value_counts(normalize=True).unstack().fillna(0)\n",
    "    data[p][\"stats\"][\"lvl1\"]=data[p][\"000\"].groupby(\"Condition\")[\"Gaze_focus\"].value_counts(normalize=True).unstack().fillna(0)\n",
    "    data[p][\"stats\"][\"lvl2\"]=data[p][\"001\"].groupby(\"Condition\")[\"Gaze_focus\"].value_counts(normalize=True).unstack().fillna(0)"
   ]
  },
  {
   "cell_type": "code",
   "execution_count": 275,
   "id": "4719889a",
   "metadata": {},
   "outputs": [
    {
     "data": {
      "text/plain": [
       "<AxesSubplot:xlabel='Condition'>"
      ]
     },
     "execution_count": 275,
     "metadata": {},
     "output_type": "execute_result"
    },
    {
     "data": {
      "image/png": "[encoded data removed]",
      "text/plain": [
       "<Figure size 432x288 with 1 Axes>"
      ]
     },
     "metadata": {
      "needs_background": "light"
     },
     "output_type": "display_data"
    }
   ],
   "source": [
    "# plot that data for a single sample\n",
    "data[\"P02\"][\"stats\"][\"lvl2\"].plot(kind=\"bar\")"
   ]
  },
  {
   "cell_type": "code",
   "execution_count": 276,
   "id": "da254ad2",
   "metadata": {},
   "outputs": [
    {
     "data": {
      "text/plain": [
       "[Gaze_focus        AI       Env     Human\n",
       " Condition                               \n",
       " Confusion   0.033510  0.816578  0.149912\n",
       " Error       0.037037  0.562963  0.400000\n",
       " Normal      0.046372  0.727749  0.225879,\n",
       " Gaze_focus        AI       Env     Human\n",
       " Condition                               \n",
       " Confusion   0.035280  0.874696  0.090024\n",
       " Error       0.160920  0.770115  0.068966\n",
       " Normal      0.056711  0.803403  0.139887,\n",
       " Gaze_focus        AI       Env     Human\n",
       " Condition                               \n",
       " Confusion   0.006696  0.621652  0.371652\n",
       " Error       0.171429  0.328571  0.500000\n",
       " Normal      0.075145  0.559538  0.365318,\n",
       " Gaze_focus        AI       Env     Human\n",
       " Condition                               \n",
       " Confusion   0.043360  0.869919  0.086721\n",
       " Error       0.013986  0.958042  0.027972\n",
       " Normal      0.031370  0.882843  0.085787,\n",
       " Gaze_focus        AI       Env     Human\n",
       " Condition                               \n",
       " Confusion   0.033040  0.713656  0.253304\n",
       " Error       0.024038  0.644231  0.331731\n",
       " Normal      0.019654  0.634434  0.345912]"
      ]
     },
     "execution_count": 276,
     "metadata": {},
     "output_type": "execute_result"
    }
   ],
   "source": [
    "# plot that data averaged over all\n",
    "list_of_stats=[]\n",
    "for p in data:\n",
    "    list_of_stats.append(data[p][\"stats\"][\"overall\"])\n",
    "list_of_stats"
   ]
  },
  {
   "cell_type": "code",
   "execution_count": 277,
   "id": "e04b5760",
   "metadata": {},
   "outputs": [
    {
     "data": {
      "text/html": [
       "<div>\n",
       "<style scoped>\n",
       "    .dataframe tbody tr th:only-of-type {\n",
       "        vertical-align: middle;\n",
       "    }\n",
       "\n",
       "    .dataframe tbody tr th {\n",
       "        vertical-align: top;\n",
       "    }\n",
       "\n",
       "    .dataframe thead th {\n",
       "        text-align: right;\n",
       "    }\n",
       "</style>\n",
       "<table border=\"1\" class=\"dataframe\">\n",
       "  <thead>\n",
       "    <tr style=\"text-align: right;\">\n",
       "      <th>Gaze_focus</th>\n",
       "      <th>AI</th>\n",
       "      <th>Env</th>\n",
       "      <th>Human</th>\n",
       "    </tr>\n",
       "    <tr>\n",
       "      <th>Condition</th>\n",
       "      <th></th>\n",
       "      <th></th>\n",
       "      <th></th>\n",
       "    </tr>\n",
       "  </thead>\n",
       "  <tbody>\n",
       "    <tr>\n",
       "      <th>Confusion</th>\n",
       "      <td>0.033510</td>\n",
       "      <td>0.816578</td>\n",
       "      <td>0.149912</td>\n",
       "    </tr>\n",
       "    <tr>\n",
       "      <th>Error</th>\n",
       "      <td>0.037037</td>\n",
       "      <td>0.562963</td>\n",
       "      <td>0.400000</td>\n",
       "    </tr>\n",
       "    <tr>\n",
       "      <th>Normal</th>\n",
       "      <td>0.046372</td>\n",
       "      <td>0.727749</td>\n",
       "      <td>0.225879</td>\n",
       "    </tr>\n",
       "    <tr>\n",
       "      <th>Confusion</th>\n",
       "      <td>0.035280</td>\n",
       "      <td>0.874696</td>\n",
       "      <td>0.090024</td>\n",
       "    </tr>\n",
       "    <tr>\n",
       "      <th>Error</th>\n",
       "      <td>0.160920</td>\n",
       "      <td>0.770115</td>\n",
       "      <td>0.068966</td>\n",
       "    </tr>\n",
       "    <tr>\n",
       "      <th>Normal</th>\n",
       "      <td>0.056711</td>\n",
       "      <td>0.803403</td>\n",
       "      <td>0.139887</td>\n",
       "    </tr>\n",
       "    <tr>\n",
       "      <th>Confusion</th>\n",
       "      <td>0.006696</td>\n",
       "      <td>0.621652</td>\n",
       "      <td>0.371652</td>\n",
       "    </tr>\n",
       "    <tr>\n",
       "      <th>Error</th>\n",
       "      <td>0.171429</td>\n",
       "      <td>0.328571</td>\n",
       "      <td>0.500000</td>\n",
       "    </tr>\n",
       "    <tr>\n",
       "      <th>Normal</th>\n",
       "      <td>0.075145</td>\n",
       "      <td>0.559538</td>\n",
       "      <td>0.365318</td>\n",
       "    </tr>\n",
       "    <tr>\n",
       "      <th>Confusion</th>\n",
       "      <td>0.043360</td>\n",
       "      <td>0.869919</td>\n",
       "      <td>0.086721</td>\n",
       "    </tr>\n",
       "    <tr>\n",
       "      <th>Error</th>\n",
       "      <td>0.013986</td>\n",
       "      <td>0.958042</td>\n",
       "      <td>0.027972</td>\n",
       "    </tr>\n",
       "    <tr>\n",
       "      <th>Normal</th>\n",
       "      <td>0.031370</td>\n",
       "      <td>0.882843</td>\n",
       "      <td>0.085787</td>\n",
       "    </tr>\n",
       "    <tr>\n",
       "      <th>Confusion</th>\n",
       "      <td>0.033040</td>\n",
       "      <td>0.713656</td>\n",
       "      <td>0.253304</td>\n",
       "    </tr>\n",
       "    <tr>\n",
       "      <th>Error</th>\n",
       "      <td>0.024038</td>\n",
       "      <td>0.644231</td>\n",
       "      <td>0.331731</td>\n",
       "    </tr>\n",
       "    <tr>\n",
       "      <th>Normal</th>\n",
       "      <td>0.019654</td>\n",
       "      <td>0.634434</td>\n",
       "      <td>0.345912</td>\n",
       "    </tr>\n",
       "  </tbody>\n",
       "</table>\n",
       "</div>"
      ],
      "text/plain": [
       "Gaze_focus        AI       Env     Human\n",
       "Condition                               \n",
       "Confusion   0.033510  0.816578  0.149912\n",
       "Error       0.037037  0.562963  0.400000\n",
       "Normal      0.046372  0.727749  0.225879\n",
       "Confusion   0.035280  0.874696  0.090024\n",
       "Error       0.160920  0.770115  0.068966\n",
       "Normal      0.056711  0.803403  0.139887\n",
       "Confusion   0.006696  0.621652  0.371652\n",
       "Error       0.171429  0.328571  0.500000\n",
       "Normal      0.075145  0.559538  0.365318\n",
       "Confusion   0.043360  0.869919  0.086721\n",
       "Error       0.013986  0.958042  0.027972\n",
       "Normal      0.031370  0.882843  0.085787\n",
       "Confusion   0.033040  0.713656  0.253304\n",
       "Error       0.024038  0.644231  0.331731\n",
       "Normal      0.019654  0.634434  0.345912"
      ]
     },
     "execution_count": 277,
     "metadata": {},
     "output_type": "execute_result"
    }
   ],
   "source": [
    "stats_overall_concat=pd.concat(list_of_stats)\n",
    "stats_overall_concat"
   ]
  },
  {
   "cell_type": "code",
   "execution_count": 278,
   "id": "469ae88a",
   "metadata": {},
   "outputs": [
    {
     "name": "stdout",
     "output_type": "stream",
     "text": [
      "Gaze_focus        AI       Env     Human\n",
      "Condition                               \n",
      "Confusion   0.030377  0.779300  0.190323\n",
      "Error       0.081482  0.652784  0.265734\n",
      "Normal      0.045850  0.721593  0.232557\n",
      "Gaze_focus        AI       Env     Human\n",
      "Condition                               \n",
      "Confusion   0.013877  0.109389  0.121730\n",
      "Error       0.077832  0.234629  0.207673\n",
      "Normal      0.021635  0.129026  0.123135\n"
     ]
    }
   ],
   "source": [
    "by_row_index = stats_overall_concat.groupby(stats_overall_concat.index)\n",
    "df_means_overall = by_row_index.mean()\n",
    "df_std_overall = by_row_index.std()\n",
    "print(df_means_overall)\n",
    "print(df_std_overall)"
   ]
  },
  {
   "cell_type": "code",
   "execution_count": 279,
   "id": "9aba6ffd",
   "metadata": {},
   "outputs": [
    {
     "data": {
      "text/plain": [
       "<AxesSubplot:xlabel='Condition'>"
      ]
     },
     "execution_count": 279,
     "metadata": {},
     "output_type": "execute_result"
    },
    {
     "data": {
      "image/png": "[encoded data removed]",
      "text/plain": [
       "<Figure size 432x288 with 1 Axes>"
      ]
     },
     "metadata": {
      "needs_background": "light"
     },
     "output_type": "display_data"
    }
   ],
   "source": [
    "# plot averaged for all participants\n",
    "df_means_overall.plot(kind=\"bar\", yerr=df_std_overall)"
   ]
  },
  {
   "cell_type": "code",
   "execution_count": 280,
   "id": "e6db220d",
   "metadata": {},
   "outputs": [],
   "source": [
    "# plot that data averaged over lvl1 "
   ]
  },
  {
   "cell_type": "code",
   "execution_count": 281,
   "id": "758cb8d3",
   "metadata": {},
   "outputs": [],
   "source": [
    "# plot that data averaged over lvl2 "
   ]
  },
  {
   "cell_type": "markdown",
   "id": "54f9a37a",
   "metadata": {},
   "source": [
    "# Export for SPSS\n",
    "\n"
   ]
  },
  {
   "cell_type": "code",
   "execution_count": 282,
   "id": "6d0353ee",
   "metadata": {},
   "outputs": [],
   "source": [
    "participants=[]\n",
    "workflow_ai=[]\n",
    "workflow_human=[]\n",
    "workflow_env=[]\n",
    "conf_ai=[]\n",
    "conf_human=[]\n",
    "conf_env=[]\n",
    "err_ai=[]\n",
    "err_human=[]\n",
    "err_env=[]"
   ]
  },
  {
   "cell_type": "code",
   "execution_count": 283,
   "id": "e5526260",
   "metadata": {},
   "outputs": [
    {
     "data": {
      "text/html": [
       "<div>\n",
       "<style scoped>\n",
       "    .dataframe tbody tr th:only-of-type {\n",
       "        vertical-align: middle;\n",
       "    }\n",
       "\n",
       "    .dataframe tbody tr th {\n",
       "        vertical-align: top;\n",
       "    }\n",
       "\n",
       "    .dataframe thead th {\n",
       "        text-align: right;\n",
       "    }\n",
       "</style>\n",
       "<table border=\"1\" class=\"dataframe\">\n",
       "  <thead>\n",
       "    <tr style=\"text-align: right;\">\n",
       "      <th>Gaze_focus</th>\n",
       "      <th>AI</th>\n",
       "      <th>Env</th>\n",
       "      <th>Human</th>\n",
       "    </tr>\n",
       "    <tr>\n",
       "      <th>Condition</th>\n",
       "      <th></th>\n",
       "      <th></th>\n",
       "      <th></th>\n",
       "    </tr>\n",
       "  </thead>\n",
       "  <tbody>\n",
       "    <tr>\n",
       "      <th>Confusion</th>\n",
       "      <td>0.043360</td>\n",
       "      <td>0.869919</td>\n",
       "      <td>0.086721</td>\n",
       "    </tr>\n",
       "    <tr>\n",
       "      <th>Error</th>\n",
       "      <td>0.013986</td>\n",
       "      <td>0.958042</td>\n",
       "      <td>0.027972</td>\n",
       "    </tr>\n",
       "    <tr>\n",
       "      <th>Normal</th>\n",
       "      <td>0.031370</td>\n",
       "      <td>0.882843</td>\n",
       "      <td>0.085787</td>\n",
       "    </tr>\n",
       "  </tbody>\n",
       "</table>\n",
       "</div>"
      ],
      "text/plain": [
       "Gaze_focus        AI       Env     Human\n",
       "Condition                               \n",
       "Confusion   0.043360  0.869919  0.086721\n",
       "Error       0.013986  0.958042  0.027972\n",
       "Normal      0.031370  0.882843  0.085787"
      ]
     },
     "execution_count": 283,
     "metadata": {},
     "output_type": "execute_result"
    }
   ],
   "source": [
    "data[\"P04\"][\"stats\"][\"overall\"]"
   ]
  },
  {
   "cell_type": "code",
   "execution_count": 285,
   "id": "e36d8bd1",
   "metadata": {},
   "outputs": [
    {
     "data": {
      "text/plain": [
       "0.04336043360433604"
      ]
     },
     "execution_count": 285,
     "metadata": {},
     "output_type": "execute_result"
    }
   ],
   "source": [
    "data[\"P04\"][\"stats\"][\"overall\"][\"AI\"][\"Confusion\"]"
   ]
  },
  {
   "cell_type": "code",
   "execution_count": 185,
   "id": "298e32d4",
   "metadata": {},
   "outputs": [
    {
     "ename": "KeyError",
     "evalue": "'Normal'",
     "output_type": "error",
     "traceback": [
      "\u001b[0;31m---------------------------------------------------------------------------\u001b[0m",
      "\u001b[0;31mTypeError\u001b[0m                                 Traceback (most recent call last)",
      "\u001b[0;32m~/opt/anaconda3/lib/python3.8/site-packages/pandas/core/indexes/base.py\u001b[0m in \u001b[0;36mget_value\u001b[0;34m(self, series, key)\u001b[0m\n\u001b[1;32m   4410\u001b[0m             \u001b[0;32mtry\u001b[0m\u001b[0;34m:\u001b[0m\u001b[0;34m\u001b[0m\u001b[0;34m\u001b[0m\u001b[0m\n\u001b[0;32m-> 4411\u001b[0;31m                 \u001b[0;32mreturn\u001b[0m \u001b[0mlibindex\u001b[0m\u001b[0;34m.\u001b[0m\u001b[0mget_value_at\u001b[0m\u001b[0;34m(\u001b[0m\u001b[0ms\u001b[0m\u001b[0;34m,\u001b[0m \u001b[0mkey\u001b[0m\u001b[0;34m)\u001b[0m\u001b[0;34m\u001b[0m\u001b[0;34m\u001b[0m\u001b[0m\n\u001b[0m\u001b[1;32m   4412\u001b[0m             \u001b[0;32mexcept\u001b[0m \u001b[0mIndexError\u001b[0m\u001b[0;34m:\u001b[0m\u001b[0;34m\u001b[0m\u001b[0;34m\u001b[0m\u001b[0m\n",
      "\u001b[0;32mpandas/_libs/index.pyx\u001b[0m in \u001b[0;36mpandas._libs.index.get_value_at\u001b[0;34m()\u001b[0m\n",
      "\u001b[0;32mpandas/_libs/index.pyx\u001b[0m in \u001b[0;36mpandas._libs.index.get_value_at\u001b[0;34m()\u001b[0m\n",
      "\u001b[0;32mpandas/_libs/util.pxd\u001b[0m in \u001b[0;36mpandas._libs.util.get_value_at\u001b[0;34m()\u001b[0m\n",
      "\u001b[0;32mpandas/_libs/util.pxd\u001b[0m in \u001b[0;36mpandas._libs.util.validate_indexer\u001b[0;34m()\u001b[0m\n",
      "\u001b[0;31mTypeError\u001b[0m: 'str' object cannot be interpreted as an integer",
      "\nDuring handling of the above exception, another exception occurred:\n",
      "\u001b[0;31mKeyError\u001b[0m                                  Traceback (most recent call last)",
      "\u001b[0;32m<ipython-input-185-67e7c3274ba8>\u001b[0m in \u001b[0;36m<module>\u001b[0;34m\u001b[0m\n\u001b[1;32m      3\u001b[0m     \u001b[0mstats_overall\u001b[0m\u001b[0;34m=\u001b[0m\u001b[0mdata\u001b[0m\u001b[0;34m[\u001b[0m\u001b[0;34m\"P04\"\u001b[0m\u001b[0;34m]\u001b[0m\u001b[0;34m[\u001b[0m\u001b[0;34m\"stats\"\u001b[0m\u001b[0;34m]\u001b[0m\u001b[0;34m[\u001b[0m\u001b[0;34m\"overall\"\u001b[0m\u001b[0;34m]\u001b[0m\u001b[0;34m\u001b[0m\u001b[0;34m\u001b[0m\u001b[0m\n\u001b[1;32m      4\u001b[0m \u001b[0;34m\u001b[0m\u001b[0m\n\u001b[0;32m----> 5\u001b[0;31m     \u001b[0mworkflow_ai\u001b[0m\u001b[0;34m.\u001b[0m\u001b[0mappend\u001b[0m\u001b[0;34m(\u001b[0m\u001b[0mstats_overall\u001b[0m\u001b[0;34m[\u001b[0m\u001b[0;34m\"AI\"\u001b[0m\u001b[0;34m]\u001b[0m\u001b[0;34m[\u001b[0m\u001b[0;34m\"Normal\"\u001b[0m\u001b[0;34m]\u001b[0m\u001b[0;34m)\u001b[0m\u001b[0;34m\u001b[0m\u001b[0;34m\u001b[0m\u001b[0m\n\u001b[0m\u001b[1;32m      6\u001b[0m     \u001b[0mworkflow_human\u001b[0m\u001b[0;34m.\u001b[0m\u001b[0mappend\u001b[0m\u001b[0;34m(\u001b[0m\u001b[0mstats_overall\u001b[0m\u001b[0;34m[\u001b[0m\u001b[0;34m\"Human\"\u001b[0m\u001b[0;34m]\u001b[0m\u001b[0;34m[\u001b[0m\u001b[0;34m\"Normal\"\u001b[0m\u001b[0;34m]\u001b[0m\u001b[0;34m)\u001b[0m\u001b[0;34m\u001b[0m\u001b[0;34m\u001b[0m\u001b[0m\n\u001b[1;32m      7\u001b[0m     \u001b[0mworkflow_env\u001b[0m\u001b[0;34m.\u001b[0m\u001b[0mappend\u001b[0m\u001b[0;34m(\u001b[0m\u001b[0mstats_overall\u001b[0m\u001b[0;34m[\u001b[0m\u001b[0;34m\"Env\"\u001b[0m\u001b[0;34m]\u001b[0m\u001b[0;34m[\u001b[0m\u001b[0;34m\"Normal\"\u001b[0m\u001b[0;34m]\u001b[0m\u001b[0;34m)\u001b[0m\u001b[0;34m\u001b[0m\u001b[0;34m\u001b[0m\u001b[0m\n",
      "\u001b[0;32m~/opt/anaconda3/lib/python3.8/site-packages/pandas/core/series.py\u001b[0m in \u001b[0;36m__getitem__\u001b[0;34m(self, key)\u001b[0m\n\u001b[1;32m    869\u001b[0m         \u001b[0mkey\u001b[0m \u001b[0;34m=\u001b[0m \u001b[0mcom\u001b[0m\u001b[0;34m.\u001b[0m\u001b[0mapply_if_callable\u001b[0m\u001b[0;34m(\u001b[0m\u001b[0mkey\u001b[0m\u001b[0;34m,\u001b[0m \u001b[0mself\u001b[0m\u001b[0;34m)\u001b[0m\u001b[0;34m\u001b[0m\u001b[0;34m\u001b[0m\u001b[0m\n\u001b[1;32m    870\u001b[0m         \u001b[0;32mtry\u001b[0m\u001b[0;34m:\u001b[0m\u001b[0;34m\u001b[0m\u001b[0;34m\u001b[0m\u001b[0m\n\u001b[0;32m--> 871\u001b[0;31m             \u001b[0mresult\u001b[0m \u001b[0;34m=\u001b[0m \u001b[0mself\u001b[0m\u001b[0;34m.\u001b[0m\u001b[0mindex\u001b[0m\u001b[0;34m.\u001b[0m\u001b[0mget_value\u001b[0m\u001b[0;34m(\u001b[0m\u001b[0mself\u001b[0m\u001b[0;34m,\u001b[0m \u001b[0mkey\u001b[0m\u001b[0;34m)\u001b[0m\u001b[0;34m\u001b[0m\u001b[0;34m\u001b[0m\u001b[0m\n\u001b[0m\u001b[1;32m    872\u001b[0m \u001b[0;34m\u001b[0m\u001b[0m\n\u001b[1;32m    873\u001b[0m             \u001b[0;32mif\u001b[0m \u001b[0;32mnot\u001b[0m \u001b[0mis_scalar\u001b[0m\u001b[0;34m(\u001b[0m\u001b[0mresult\u001b[0m\u001b[0;34m)\u001b[0m\u001b[0;34m:\u001b[0m\u001b[0;34m\u001b[0m\u001b[0;34m\u001b[0m\u001b[0m\n",
      "\u001b[0;32m~/opt/anaconda3/lib/python3.8/site-packages/pandas/core/indexes/base.py\u001b[0m in \u001b[0;36mget_value\u001b[0;34m(self, series, key)\u001b[0m\n\u001b[1;32m   4417\u001b[0m                     \u001b[0;32mraise\u001b[0m \u001b[0mInvalidIndexError\u001b[0m\u001b[0;34m(\u001b[0m\u001b[0mkey\u001b[0m\u001b[0;34m)\u001b[0m\u001b[0;34m\u001b[0m\u001b[0;34m\u001b[0m\u001b[0m\n\u001b[1;32m   4418\u001b[0m                 \u001b[0;32melse\u001b[0m\u001b[0;34m:\u001b[0m\u001b[0;34m\u001b[0m\u001b[0;34m\u001b[0m\u001b[0m\n\u001b[0;32m-> 4419\u001b[0;31m                     \u001b[0;32mraise\u001b[0m \u001b[0me1\u001b[0m\u001b[0;34m\u001b[0m\u001b[0;34m\u001b[0m\u001b[0m\n\u001b[0m\u001b[1;32m   4420\u001b[0m             \u001b[0;32mexcept\u001b[0m \u001b[0mException\u001b[0m\u001b[0;34m:\u001b[0m\u001b[0;34m\u001b[0m\u001b[0;34m\u001b[0m\u001b[0m\n\u001b[1;32m   4421\u001b[0m                 \u001b[0;32mraise\u001b[0m \u001b[0me1\u001b[0m\u001b[0;34m\u001b[0m\u001b[0;34m\u001b[0m\u001b[0m\n",
      "\u001b[0;32m~/opt/anaconda3/lib/python3.8/site-packages/pandas/core/indexes/base.py\u001b[0m in \u001b[0;36mget_value\u001b[0;34m(self, series, key)\u001b[0m\n\u001b[1;32m   4403\u001b[0m         \u001b[0mk\u001b[0m \u001b[0;34m=\u001b[0m \u001b[0mself\u001b[0m\u001b[0;34m.\u001b[0m\u001b[0m_convert_scalar_indexer\u001b[0m\u001b[0;34m(\u001b[0m\u001b[0mk\u001b[0m\u001b[0;34m,\u001b[0m \u001b[0mkind\u001b[0m\u001b[0;34m=\u001b[0m\u001b[0;34m\"getitem\"\u001b[0m\u001b[0;34m)\u001b[0m\u001b[0;34m\u001b[0m\u001b[0;34m\u001b[0m\u001b[0m\n\u001b[1;32m   4404\u001b[0m         \u001b[0;32mtry\u001b[0m\u001b[0;34m:\u001b[0m\u001b[0;34m\u001b[0m\u001b[0;34m\u001b[0m\u001b[0m\n\u001b[0;32m-> 4405\u001b[0;31m             \u001b[0;32mreturn\u001b[0m \u001b[0mself\u001b[0m\u001b[0;34m.\u001b[0m\u001b[0m_engine\u001b[0m\u001b[0;34m.\u001b[0m\u001b[0mget_value\u001b[0m\u001b[0;34m(\u001b[0m\u001b[0ms\u001b[0m\u001b[0;34m,\u001b[0m \u001b[0mk\u001b[0m\u001b[0;34m,\u001b[0m \u001b[0mtz\u001b[0m\u001b[0;34m=\u001b[0m\u001b[0mgetattr\u001b[0m\u001b[0;34m(\u001b[0m\u001b[0mseries\u001b[0m\u001b[0;34m.\u001b[0m\u001b[0mdtype\u001b[0m\u001b[0;34m,\u001b[0m \u001b[0;34m\"tz\"\u001b[0m\u001b[0;34m,\u001b[0m \u001b[0;32mNone\u001b[0m\u001b[0;34m)\u001b[0m\u001b[0;34m)\u001b[0m\u001b[0;34m\u001b[0m\u001b[0;34m\u001b[0m\u001b[0m\n\u001b[0m\u001b[1;32m   4406\u001b[0m         \u001b[0;32mexcept\u001b[0m \u001b[0mKeyError\u001b[0m \u001b[0;32mas\u001b[0m \u001b[0me1\u001b[0m\u001b[0;34m:\u001b[0m\u001b[0;34m\u001b[0m\u001b[0;34m\u001b[0m\u001b[0m\n\u001b[1;32m   4407\u001b[0m             \u001b[0;32mif\u001b[0m \u001b[0mlen\u001b[0m\u001b[0;34m(\u001b[0m\u001b[0mself\u001b[0m\u001b[0;34m)\u001b[0m \u001b[0;34m>\u001b[0m \u001b[0;36m0\u001b[0m \u001b[0;32mand\u001b[0m \u001b[0;34m(\u001b[0m\u001b[0mself\u001b[0m\u001b[0;34m.\u001b[0m\u001b[0mholds_integer\u001b[0m\u001b[0;34m(\u001b[0m\u001b[0;34m)\u001b[0m \u001b[0;32mor\u001b[0m \u001b[0mself\u001b[0m\u001b[0;34m.\u001b[0m\u001b[0mis_boolean\u001b[0m\u001b[0;34m(\u001b[0m\u001b[0;34m)\u001b[0m\u001b[0;34m)\u001b[0m\u001b[0;34m:\u001b[0m\u001b[0;34m\u001b[0m\u001b[0;34m\u001b[0m\u001b[0m\n",
      "\u001b[0;32mpandas/_libs/index.pyx\u001b[0m in \u001b[0;36mpandas._libs.index.IndexEngine.get_value\u001b[0;34m()\u001b[0m\n",
      "\u001b[0;32mpandas/_libs/index.pyx\u001b[0m in \u001b[0;36mpandas._libs.index.IndexEngine.get_value\u001b[0;34m()\u001b[0m\n",
      "\u001b[0;32mpandas/_libs/index.pyx\u001b[0m in \u001b[0;36mpandas._libs.index.IndexEngine.get_loc\u001b[0;34m()\u001b[0m\n",
      "\u001b[0;32mpandas/_libs/hashtable_class_helper.pxi\u001b[0m in \u001b[0;36mpandas._libs.hashtable.PyObjectHashTable.get_item\u001b[0;34m()\u001b[0m\n",
      "\u001b[0;32mpandas/_libs/hashtable_class_helper.pxi\u001b[0m in \u001b[0;36mpandas._libs.hashtable.PyObjectHashTable.get_item\u001b[0;34m()\u001b[0m\n",
      "\u001b[0;31mKeyError\u001b[0m: 'Normal'"
     ]
    }
   ],
   "source": [
    "for p in data:\n",
    "    participants.append(p)\n",
    "    stats_overall=data[\"P04\"][\"stats\"][\"overall\"]\n",
    "    \n",
    "    workflow_ai.append(stats_overall[\"AI\"][\"Normal\"])\n",
    "    workflow_human.append(stats_overall[\"Human\"][\"Normal\"])\n",
    "    workflow_env.append(stats_overall[\"Env\"][\"Normal\"])\n",
    "    \n",
    "    conf_ai.append(stats_overall[\"AI\"][\"Confusion\"])\n",
    "    conf_human.append(stats_overall[\"Human\"][\"Confusion\"])\n",
    "    conf_env.append(stats_overall[\"Env\"][\"Confusion\"])\n",
    "    \n",
    "    err_ai.append(stats_overall[\"AI\"][\"Error\"])\n",
    "    err_human.append(stats_overall[\"Human\"][\"Error\"])\n",
    "    err_env.append(stats_overall[\"Env\"][\"Error\"])\n",
    "    "
   ]
  },
  {
   "cell_type": "code",
   "execution_count": 177,
   "id": "2a45256e",
   "metadata": {},
   "outputs": [],
   "source": [
    "# export collected data to csv for analysis in spss\n",
    "spss_data = {'participant_id': participants, \n",
    "             'Workflow_AI': workflow_ai, 'Workflow_Human': workflow_human, 'Workflow_Env': workflow_env, \n",
    "             'Conf_AI': conf_ai, 'Conf_Human': conf_human, 'Conf_Env': conf_env,\n",
    "             'Err_AI': err_ai, 'Err_Human': err_human, 'Err_Env': err_env,}\n",
    "spss_df = pd.DataFrame(data=spss_data)\n",
    "#spss_df.to_csv(index=False, \"data_for_spss\")"
   ]
  },
  {
   "cell_type": "code",
   "execution_count": 178,
   "id": "bf80e685",
   "metadata": {},
   "outputs": [
    {
     "data": {
      "text/html": [
       "<div>\n",
       "<style scoped>\n",
       "    .dataframe tbody tr th:only-of-type {\n",
       "        vertical-align: middle;\n",
       "    }\n",
       "\n",
       "    .dataframe tbody tr th {\n",
       "        vertical-align: top;\n",
       "    }\n",
       "\n",
       "    .dataframe thead th {\n",
       "        text-align: right;\n",
       "    }\n",
       "</style>\n",
       "<table border=\"1\" class=\"dataframe\">\n",
       "  <thead>\n",
       "    <tr style=\"text-align: right;\">\n",
       "      <th></th>\n",
       "      <th>participant_id</th>\n",
       "      <th>Workflow_AI</th>\n",
       "      <th>Workflow_Human</th>\n",
       "      <th>Workflow_Env</th>\n",
       "      <th>Conf_AI</th>\n",
       "      <th>Conf_Human</th>\n",
       "      <th>Conf_Env</th>\n",
       "      <th>Err_AI</th>\n",
       "      <th>Err_Human</th>\n",
       "      <th>Err_Env</th>\n",
       "    </tr>\n",
       "  </thead>\n",
       "  <tbody>\n",
       "  </tbody>\n",
       "</table>\n",
       "</div>"
      ],
      "text/plain": [
       "Empty DataFrame\n",
       "Columns: [participant_id, Workflow_AI, Workflow_Human, Workflow_Env, Conf_AI, Conf_Human, Conf_Env, Err_AI, Err_Human, Err_Env]\n",
       "Index: []"
      ]
     },
     "execution_count": 178,
     "metadata": {},
     "output_type": "execute_result"
    }
   ],
   "source": [
    "spss_df"
   ]
  },
  {
   "cell_type": "code",
   "execution_count": null,
   "id": "a53ef4d1",
   "metadata": {},
   "outputs": [],
   "source": []
  },
  {
   "cell_type": "code",
   "execution_count": null,
   "id": "797e8882",
   "metadata": {},
   "outputs": [],
   "source": []
  },
  {
   "cell_type": "code",
   "execution_count": null,
   "id": "06fdd854",
   "metadata": {},
   "outputs": [],
   "source": []
  },
  {
   "cell_type": "markdown",
   "id": "9736e409",
   "metadata": {},
   "source": [
    "# Old test"
   ]
  },
  {
   "cell_type": "code",
   "execution_count": 32,
   "id": "cb83ddb4",
   "metadata": {},
   "outputs": [],
   "source": [
    "test=data[\"P02\"][\"001\"]"
   ]
  },
  {
   "cell_type": "code",
   "execution_count": 52,
   "id": "66e85139",
   "metadata": {},
   "outputs": [
    {
     "name": "stderr",
     "output_type": "stream",
     "text": [
      "<ipython-input-52-dcbf52a0e5a6>:1: SettingWithCopyWarning: \n",
      "A value is trying to be set on a copy of a slice from a DataFrame\n",
      "\n",
      "See the caveats in the documentation: https://pandas.pydata.org/pandas-docs/stable/user_guide/indexing.html#returning-a-view-versus-a-copy\n",
      "  test[\"Condition\"][0:30]=\"Confusion\"\n"
     ]
    }
   ],
   "source": [
    "test[\"Condition\"][0:30]=\"Confusion\""
   ]
  },
  {
   "cell_type": "code",
   "execution_count": 53,
   "id": "25d42b6d",
   "metadata": {},
   "outputs": [
    {
     "data": {
      "text/html": [
       "<div>\n",
       "<style scoped>\n",
       "    .dataframe tbody tr th:only-of-type {\n",
       "        vertical-align: middle;\n",
       "    }\n",
       "\n",
       "    .dataframe tbody tr th {\n",
       "        vertical-align: top;\n",
       "    }\n",
       "\n",
       "    .dataframe thead th {\n",
       "        text-align: right;\n",
       "    }\n",
       "</style>\n",
       "<table border=\"1\" class=\"dataframe\">\n",
       "  <thead>\n",
       "    <tr style=\"text-align: right;\">\n",
       "      <th></th>\n",
       "      <th>Unnamed: 0</th>\n",
       "      <th>norm_pos_x</th>\n",
       "      <th>norm_pos_y</th>\n",
       "      <th>Human x</th>\n",
       "      <th>Human y</th>\n",
       "      <th>Agent x</th>\n",
       "      <th>Agent y</th>\n",
       "      <th>Frame number</th>\n",
       "      <th>gaze_to_human</th>\n",
       "      <th>gaze_to_ai</th>\n",
       "      <th>Gaze_focus</th>\n",
       "      <th>Condition</th>\n",
       "    </tr>\n",
       "  </thead>\n",
       "  <tbody>\n",
       "    <tr>\n",
       "      <th>0</th>\n",
       "      <td>0</td>\n",
       "      <td>579.062810</td>\n",
       "      <td>299.030757</td>\n",
       "      <td>624.5</td>\n",
       "      <td>365</td>\n",
       "      <td>481.0</td>\n",
       "      <td>222</td>\n",
       "      <td>0</td>\n",
       "      <td>80.102929</td>\n",
       "      <td>124.699849</td>\n",
       "      <td>Env</td>\n",
       "      <td>Confusion</td>\n",
       "    </tr>\n",
       "    <tr>\n",
       "      <th>1</th>\n",
       "      <td>1</td>\n",
       "      <td>577.224428</td>\n",
       "      <td>339.964374</td>\n",
       "      <td>624.0</td>\n",
       "      <td>364</td>\n",
       "      <td>480.5</td>\n",
       "      <td>220</td>\n",
       "      <td>1</td>\n",
       "      <td>52.589594</td>\n",
       "      <td>154.100831</td>\n",
       "      <td>Env</td>\n",
       "      <td>Confusion</td>\n",
       "    </tr>\n",
       "    <tr>\n",
       "      <th>2</th>\n",
       "      <td>2</td>\n",
       "      <td>600.289828</td>\n",
       "      <td>403.841444</td>\n",
       "      <td>624.5</td>\n",
       "      <td>364</td>\n",
       "      <td>482.0</td>\n",
       "      <td>220</td>\n",
       "      <td>2</td>\n",
       "      <td>46.620522</td>\n",
       "      <td>218.609606</td>\n",
       "      <td>Env</td>\n",
       "      <td>Confusion</td>\n",
       "    </tr>\n",
       "    <tr>\n",
       "      <th>3</th>\n",
       "      <td>3</td>\n",
       "      <td>600.842422</td>\n",
       "      <td>403.534150</td>\n",
       "      <td>624.5</td>\n",
       "      <td>364</td>\n",
       "      <td>482.0</td>\n",
       "      <td>220</td>\n",
       "      <td>3</td>\n",
       "      <td>46.072009</td>\n",
       "      <td>218.651105</td>\n",
       "      <td>Env</td>\n",
       "      <td>Confusion</td>\n",
       "    </tr>\n",
       "    <tr>\n",
       "      <th>4</th>\n",
       "      <td>4</td>\n",
       "      <td>590.888894</td>\n",
       "      <td>407.877364</td>\n",
       "      <td>624.5</td>\n",
       "      <td>364</td>\n",
       "      <td>482.0</td>\n",
       "      <td>220</td>\n",
       "      <td>4</td>\n",
       "      <td>55.271417</td>\n",
       "      <td>217.151318</td>\n",
       "      <td>Env</td>\n",
       "      <td>Confusion</td>\n",
       "    </tr>\n",
       "  </tbody>\n",
       "</table>\n",
       "</div>"
      ],
      "text/plain": [
       "   Unnamed: 0  norm_pos_x  norm_pos_y  Human x  Human y  Agent x  Agent y  \\\n",
       "0           0  579.062810  299.030757    624.5      365    481.0      222   \n",
       "1           1  577.224428  339.964374    624.0      364    480.5      220   \n",
       "2           2  600.289828  403.841444    624.5      364    482.0      220   \n",
       "3           3  600.842422  403.534150    624.5      364    482.0      220   \n",
       "4           4  590.888894  407.877364    624.5      364    482.0      220   \n",
       "\n",
       "   Frame number  gaze_to_human  gaze_to_ai Gaze_focus  Condition  \n",
       "0             0      80.102929  124.699849        Env  Confusion  \n",
       "1             1      52.589594  154.100831        Env  Confusion  \n",
       "2             2      46.620522  218.609606        Env  Confusion  \n",
       "3             3      46.072009  218.651105        Env  Confusion  \n",
       "4             4      55.271417  217.151318        Env  Confusion  "
      ]
     },
     "execution_count": 53,
     "metadata": {},
     "output_type": "execute_result"
    }
   ],
   "source": [
    "test.head()"
   ]
  },
  {
   "cell_type": "code",
   "execution_count": 57,
   "id": "38e1d99c",
   "metadata": {},
   "outputs": [
    {
     "data": {
      "text/plain": [
       "Condition  Gaze_focus\n",
       "Confusion  Env            22\n",
       "           Human           7\n",
       "           AI              1\n",
       "TODO       Env           909\n",
       "           AI             74\n",
       "Name: Gaze_focus, dtype: int64"
      ]
     },
     "execution_count": 57,
     "metadata": {},
     "output_type": "execute_result"
    }
   ],
   "source": [
    "test.groupby(\"Condition\")[\"Gaze_focus\"].value_counts()"
   ]
  },
  {
   "cell_type": "code",
   "execution_count": 87,
   "id": "269235a1",
   "metadata": {},
   "outputs": [
    {
     "data": {
      "text/html": [
       "<div>\n",
       "<style scoped>\n",
       "    .dataframe tbody tr th:only-of-type {\n",
       "        vertical-align: middle;\n",
       "    }\n",
       "\n",
       "    .dataframe tbody tr th {\n",
       "        vertical-align: top;\n",
       "    }\n",
       "\n",
       "    .dataframe thead th {\n",
       "        text-align: right;\n",
       "    }\n",
       "</style>\n",
       "<table border=\"1\" class=\"dataframe\">\n",
       "  <thead>\n",
       "    <tr style=\"text-align: right;\">\n",
       "      <th>Gaze_focus</th>\n",
       "      <th>AI</th>\n",
       "      <th>Env</th>\n",
       "      <th>Human</th>\n",
       "    </tr>\n",
       "    <tr>\n",
       "      <th>Condition</th>\n",
       "      <th></th>\n",
       "      <th></th>\n",
       "      <th></th>\n",
       "    </tr>\n",
       "  </thead>\n",
       "  <tbody>\n",
       "    <tr>\n",
       "      <th>Confusion</th>\n",
       "      <td>0.033333</td>\n",
       "      <td>0.733333</td>\n",
       "      <td>0.233333</td>\n",
       "    </tr>\n",
       "    <tr>\n",
       "      <th>TODO</th>\n",
       "      <td>0.075280</td>\n",
       "      <td>0.924720</td>\n",
       "      <td>0.000000</td>\n",
       "    </tr>\n",
       "  </tbody>\n",
       "</table>\n",
       "</div>"
      ],
      "text/plain": [
       "Gaze_focus        AI       Env     Human\n",
       "Condition                               \n",
       "Confusion   0.033333  0.733333  0.233333\n",
       "TODO        0.075280  0.924720  0.000000"
      ]
     },
     "execution_count": 87,
     "metadata": {},
     "output_type": "execute_result"
    }
   ],
   "source": [
    "test.groupby(\"Condition\")[\"Gaze_focus\"].value_counts(normalize=True).unstack().fillna(0)\n"
   ]
  },
  {
   "cell_type": "code",
   "execution_count": 188,
   "id": "b268f0c5",
   "metadata": {},
   "outputs": [
    {
     "data": {
      "text/plain": [
       "<AxesSubplot:xlabel='Condition'>"
      ]
     },
     "execution_count": 188,
     "metadata": {},
     "output_type": "execute_result"
    },
    {
     "data": {
      "image/png": "[encoded data removed]",
      "text/plain": [
       "<Figure size 432x288 with 1 Axes>"
      ]
     },
     "metadata": {
      "needs_background": "light"
     },
     "output_type": "display_data"
    }
   ],
   "source": [
    "test.groupby(\"Condition\")[\"Gaze_focus\"].value_counts(normalize=True).unstack().plot(kind=\"bar\")"
   ]
  },
  {
   "cell_type": "code",
   "execution_count": 203,
   "id": "059aff28",
   "metadata": {},
   "outputs": [
    {
     "data": {
      "image/png": "[encoded data removed]",
      "text/plain": [
       "<Figure size 432x288 with 1 Axes>"
      ]
     },
     "metadata": {
      "needs_background": "light"
     },
     "output_type": "display_data"
    }
   ],
   "source": [
    "a = test.groupby(\"Condition\")[\"Gaze_focus\"].value_counts(normalize=True).unstack().plot(kind=\"bar\", yerr=[0.04,0.01])"
   ]
  },
  {
   "cell_type": "code",
   "execution_count": null,
   "id": "ebf188bc",
   "metadata": {},
   "outputs": [],
   "source": []
  }
 ],
 "metadata": {
  "kernelspec": {
   "display_name": "Python 3",
   "language": "python",
   "name": "python3"
  },
  "language_info": {
   "codemirror_mode": {
    "name": "ipython",
    "version": 3
   },
   "file_extension": ".py",
   "mimetype": "text/x-python",
   "name": "python",
   "nbconvert_exporter": "python",
   "pygments_lexer": "ipython3",
   "version": "3.8.8"
  }
 },
 "nbformat": 4,
 "nbformat_minor": 5
}
