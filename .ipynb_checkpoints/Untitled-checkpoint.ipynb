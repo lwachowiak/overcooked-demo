{
 "cells": [
  {
   "cell_type": "code",
   "execution_count": 2,
   "id": "e51c13f3",
   "metadata": {},
   "outputs": [
    {
     "name": "stdout",
     "output_type": "stream",
     "text": [
      "README.md          docker-compose.yml \u001b[34mserver\u001b[m\u001b[m\r\n",
      "Untitled.ipynb     \u001b[31mdown.sh\u001b[m\u001b[m            \u001b[31mup.sh\u001b[m\u001b[m\r\n"
     ]
    }
   ],
   "source": [
    "!ls"
   ]
  },
  {
   "cell_type": "code",
   "execution_count": 5,
   "id": "9a3ea53a",
   "metadata": {},
   "outputs": [
    {
     "name": "stdout",
     "output_type": "stream",
     "text": [
      "/Users/lennartwachowiak/Documents/GitHub/overcooked-demo/server\n"
     ]
    }
   ],
   "source": [
    "%cd server"
   ]
  },
  {
   "cell_type": "code",
   "execution_count": 10,
   "id": "cceb28e2",
   "metadata": {},
   "outputs": [
    {
     "name": "stdout",
     "output_type": "stream",
     "text": [
      "/Users/lennartwachowiak/Documents/GitHub/overcooked-demo/server/static\n"
     ]
    }
   ],
   "source": [
    "%cd static/"
   ]
  },
  {
   "cell_type": "code",
   "execution_count": 12,
   "id": "62ef64ca",
   "metadata": {},
   "outputs": [
    {
     "name": "stdout",
     "output_type": "stream",
     "text": [
      "/Users/lennartwachowiak/Documents/GitHub/overcooked-demo/server/static/assets/agents\n"
     ]
    }
   ],
   "source": [
    "%cd assets/agents"
   ]
  },
  {
   "cell_type": "code",
   "execution_count": 14,
   "id": "62dd852c",
   "metadata": {},
   "outputs": [
    {
     "name": "stdout",
     "output_type": "stream",
     "text": [
      "/Users/lennartwachowiak/Documents/GitHub/overcooked-demo/server/static/assets/agents/RandAI\n"
     ]
    }
   ],
   "source": [
    "%cd RandAI"
   ]
  },
  {
   "cell_type": "code",
   "execution_count": null,
   "id": "9e02ed36",
   "metadata": {},
   "outputs": [],
   "source": []
  },
  {
   "cell_type": "code",
   "execution_count": 16,
   "id": "aab171a4",
   "metadata": {},
   "outputs": [],
   "source": [
    "import pickle\n"
   ]
  },
  {
   "cell_type": "code",
   "execution_count": null,
   "id": "7d426032",
   "metadata": {},
   "outputs": [],
   "source": [
    "f = open(\"filename\",'rb')\n",
    "agent = pickle.load(f)\n",
    "f.close()"
   ]
  },
  {
   "cell_type": "code",
   "execution_count": null,
   "id": "b4c6545e",
   "metadata": {},
   "outputs": [],
   "source": [
    "agent="
   ]
  }
 ],
 "metadata": {
  "kernelspec": {
   "display_name": "Python [conda env:overcooked-demo visualization]",
   "language": "python",
   "name": "conda-env-overcooked-demo_visualization-py"
  },
  "language_info": {
   "codemirror_mode": {
    "name": "ipython",
    "version": 3
   },
   "file_extension": ".py",
   "mimetype": "text/x-python",
   "name": "python",
   "nbconvert_exporter": "python",
   "pygments_lexer": "ipython3",
   "version": "3.8.12"
  }
 },
 "nbformat": 4,
 "nbformat_minor": 5
}
